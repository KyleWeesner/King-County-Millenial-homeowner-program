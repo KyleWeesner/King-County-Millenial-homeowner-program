{
 "cells": [
  {
   "cell_type": "markdown",
   "metadata": {},
   "source": [
    "# King County Millenial homeowner program\n",
    "\n",
    "**Buying a property in King County recommendations for Millennials**\n",
    "\n",
    "**Authors:** Hanis Zulmuthi, Greg Burgess, Kyle Weesner\n",
    "\n",
    "***March 2022***\n"
   ]
  },
  {
   "cell_type": "markdown",
   "metadata": {},
   "source": [
    "<img src=\"https://www.condosky.com/wp-content/uploads/2019/06/Young-Families-Condos-Toronto-e1561577724820.jpg\" alt=\"A picture of a multiracial family sitting on the floor together surrounded by moving boxes\" title=\"\" />"
   ]
  },
  {
   "cell_type": "markdown",
   "metadata": {},
   "source": [
    "# Overview\n",
    "\n",
    "King County in Washington State is growing in population made up of millenials and generation Z who either grew up or migrated to the area and found life in the region. We, the Data Analysts at the Greek Honey real estate are woking on building a model that predicts house prices in King county with the goal to help folks from the demographic to find their dream house that fits their lifestyle and their pockets! \n",
    "\n",
    "# ADD A SUMMARY OF RESULTS HERE"
   ]
  },
  {
   "cell_type": "markdown",
   "metadata": {},
   "source": [
    "## Business Problem\n",
    "\n",
    "Housing market in King County region, especially in the major cities such as Seattle, are becoming more and more financially inaccessible for many demographics. The demographic of interest for our real-estate is millenials who are building their career, family and trying to break into the housing market to have a stable housing for themselves. With our house price predicition model, we will help them to find the market value of their ideal house that are in proximity to city centers."
   ]
  },
  {
   "cell_type": "markdown",
   "metadata": {},
   "source": [
    "## Data Understanding\n",
    "\n",
    "### 1. King County Housing data ([kc_house_data.csv](https://github.com/hanis-z/Phase-2-project/blob/main/data/kc_house_data.csv))\n",
    "**Source:** This data was provided to us by Flatiron School. This data file is available in the project repo in the folder \"data\". \n",
    "\n",
    "**Contents:**\n",
    "\n",
    "### 2. Incorporated & Unincorporated cities in King county\n",
    "**Source:** We downloaded this data from [King County GIS website]( https://gis-kingcounty.opendata.arcgis.com/datasets/kingcounty::cities-and-unincorporated-king-county-city-kc-area/explore?location=47.430582%2C-121.809200%2C10.02). The data is also easily accessible in our project repo in the folder \"data\".\n",
    "\n",
    "**Contents:**\n",
    "\n",
    "### 3. Neighborhood Map of Seattle\n",
    "**Source:** We attained this data from [Seattle city GIS website](https://data-seattlecitygis.opendata.arcgis.com/datasets/neighborhood-map-atlas-districts/explore?location=47.628714%2C-122.338313%2C11.43]). This data is also easily accessible in our project repo in the folder \"data\".\n",
    "\n",
    "**Contents:**\n"
   ]
  },
  {
   "cell_type": "markdown",
   "metadata": {},
   "source": [
    "### Importing python libraries required for the analysis.\n",
    "\n",
    "**Note:** To ensure that all packages are loaded successfully, please ensure that you are in the right python environment. For more reference, refer the (how-to-set-environment)[link to the file] to ensure you have the correct working environment to run this notebook."
   ]
  },
  {
   "cell_type": "code",
   "execution_count": 136,
   "metadata": {},
   "outputs": [],
   "source": [
    "import pandas as pd\n",
    "import numpy as np\n",
    "import seaborn as sns\n",
    "import matplotlib.pyplot as plt\n",
    "%matplotlib inline\n",
    "import warnings\n",
    "warnings.filterwarnings('ignore')\n",
    "\n",
    "import fiona\n",
    "import geopandas as gpd\n",
    "from shapely.geometry import Point\n",
    "import pyproj\n",
    "import folium\n",
    "\n",
    "import statsmodels.api as sm\n",
    "from statsmodels.formula.api import ols\n",
    "\n",
    "\n",
    "from sklearn.linear_model import LinearRegression\n",
    "from sklearn.metrics import mean_squared_error\n",
    "from sklearn.dummy import DummyRegressor\n",
    "from sklearn.model_selection import train_test_split\n",
    "from sklearn.preprocessing import StandardScaler, OrdinalEncoder, OneHotEncoder, PolynomialFeatures\n",
    "from sklearn.compose import ColumnTransformer\n",
    "from sklearn.feature_selection import RFE\n",
    "from pandas.api.types import is_numeric_dtype\n"
   ]
  },
  {
   "cell_type": "markdown",
   "metadata": {},
   "source": [
    "### Define Helper Functions for analysis"
   ]
  },
  {
   "cell_type": "code",
   "execution_count": 33,
   "metadata": {},
   "outputs": [],
   "source": [
    "def dataframe_info(df):\n",
    "    '''\n",
    "    Takes Pandas dataframe (df). Prints number of rows, number of columns, and three sample rows.\n",
    "    Returns list of numerical columns and list of non-numerical columns.\n",
    "    '''\n",
    "    numeric_cols = df.select_dtypes(include=np.number).columns.tolist()\n",
    "    object_cols  = df.select_dtypes(exclude=np.number).columns.tolist()\n",
    "\n",
    "    nrows, ncol = df.shape\n",
    "    nmid = nrows // 2\n",
    "    \n",
    "    print(f\"Dimensions: {nrows} rows and {ncol} columns\")\n",
    "    print(f\"Numeric columns: {len(numeric_cols)}\")\n",
    "    print(f\"Object columns: {len(object_cols)}\")\n",
    "\n",
    "    display(df.iloc[[0,nmid,nrows-1]]) # show three rows: first, mid, and last\n",
    "\n",
    "    return numeric_cols, object_cols"
   ]
  },
  {
   "cell_type": "code",
   "execution_count": null,
   "metadata": {},
   "outputs": [],
   "source": []
  },
  {
   "cell_type": "markdown",
   "metadata": {},
   "source": [
    "## Data Exploration & Preparation\n"
   ]
  },
  {
   "cell_type": "markdown",
   "metadata": {},
   "source": [
    "### Load King County Housing data"
   ]
  },
  {
   "cell_type": "code",
   "execution_count": 7,
   "metadata": {},
   "outputs": [],
   "source": [
    "housing_df = pd.read_csv('data/housing_gdf_complete.csv')\n",
    "housing_df= gpd.GeoDataFrame(housing_df, crs=\"EPSG:4326\")"
   ]
  },
  {
   "cell_type": "code",
   "execution_count": 34,
   "metadata": {},
   "outputs": [
    {
     "name": "stdout",
     "output_type": "stream",
     "text": [
      "Dimensions: 21596 rows and 28 columns\n",
      "Numeric columns: 17\n",
      "Object columns: 11\n"
     ]
    },
    {
     "data": {
      "text/html": [
       "<div>\n",
       "<style scoped>\n",
       "    .dataframe tbody tr th:only-of-type {\n",
       "        vertical-align: middle;\n",
       "    }\n",
       "\n",
       "    .dataframe tbody tr th {\n",
       "        vertical-align: top;\n",
       "    }\n",
       "\n",
       "    .dataframe thead th {\n",
       "        text-align: right;\n",
       "    }\n",
       "</style>\n",
       "<table border=\"1\" class=\"dataframe\">\n",
       "  <thead>\n",
       "    <tr style=\"text-align: right;\">\n",
       "      <th></th>\n",
       "      <th>Unnamed: 0</th>\n",
       "      <th>id</th>\n",
       "      <th>date</th>\n",
       "      <th>price</th>\n",
       "      <th>bedrooms</th>\n",
       "      <th>bathrooms</th>\n",
       "      <th>sqft_living</th>\n",
       "      <th>sqft_lot</th>\n",
       "      <th>floors</th>\n",
       "      <th>waterfront</th>\n",
       "      <th>...</th>\n",
       "      <th>lat</th>\n",
       "      <th>long</th>\n",
       "      <th>sqft_living15</th>\n",
       "      <th>sqft_lot15</th>\n",
       "      <th>coord</th>\n",
       "      <th>geometry</th>\n",
       "      <th>city</th>\n",
       "      <th>dist_seattle</th>\n",
       "      <th>neighborhood</th>\n",
       "      <th>in_seattle</th>\n",
       "    </tr>\n",
       "  </thead>\n",
       "  <tbody>\n",
       "    <tr>\n",
       "      <th>0</th>\n",
       "      <td>0</td>\n",
       "      <td>8856004730</td>\n",
       "      <td>9/17/2014</td>\n",
       "      <td>199950.0</td>\n",
       "      <td>2</td>\n",
       "      <td>2.75</td>\n",
       "      <td>1590</td>\n",
       "      <td>20917</td>\n",
       "      <td>1.5</td>\n",
       "      <td>NO</td>\n",
       "      <td>...</td>\n",
       "      <td>47.2786</td>\n",
       "      <td>-122.250</td>\n",
       "      <td>1310</td>\n",
       "      <td>6000</td>\n",
       "      <td>(-122.25, 47.2786)</td>\n",
       "      <td>POINT (392815.9311460542 31962.040946318088)</td>\n",
       "      <td>Algona</td>\n",
       "      <td>38.586298</td>\n",
       "      <td>NaN</td>\n",
       "      <td>False</td>\n",
       "    </tr>\n",
       "    <tr>\n",
       "      <th>10798</th>\n",
       "      <td>10798</td>\n",
       "      <td>7237500590</td>\n",
       "      <td>11/17/2014</td>\n",
       "      <td>1320000.0</td>\n",
       "      <td>4</td>\n",
       "      <td>5.25</td>\n",
       "      <td>6110</td>\n",
       "      <td>10369</td>\n",
       "      <td>2.0</td>\n",
       "      <td>NO</td>\n",
       "      <td>...</td>\n",
       "      <td>47.5285</td>\n",
       "      <td>-122.135</td>\n",
       "      <td>4190</td>\n",
       "      <td>10762</td>\n",
       "      <td>(-122.135, 47.5285)</td>\n",
       "      <td>POINT (401985.90108066204 59588.48465827319)</td>\n",
       "      <td>Newcastle</td>\n",
       "      <td>19.145332</td>\n",
       "      <td>NaN</td>\n",
       "      <td>False</td>\n",
       "    </tr>\n",
       "    <tr>\n",
       "      <th>21595</th>\n",
       "      <td>21595</td>\n",
       "      <td>9808100150</td>\n",
       "      <td>4/2/2015</td>\n",
       "      <td>3350000.0</td>\n",
       "      <td>5</td>\n",
       "      <td>3.75</td>\n",
       "      <td>5350</td>\n",
       "      <td>15360</td>\n",
       "      <td>1.0</td>\n",
       "      <td>NO</td>\n",
       "      <td>...</td>\n",
       "      <td>47.6480</td>\n",
       "      <td>-122.218</td>\n",
       "      <td>3740</td>\n",
       "      <td>15940</td>\n",
       "      <td>(-122.218, 47.648)</td>\n",
       "      <td>POINT (395975.83394082234 72981.52286293103)</td>\n",
       "      <td>Yarrow Point</td>\n",
       "      <td>10.564303</td>\n",
       "      <td>NaN</td>\n",
       "      <td>False</td>\n",
       "    </tr>\n",
       "  </tbody>\n",
       "</table>\n",
       "<p>3 rows × 28 columns</p>\n",
       "</div>"
      ],
      "text/plain": [
       "       Unnamed: 0          id        date      price  bedrooms  bathrooms  \\\n",
       "0               0  8856004730   9/17/2014   199950.0         2       2.75   \n",
       "10798       10798  7237500590  11/17/2014  1320000.0         4       5.25   \n",
       "21595       21595  9808100150    4/2/2015  3350000.0         5       3.75   \n",
       "\n",
       "       sqft_living  sqft_lot  floors waterfront  ...      lat     long  \\\n",
       "0             1590     20917     1.5         NO  ...  47.2786 -122.250   \n",
       "10798         6110     10369     2.0         NO  ...  47.5285 -122.135   \n",
       "21595         5350     15360     1.0         NO  ...  47.6480 -122.218   \n",
       "\n",
       "      sqft_living15  sqft_lot15                coord  \\\n",
       "0              1310        6000   (-122.25, 47.2786)   \n",
       "10798          4190       10762  (-122.135, 47.5285)   \n",
       "21595          3740       15940   (-122.218, 47.648)   \n",
       "\n",
       "                                           geometry          city  \\\n",
       "0      POINT (392815.9311460542 31962.040946318088)        Algona   \n",
       "10798  POINT (401985.90108066204 59588.48465827319)     Newcastle   \n",
       "21595  POINT (395975.83394082234 72981.52286293103)  Yarrow Point   \n",
       "\n",
       "       dist_seattle  neighborhood  in_seattle  \n",
       "0         38.586298           NaN       False  \n",
       "10798     19.145332           NaN       False  \n",
       "21595     10.564303           NaN       False  \n",
       "\n",
       "[3 rows x 28 columns]"
      ]
     },
     "metadata": {},
     "output_type": "display_data"
    },
    {
     "data": {
      "text/plain": [
       "(['Unnamed: 0',\n",
       "  'id',\n",
       "  'price',\n",
       "  'bedrooms',\n",
       "  'bathrooms',\n",
       "  'sqft_living',\n",
       "  'sqft_lot',\n",
       "  'floors',\n",
       "  'sqft_above',\n",
       "  'yr_built',\n",
       "  'yr_renovated',\n",
       "  'zipcode',\n",
       "  'lat',\n",
       "  'long',\n",
       "  'sqft_living15',\n",
       "  'sqft_lot15',\n",
       "  'dist_seattle'],\n",
       " ['date',\n",
       "  'waterfront',\n",
       "  'view',\n",
       "  'condition',\n",
       "  'grade',\n",
       "  'sqft_basement',\n",
       "  'coord',\n",
       "  'geometry',\n",
       "  'city',\n",
       "  'neighborhood',\n",
       "  'in_seattle'])"
      ]
     },
     "execution_count": 34,
     "metadata": {},
     "output_type": "execute_result"
    }
   ],
   "source": [
    "dataframe_info(housing_df)"
   ]
  },
  {
   "cell_type": "code",
   "execution_count": 10,
   "metadata": {},
   "outputs": [],
   "source": [
    "housing_df['dist_seattle'] = housing_df['dist_seattle']/1000"
   ]
  },
  {
   "cell_type": "markdown",
   "metadata": {},
   "source": [
    "### Load shapefile data for cities in King county"
   ]
  },
  {
   "cell_type": "code",
   "execution_count": 11,
   "metadata": {},
   "outputs": [],
   "source": [
    "#Read the file in using geopandas\n",
    "kc_cities_gdf = gpd.read_file('data/Cities_and_Unincorporated_King_County___city_kc_area/Cities_and_Unincorporated_King_County___city_kc_area.shp')\n"
   ]
  },
  {
   "cell_type": "code",
   "execution_count": 12,
   "metadata": {},
   "outputs": [
    {
     "name": "stdout",
     "output_type": "stream",
     "text": [
      "<class 'geopandas.geodataframe.GeoDataFrame'>\n",
      "RangeIndex: 100 entries, 0 to 99\n",
      "Data columns (total 6 columns):\n",
      " #   Column      Non-Null Count  Dtype   \n",
      "---  ------      --------------  -----   \n",
      " 0   OBJECTID    100 non-null    int64   \n",
      " 1   JURIS       100 non-null    object  \n",
      " 2   CITYNAME    100 non-null    object  \n",
      " 3   SHAPE_Leng  100 non-null    float64 \n",
      " 4   SHAPE_Area  100 non-null    float64 \n",
      " 5   geometry    100 non-null    geometry\n",
      "dtypes: float64(2), geometry(1), int64(1), object(2)\n",
      "memory usage: 4.8+ KB\n"
     ]
    }
   ],
   "source": [
    "kc_cities_gdf.info()"
   ]
  },
  {
   "cell_type": "code",
   "execution_count": 13,
   "metadata": {},
   "outputs": [
    {
     "data": {
      "text/html": [
       "<div>\n",
       "<style scoped>\n",
       "    .dataframe tbody tr th:only-of-type {\n",
       "        vertical-align: middle;\n",
       "    }\n",
       "\n",
       "    .dataframe tbody tr th {\n",
       "        vertical-align: top;\n",
       "    }\n",
       "\n",
       "    .dataframe thead th {\n",
       "        text-align: right;\n",
       "    }\n",
       "</style>\n",
       "<table border=\"1\" class=\"dataframe\">\n",
       "  <thead>\n",
       "    <tr style=\"text-align: right;\">\n",
       "      <th></th>\n",
       "      <th>OBJECTID</th>\n",
       "      <th>JURIS</th>\n",
       "      <th>CITYNAME</th>\n",
       "      <th>SHAPE_Leng</th>\n",
       "      <th>SHAPE_Area</th>\n",
       "      <th>geometry</th>\n",
       "    </tr>\n",
       "  </thead>\n",
       "  <tbody>\n",
       "    <tr>\n",
       "      <th>0</th>\n",
       "      <td>1</td>\n",
       "      <td>AL</td>\n",
       "      <td>Algona</td>\n",
       "      <td>38144.667179</td>\n",
       "      <td>3.641105e+07</td>\n",
       "      <td>POLYGON ((-122.24022 47.29353, -122.24307 47.2...</td>\n",
       "    </tr>\n",
       "    <tr>\n",
       "      <th>1</th>\n",
       "      <td>2</td>\n",
       "      <td>AU</td>\n",
       "      <td>Auburn</td>\n",
       "      <td>209231.046799</td>\n",
       "      <td>7.856892e+08</td>\n",
       "      <td>POLYGON ((-122.22820 47.35395, -122.22546 47.3...</td>\n",
       "    </tr>\n",
       "    <tr>\n",
       "      <th>2</th>\n",
       "      <td>3</td>\n",
       "      <td>BA</td>\n",
       "      <td>Beaux Arts</td>\n",
       "      <td>6720.785802</td>\n",
       "      <td>2.274707e+06</td>\n",
       "      <td>POLYGON ((-122.20276 47.58679, -122.20276 47.5...</td>\n",
       "    </tr>\n",
       "    <tr>\n",
       "      <th>3</th>\n",
       "      <td>4</td>\n",
       "      <td>BD</td>\n",
       "      <td>Black Diamond</td>\n",
       "      <td>6629.569588</td>\n",
       "      <td>2.412697e+06</td>\n",
       "      <td>POLYGON ((-121.96191 47.28836, -121.96191 47.2...</td>\n",
       "    </tr>\n",
       "    <tr>\n",
       "      <th>4</th>\n",
       "      <td>5</td>\n",
       "      <td>BD</td>\n",
       "      <td>Black Diamond</td>\n",
       "      <td>85786.107116</td>\n",
       "      <td>1.983661e+08</td>\n",
       "      <td>POLYGON ((-122.04854 47.34368, -122.04412 47.3...</td>\n",
       "    </tr>\n",
       "  </tbody>\n",
       "</table>\n",
       "</div>"
      ],
      "text/plain": [
       "   OBJECTID JURIS       CITYNAME     SHAPE_Leng    SHAPE_Area  \\\n",
       "0         1    AL         Algona   38144.667179  3.641105e+07   \n",
       "1         2    AU         Auburn  209231.046799  7.856892e+08   \n",
       "2         3    BA     Beaux Arts    6720.785802  2.274707e+06   \n",
       "3         4    BD  Black Diamond    6629.569588  2.412697e+06   \n",
       "4         5    BD  Black Diamond   85786.107116  1.983661e+08   \n",
       "\n",
       "                                            geometry  \n",
       "0  POLYGON ((-122.24022 47.29353, -122.24307 47.2...  \n",
       "1  POLYGON ((-122.22820 47.35395, -122.22546 47.3...  \n",
       "2  POLYGON ((-122.20276 47.58679, -122.20276 47.5...  \n",
       "3  POLYGON ((-121.96191 47.28836, -121.96191 47.2...  \n",
       "4  POLYGON ((-122.04854 47.34368, -122.04412 47.3...  "
      ]
     },
     "execution_count": 13,
     "metadata": {},
     "output_type": "execute_result"
    }
   ],
   "source": [
    "kc_cities_gdf.head()"
   ]
  },
  {
   "cell_type": "markdown",
   "metadata": {},
   "source": [
    "#### Note\n",
    "\n",
    "Unincorporated cities in King County is labeled \"King County\" in the dataset. King County's official definition of Unincorporated cities is as follows:\n",
    "\n",
    "\"Rural unincorporated King County covers central and eastern King County and Vashon Island – areas outside the Urban Growth Boundary. These areas are desig- nated Rural, Agricultural or Forest Resource by the King County Comprehensive Plan.\"\n",
    "\n",
    "We will rename unincorporated cities in king county to \"Uincorporated City\""
   ]
  },
  {
   "cell_type": "code",
   "execution_count": 14,
   "metadata": {},
   "outputs": [
    {
     "data": {
      "text/plain": [
       "array(['Algona', 'Auburn', 'Beaux Arts', 'Black Diamond', 'Bellevue',\n",
       "       'Bothell', 'Burien', 'Carnation', 'Clyde Hill', 'Covington',\n",
       "       'Des Moines', 'Duvall', 'Enumclaw', 'Federal Way', 'Hunts Point',\n",
       "       'Issaquah', 'King County', 'Kent', 'Kirkland', 'Kenmore',\n",
       "       'Lake Forest Park', 'Medina', 'Mercer Island', 'Milton',\n",
       "       'Maple Valley', 'North Bend', 'Newcastle', 'Normandy Park',\n",
       "       'Pacific', 'Redmond', 'Renton', 'Seattle', 'Shoreline',\n",
       "       'Skykomish', 'Sammamish', 'Snoqualmie', 'SeaTac', 'Tukwila',\n",
       "       'Woodinville', 'Yarrow Point'], dtype=object)"
      ]
     },
     "execution_count": 14,
     "metadata": {},
     "output_type": "execute_result"
    }
   ],
   "source": [
    "#View cities\n",
    "kc_cities_gdf['CITYNAME'].unique()"
   ]
  },
  {
   "cell_type": "code",
   "execution_count": 15,
   "metadata": {},
   "outputs": [
    {
     "data": {
      "text/plain": [
       "array(['Algona', 'Auburn', 'Beaux Arts', 'Black Diamond', 'Bellevue',\n",
       "       'Bothell', 'Burien', 'Carnation', 'Clyde Hill', 'Covington',\n",
       "       'Des Moines', 'Duvall', 'Enumclaw', 'Federal Way', 'Hunts Point',\n",
       "       'Issaquah', 'Unincorporated City', 'Kent', 'Kirkland', 'Kenmore',\n",
       "       'Lake Forest Park', 'Medina', 'Mercer Island', 'Milton',\n",
       "       'Maple Valley', 'North Bend', 'Newcastle', 'Normandy Park',\n",
       "       'Pacific', 'Redmond', 'Renton', 'Seattle', 'Shoreline',\n",
       "       'Skykomish', 'Sammamish', 'Snoqualmie', 'SeaTac', 'Tukwila',\n",
       "       'Woodinville', 'Yarrow Point'], dtype=object)"
      ]
     },
     "execution_count": 15,
     "metadata": {},
     "output_type": "execute_result"
    }
   ],
   "source": [
    "#Rename \"King County\" to \"Unincorporated City\"\n",
    "kc_cities_gdf['CITYNAME'] = kc_cities_gdf['CITYNAME'].str.replace('King County', 'Unincorporated City')\n",
    "\n",
    "#Do a sniff test\n",
    "kc_cities_gdf['CITYNAME'].unique()"
   ]
  },
  {
   "cell_type": "markdown",
   "metadata": {},
   "source": [
    "We want our model to incorporate distance of properties from Seattle city center in predicting house price. So, here, we'll find the coordinates of the center of the cities."
   ]
  },
  {
   "cell_type": "code",
   "execution_count": 16,
   "metadata": {},
   "outputs": [
    {
     "data": {
      "text/html": [
       "<div>\n",
       "<style scoped>\n",
       "    .dataframe tbody tr th:only-of-type {\n",
       "        vertical-align: middle;\n",
       "    }\n",
       "\n",
       "    .dataframe tbody tr th {\n",
       "        vertical-align: top;\n",
       "    }\n",
       "\n",
       "    .dataframe thead th {\n",
       "        text-align: right;\n",
       "    }\n",
       "</style>\n",
       "<table border=\"1\" class=\"dataframe\">\n",
       "  <thead>\n",
       "    <tr style=\"text-align: right;\">\n",
       "      <th></th>\n",
       "      <th>OBJECTID</th>\n",
       "      <th>JURIS</th>\n",
       "      <th>CITYNAME</th>\n",
       "      <th>SHAPE_Leng</th>\n",
       "      <th>SHAPE_Area</th>\n",
       "      <th>geometry</th>\n",
       "      <th>centroid</th>\n",
       "    </tr>\n",
       "  </thead>\n",
       "  <tbody>\n",
       "    <tr>\n",
       "      <th>0</th>\n",
       "      <td>1</td>\n",
       "      <td>AL</td>\n",
       "      <td>Algona</td>\n",
       "      <td>38144.667179</td>\n",
       "      <td>3.641105e+07</td>\n",
       "      <td>POLYGON ((-122.24022 47.29353, -122.24307 47.2...</td>\n",
       "      <td>POINT (-122.25042 47.28199)</td>\n",
       "    </tr>\n",
       "    <tr>\n",
       "      <th>1</th>\n",
       "      <td>2</td>\n",
       "      <td>AU</td>\n",
       "      <td>Auburn</td>\n",
       "      <td>209231.046799</td>\n",
       "      <td>7.856892e+08</td>\n",
       "      <td>POLYGON ((-122.22820 47.35395, -122.22546 47.3...</td>\n",
       "      <td>POINT (-122.21086 47.30705)</td>\n",
       "    </tr>\n",
       "    <tr>\n",
       "      <th>2</th>\n",
       "      <td>3</td>\n",
       "      <td>BA</td>\n",
       "      <td>Beaux Arts</td>\n",
       "      <td>6720.785802</td>\n",
       "      <td>2.274707e+06</td>\n",
       "      <td>POLYGON ((-122.20276 47.58679, -122.20276 47.5...</td>\n",
       "      <td>POINT (-122.20088 47.58534)</td>\n",
       "    </tr>\n",
       "    <tr>\n",
       "      <th>3</th>\n",
       "      <td>4</td>\n",
       "      <td>BD</td>\n",
       "      <td>Black Diamond</td>\n",
       "      <td>6629.569588</td>\n",
       "      <td>2.412697e+06</td>\n",
       "      <td>POLYGON ((-121.96191 47.28836, -121.96191 47.2...</td>\n",
       "      <td>POINT (-121.96347 47.28666)</td>\n",
       "    </tr>\n",
       "    <tr>\n",
       "      <th>4</th>\n",
       "      <td>5</td>\n",
       "      <td>BD</td>\n",
       "      <td>Black Diamond</td>\n",
       "      <td>85786.107116</td>\n",
       "      <td>1.983661e+08</td>\n",
       "      <td>POLYGON ((-122.04854 47.34368, -122.04412 47.3...</td>\n",
       "      <td>POINT (-122.01889 47.31338)</td>\n",
       "    </tr>\n",
       "  </tbody>\n",
       "</table>\n",
       "</div>"
      ],
      "text/plain": [
       "   OBJECTID JURIS       CITYNAME     SHAPE_Leng    SHAPE_Area  \\\n",
       "0         1    AL         Algona   38144.667179  3.641105e+07   \n",
       "1         2    AU         Auburn  209231.046799  7.856892e+08   \n",
       "2         3    BA     Beaux Arts    6720.785802  2.274707e+06   \n",
       "3         4    BD  Black Diamond    6629.569588  2.412697e+06   \n",
       "4         5    BD  Black Diamond   85786.107116  1.983661e+08   \n",
       "\n",
       "                                            geometry  \\\n",
       "0  POLYGON ((-122.24022 47.29353, -122.24307 47.2...   \n",
       "1  POLYGON ((-122.22820 47.35395, -122.22546 47.3...   \n",
       "2  POLYGON ((-122.20276 47.58679, -122.20276 47.5...   \n",
       "3  POLYGON ((-121.96191 47.28836, -121.96191 47.2...   \n",
       "4  POLYGON ((-122.04854 47.34368, -122.04412 47.3...   \n",
       "\n",
       "                      centroid  \n",
       "0  POINT (-122.25042 47.28199)  \n",
       "1  POINT (-122.21086 47.30705)  \n",
       "2  POINT (-122.20088 47.58534)  \n",
       "3  POINT (-121.96347 47.28666)  \n",
       "4  POINT (-122.01889 47.31338)  "
      ]
     },
     "execution_count": 16,
     "metadata": {},
     "output_type": "execute_result"
    }
   ],
   "source": [
    "#Get centroids of all cities in King County\n",
    "kc_cities_gdf['centroid'] = kc_cities_gdf.centroid\n",
    "\n",
    "#Sniff test\n",
    "kc_cities_gdf.head()"
   ]
  },
  {
   "cell_type": "markdown",
   "metadata": {},
   "source": [
    "### [Seattle Neighborhood Data](https://data-seattlecitygis.opendata.arcgis.com/datasets/neighborhood-map-atlas-districts/explore?location=47.628714%2C-122.338313%2C11.43])\n",
    "\n",
    "We would also like to explore how housing price within neighborhoods in Seattle vary, as an additional tool to help our clients decide where their ideal home location would be. \n",
    "\n",
    "So let's find the neighborhood the properties are in for the properties in Seattle."
   ]
  },
  {
   "cell_type": "markdown",
   "metadata": {},
   "source": [
    "#### Load Seattle Neighborhood data"
   ]
  },
  {
   "cell_type": "code",
   "execution_count": 17,
   "metadata": {},
   "outputs": [],
   "source": [
    "#Load data using geopandas\n",
    "neighborhood_gdf = gpd.read_file('data/Neighborhood_Map_Atlas_Districts/Neighborhood_Map_Atlas_Districts.shp')\n",
    "\n"
   ]
  },
  {
   "cell_type": "code",
   "execution_count": 18,
   "metadata": {},
   "outputs": [
    {
     "data": {
      "text/html": [
       "<div>\n",
       "<style scoped>\n",
       "    .dataframe tbody tr th:only-of-type {\n",
       "        vertical-align: middle;\n",
       "    }\n",
       "\n",
       "    .dataframe tbody tr th {\n",
       "        vertical-align: top;\n",
       "    }\n",
       "\n",
       "    .dataframe thead th {\n",
       "        text-align: right;\n",
       "    }\n",
       "</style>\n",
       "<table border=\"1\" class=\"dataframe\">\n",
       "  <thead>\n",
       "    <tr style=\"text-align: right;\">\n",
       "      <th></th>\n",
       "      <th>OBJECTID</th>\n",
       "      <th>L_HOOD</th>\n",
       "      <th>S_HOOD_ALT</th>\n",
       "      <th>Shape__Are</th>\n",
       "      <th>Shape__Len</th>\n",
       "      <th>geometry</th>\n",
       "    </tr>\n",
       "  </thead>\n",
       "  <tbody>\n",
       "    <tr>\n",
       "      <th>0</th>\n",
       "      <td>28</td>\n",
       "      <td>Ballard</td>\n",
       "      <td>Loyal Heights, Adams, Whittier Heights, West W...</td>\n",
       "      <td>1.046035e+08</td>\n",
       "      <td>59248.568772</td>\n",
       "      <td>POLYGON ((-122.40266 47.69602, -122.40236 47.6...</td>\n",
       "    </tr>\n",
       "    <tr>\n",
       "      <th>1</th>\n",
       "      <td>29</td>\n",
       "      <td>Beacon Hill</td>\n",
       "      <td>North Beacon Hill, Mid-Beacon Hill, South Beac...</td>\n",
       "      <td>1.479894e+08</td>\n",
       "      <td>78783.502732</td>\n",
       "      <td>POLYGON ((-122.31281 47.59581, -122.31216 47.5...</td>\n",
       "    </tr>\n",
       "    <tr>\n",
       "      <th>2</th>\n",
       "      <td>30</td>\n",
       "      <td>Capitol Hill</td>\n",
       "      <td>Portage Bay, Montlake, Madison Park, Broadway,...</td>\n",
       "      <td>1.068562e+08</td>\n",
       "      <td>75147.170565</td>\n",
       "      <td>MULTIPOLYGON (((-122.29599 47.64184, -122.2960...</td>\n",
       "    </tr>\n",
       "    <tr>\n",
       "      <th>3</th>\n",
       "      <td>31</td>\n",
       "      <td>Cascade</td>\n",
       "      <td>Westlake, Eastlake, South Lake Union</td>\n",
       "      <td>2.717920e+07</td>\n",
       "      <td>48680.288698</td>\n",
       "      <td>POLYGON ((-122.32124 47.65231, -122.32113 47.6...</td>\n",
       "    </tr>\n",
       "    <tr>\n",
       "      <th>4</th>\n",
       "      <td>32</td>\n",
       "      <td>Central Area</td>\n",
       "      <td>Madrona, Harrison/Denny-Blaine, Minor, Leschi,...</td>\n",
       "      <td>9.527258e+07</td>\n",
       "      <td>52688.475894</td>\n",
       "      <td>POLYGON ((-122.27911 47.62786, -122.27915 47.6...</td>\n",
       "    </tr>\n",
       "  </tbody>\n",
       "</table>\n",
       "</div>"
      ],
      "text/plain": [
       "   OBJECTID        L_HOOD                                         S_HOOD_ALT  \\\n",
       "0        28       Ballard  Loyal Heights, Adams, Whittier Heights, West W...   \n",
       "1        29   Beacon Hill  North Beacon Hill, Mid-Beacon Hill, South Beac...   \n",
       "2        30  Capitol Hill  Portage Bay, Montlake, Madison Park, Broadway,...   \n",
       "3        31       Cascade               Westlake, Eastlake, South Lake Union   \n",
       "4        32  Central Area  Madrona, Harrison/Denny-Blaine, Minor, Leschi,...   \n",
       "\n",
       "     Shape__Are    Shape__Len  \\\n",
       "0  1.046035e+08  59248.568772   \n",
       "1  1.479894e+08  78783.502732   \n",
       "2  1.068562e+08  75147.170565   \n",
       "3  2.717920e+07  48680.288698   \n",
       "4  9.527258e+07  52688.475894   \n",
       "\n",
       "                                            geometry  \n",
       "0  POLYGON ((-122.40266 47.69602, -122.40236 47.6...  \n",
       "1  POLYGON ((-122.31281 47.59581, -122.31216 47.5...  \n",
       "2  MULTIPOLYGON (((-122.29599 47.64184, -122.2960...  \n",
       "3  POLYGON ((-122.32124 47.65231, -122.32113 47.6...  \n",
       "4  POLYGON ((-122.27911 47.62786, -122.27915 47.6...  "
      ]
     },
     "execution_count": 18,
     "metadata": {},
     "output_type": "execute_result"
    }
   ],
   "source": [
    "#Sniff test\n",
    "neighborhood_gdf.head()"
   ]
  },
  {
   "cell_type": "code",
   "execution_count": 19,
   "metadata": {},
   "outputs": [
    {
     "data": {
      "text/plain": [
       "array(['Ballard', 'Beacon Hill', 'Capitol Hill', 'Cascade',\n",
       "       'Central Area', 'Delridge', 'Downtown', 'Interbay', 'Lake City',\n",
       "       'Magnolia', 'Greater Duwamish', 'Northeast', 'Northgate',\n",
       "       'Queen Anne', 'Rainier Valley', 'Seward Park', 'West Seattle',\n",
       "       'Northwest', 'North Central', 'University District'], dtype=object)"
      ]
     },
     "execution_count": 19,
     "metadata": {},
     "output_type": "execute_result"
    }
   ],
   "source": [
    "#View the list of neighborhoodabs\n",
    "neighborhood_gdf['L_HOOD'].unique()"
   ]
  },
  {
   "cell_type": "markdown",
   "metadata": {},
   "source": [
    "## Data Mapping"
   ]
  },
  {
   "cell_type": "code",
   "execution_count": 20,
   "metadata": {},
   "outputs": [
    {
     "name": "stdout",
     "output_type": "stream",
     "text": [
      "<class 'geopandas.geodataframe.GeoDataFrame'>\n",
      "RangeIndex: 21596 entries, 0 to 21595\n",
      "Data columns (total 28 columns):\n",
      " #   Column         Non-Null Count  Dtype  \n",
      "---  ------         --------------  -----  \n",
      " 0   Unnamed: 0     21596 non-null  int64  \n",
      " 1   id             21596 non-null  int64  \n",
      " 2   date           21596 non-null  object \n",
      " 3   price          21596 non-null  float64\n",
      " 4   bedrooms       21596 non-null  int64  \n",
      " 5   bathrooms      21596 non-null  float64\n",
      " 6   sqft_living    21596 non-null  int64  \n",
      " 7   sqft_lot       21596 non-null  int64  \n",
      " 8   floors         21596 non-null  float64\n",
      " 9   waterfront     19221 non-null  object \n",
      " 10  view           21533 non-null  object \n",
      " 11  condition      21596 non-null  object \n",
      " 12  grade          21596 non-null  object \n",
      " 13  sqft_above     21596 non-null  int64  \n",
      " 14  sqft_basement  21596 non-null  object \n",
      " 15  yr_built       21596 non-null  int64  \n",
      " 16  yr_renovated   17754 non-null  float64\n",
      " 17  zipcode        21596 non-null  int64  \n",
      " 18  lat            21596 non-null  float64\n",
      " 19  long           21596 non-null  float64\n",
      " 20  sqft_living15  21596 non-null  int64  \n",
      " 21  sqft_lot15     21596 non-null  int64  \n",
      " 22  coord          21596 non-null  object \n",
      " 23  geometry       21596 non-null  object \n",
      " 24  city           21596 non-null  object \n",
      " 25  dist_seattle   21596 non-null  float64\n",
      " 26  neighborhood   6735 non-null   object \n",
      " 27  in_seattle     21596 non-null  bool   \n",
      "dtypes: bool(1), float64(7), int64(10), object(10)\n",
      "memory usage: 4.5+ MB\n"
     ]
    }
   ],
   "source": [
    "housing_df.info()"
   ]
  },
  {
   "cell_type": "code",
   "execution_count": 21,
   "metadata": {},
   "outputs": [],
   "source": [
    "seattle_centroid = kc_cities_gdf[kc_cities_gdf['CITYNAME']=='Seattle']\n",
    "seattle_centroid = seattle_centroid.iloc[0,-1]"
   ]
  },
  {
   "cell_type": "code",
   "execution_count": 28,
   "metadata": {},
   "outputs": [
    {
     "data": {
      "image/png": "[encoded data removed]",
      "text/plain": [
       "<Figure size 1080x576 with 1 Axes>"
      ]
     },
     "metadata": {
      "needs_background": "light"
     },
     "output_type": "display_data"
    }
   ],
   "source": [
    "fig, ax = plt.subplots(figsize = (15,8))\n",
    "# sns.set(rc = {'figure.figsize':(15,8)})\n",
    "    \n",
    "basemap = kc_cities_gdf.plot(ax=ax,color=\"lightgrey\")\n",
    "m = sns.scatterplot(x='long', y='lat', size='sqft_living', hue='price', palette=\"magma\", sizes = (20,400), data=housing_df)\n",
    "# c = seattle_centroid.plot(color = 'r')\n",
    "\n",
    "ax.set_xlabel('Longitude')\n",
    "ax.set_ylabel('Latitude')\n",
    "\n",
    "sns.despine()"
   ]
  },
  {
   "cell_type": "code",
   "execution_count": 23,
   "metadata": {},
   "outputs": [],
   "source": [
    "housing_df_seattle = housing_df[housing_df['city'] == 'Seattle']\n",
    "mean_seattle_neighborhood = housing_df_seattle.groupby('neighborhood').mean()['price']\n",
    "neighborhood_gdf_mean = neighborhood_gdf.merge(mean_seattle_neighborhood, left_on='L_HOOD', right_on = 'neighborhood' )"
   ]
  },
  {
   "cell_type": "code",
   "execution_count": 29,
   "metadata": {},
   "outputs": [
    {
     "data": {
      "text/plain": [
       "array(['Algona', 'Auburn', 'Beaux Arts', 'Black Diamond', 'Bellevue',\n",
       "       'Bothell', 'Burien', 'Carnation', 'Clyde Hill', 'Covington',\n",
       "       'Des Moines', 'Duvall', 'Enumclaw', 'Federal Way', 'Hunts Point',\n",
       "       'Issaquah', 'Unincorporated City', 'Kent', 'Kirkland', 'Kenmore',\n",
       "       'Lake Forest Park', 'Medina', 'Mercer Island', 'Milton',\n",
       "       'Maple Valley', 'North Bend', 'Newcastle', 'Normandy Park',\n",
       "       'Pacific', 'Redmond', 'Renton', 'Seattle', 'Shoreline',\n",
       "       'Skykomish', 'Sammamish', 'Snoqualmie', 'SeaTac', 'Tukwila',\n",
       "       'Woodinville', 'Yarrow Point'], dtype=object)"
      ]
     },
     "execution_count": 29,
     "metadata": {},
     "output_type": "execute_result"
    }
   ],
   "source": [
    "kc_cities_gdf['CITYNAME'].unique()"
   ]
  },
  {
   "cell_type": "code",
   "execution_count": 25,
   "metadata": {},
   "outputs": [
    {
     "data": {
      "text/plain": [
       "<Figure size 432x288 with 0 Axes>"
      ]
     },
     "metadata": {},
     "output_type": "display_data"
    },
    {
     "data": {
      "image/png": "[encoded data removed]",
      "text/plain": [
       "<Figure size 576x432 with 2 Axes>"
      ]
     },
     "metadata": {
      "needs_background": "light"
     },
     "output_type": "display_data"
    }
   ],
   "source": [
    "import geoplot as gplt\n",
    "\n",
    "fig = plt.figure()\n",
    "\n",
    "\n",
    "\n",
    "ax1 = gplt.choropleth(\n",
    "    neighborhood_gdf_mean,\n",
    "    hue='price',\n",
    "    cmap='Reds', linewidth=0.5,\n",
    "    edgecolor='white',\n",
    "    legend=True\n",
    ")\n",
    "\n",
    "kc_cities_gdf[kc_cities_gdf['CITYNAME']=='Seattle'].plot(ax = ax1,color=\"lightgrey\", zorder=0)\n",
    "\n",
    "\n",
    "ax1.set_title(\"Mean house price by neighborhood in Seattle\")\n",
    "\n",
    "plt.show()"
   ]
  },
  {
   "cell_type": "markdown",
   "metadata": {},
   "source": [
    "## Data Cleaning"
   ]
  },
  {
   "cell_type": "markdown",
   "metadata": {},
   "source": [
    "### Basement"
   ]
  },
  {
   "cell_type": "code",
   "execution_count": 35,
   "metadata": {},
   "outputs": [],
   "source": [
    "# sqft_basement should equal difference between sqft_living and sqft_above\n",
    "sqft_basement_computed = housing_df['sqft_living'] - housing_df['sqft_above']\n",
    "\n",
    "housing_df['has_basement'] = (sqft_basement_computed > 0).astype(int)"
   ]
  },
  {
   "cell_type": "markdown",
   "metadata": {},
   "source": [
    "### Yr renovated"
   ]
  },
  {
   "cell_type": "code",
   "execution_count": 36,
   "metadata": {},
   "outputs": [],
   "source": [
    "housing_df['sold_dt'] = pd.to_datetime(housing_df['date'])\n",
    "housing_df['sold_year'] = pd.DatetimeIndex(housing_df['sold_dt']).year\n",
    "housing_df['sold_month'] = pd.DatetimeIndex(housing_df['sold_dt']).month"
   ]
  },
  {
   "cell_type": "code",
   "execution_count": 37,
   "metadata": {},
   "outputs": [],
   "source": [
    "housing_df['yr_renovated_missing'] = (housing_df['yr_renovated'].isna()).astype(int)\n",
    "housing_df['yr_renovated'].fillna(0, inplace=True)\n",
    "\n",
    "housing_df['renovated'] = ((housing_df['sold_year'] - housing_df['yr_renovated']) <= 5).astype(int)"
   ]
  },
  {
   "cell_type": "markdown",
   "metadata": {},
   "source": [
    "### Age of the house"
   ]
  },
  {
   "cell_type": "code",
   "execution_count": 38,
   "metadata": {},
   "outputs": [
    {
     "data": {
      "text/plain": [
       "count    21596.000000\n",
       "mean        43.323810\n",
       "std         29.377864\n",
       "min         -1.000000\n",
       "25%         18.000000\n",
       "50%         40.000000\n",
       "75%         63.000000\n",
       "max        115.000000\n",
       "Name: house_age, dtype: float64"
      ]
     },
     "execution_count": 38,
     "metadata": {},
     "output_type": "execute_result"
    }
   ],
   "source": [
    "housing_df['house_age'] = housing_df['sold_year'] - housing_df['yr_built']\n",
    "housing_df['house_age'].describe()"
   ]
  },
  {
   "cell_type": "markdown",
   "metadata": {},
   "source": [
    "### View"
   ]
  },
  {
   "cell_type": "code",
   "execution_count": 39,
   "metadata": {},
   "outputs": [],
   "source": [
    "housing_df['view_missing'] = (housing_df['view'].isna()).astype(int)"
   ]
  },
  {
   "cell_type": "code",
   "execution_count": 40,
   "metadata": {},
   "outputs": [],
   "source": [
    "housing_df['view'].fillna('NONE', inplace=True)"
   ]
  },
  {
   "cell_type": "markdown",
   "metadata": {},
   "source": [
    "### Waterfront"
   ]
  },
  {
   "cell_type": "code",
   "execution_count": 41,
   "metadata": {},
   "outputs": [],
   "source": [
    "housing_df['waterfront_missing'] = (housing_df['waterfront'].isna()).astype(int)\n",
    "housing_df['waterfront'].fillna('NO', inplace=True)"
   ]
  },
  {
   "cell_type": "markdown",
   "metadata": {},
   "source": [
    "### Duplicate records (house resold)"
   ]
  },
  {
   "cell_type": "code",
   "execution_count": 43,
   "metadata": {},
   "outputs": [
    {
     "name": "stdout",
     "output_type": "stream",
     "text": [
      "Number of rows:\t\t21596\n",
      "Number unique:\t\t21419\n",
      "Number duplicates:\t177\n"
     ]
    }
   ],
   "source": [
    "print(f\"Number of rows:\\t\\t{len(housing_df['id'])}\")\n",
    "print(f\"Number unique:\\t\\t{len(housing_df['id'].unique())}\")\n",
    "print(f\"Number duplicates:\\t{sum(housing_df['id'].duplicated() == True)}\")"
   ]
  },
  {
   "cell_type": "code",
   "execution_count": 61,
   "metadata": {},
   "outputs": [],
   "source": [
    "housing_df = housing_df.sort_values(by=['sold_year', 'sold_month'])\n",
    "housing_df['resold'] = housing_df.id.duplicated().astype(int)"
   ]
  },
  {
   "cell_type": "code",
   "execution_count": null,
   "metadata": {},
   "outputs": [],
   "source": []
  },
  {
   "cell_type": "markdown",
   "metadata": {},
   "source": [
    "### Ratio between bedrooms and bathrooms"
   ]
  },
  {
   "cell_type": "code",
   "execution_count": 56,
   "metadata": {},
   "outputs": [],
   "source": [
    "housing_df['br_bth'] = housing_df.bedrooms / housing_df.bathrooms"
   ]
  },
  {
   "cell_type": "code",
   "execution_count": 62,
   "metadata": {},
   "outputs": [
    {
     "name": "stdout",
     "output_type": "stream",
     "text": [
      "Dimensions: 21596 rows and 38 columns\n",
      "Numeric columns: 26\n",
      "Object columns: 12\n"
     ]
    },
    {
     "data": {
      "text/html": [
       "<div>\n",
       "<style scoped>\n",
       "    .dataframe tbody tr th:only-of-type {\n",
       "        vertical-align: middle;\n",
       "    }\n",
       "\n",
       "    .dataframe tbody tr th {\n",
       "        vertical-align: top;\n",
       "    }\n",
       "\n",
       "    .dataframe thead th {\n",
       "        text-align: right;\n",
       "    }\n",
       "</style>\n",
       "<table border=\"1\" class=\"dataframe\">\n",
       "  <thead>\n",
       "    <tr style=\"text-align: right;\">\n",
       "      <th></th>\n",
       "      <th>Unnamed: 0</th>\n",
       "      <th>id</th>\n",
       "      <th>date</th>\n",
       "      <th>price</th>\n",
       "      <th>bedrooms</th>\n",
       "      <th>bathrooms</th>\n",
       "      <th>sqft_living</th>\n",
       "      <th>sqft_lot</th>\n",
       "      <th>floors</th>\n",
       "      <th>waterfront</th>\n",
       "      <th>...</th>\n",
       "      <th>has_basement</th>\n",
       "      <th>sold_dt</th>\n",
       "      <th>sold_year</th>\n",
       "      <th>sold_month</th>\n",
       "      <th>yr_renovated_missing</th>\n",
       "      <th>house_age</th>\n",
       "      <th>view_missing</th>\n",
       "      <th>waterfront_missing</th>\n",
       "      <th>resold</th>\n",
       "      <th>br_bth</th>\n",
       "    </tr>\n",
       "  </thead>\n",
       "  <tbody>\n",
       "    <tr>\n",
       "      <th>1</th>\n",
       "      <td>1</td>\n",
       "      <td>3356406510</td>\n",
       "      <td>5/30/2014</td>\n",
       "      <td>196440.0</td>\n",
       "      <td>3</td>\n",
       "      <td>2.0</td>\n",
       "      <td>1560</td>\n",
       "      <td>7352</td>\n",
       "      <td>1.0</td>\n",
       "      <td>NO</td>\n",
       "      <td>...</td>\n",
       "      <td>0</td>\n",
       "      <td>2014-05-30</td>\n",
       "      <td>2014</td>\n",
       "      <td>5</td>\n",
       "      <td>0</td>\n",
       "      <td>22</td>\n",
       "      <td>0</td>\n",
       "      <td>0</td>\n",
       "      <td>0</td>\n",
       "      <td>1.50</td>\n",
       "    </tr>\n",
       "    <tr>\n",
       "      <th>10749</th>\n",
       "      <td>10749</td>\n",
       "      <td>1023089197</td>\n",
       "      <td>10/7/2014</td>\n",
       "      <td>390000.0</td>\n",
       "      <td>3</td>\n",
       "      <td>2.0</td>\n",
       "      <td>1930</td>\n",
       "      <td>12443</td>\n",
       "      <td>1.0</td>\n",
       "      <td>NO</td>\n",
       "      <td>...</td>\n",
       "      <td>0</td>\n",
       "      <td>2014-10-07</td>\n",
       "      <td>2014</td>\n",
       "      <td>10</td>\n",
       "      <td>0</td>\n",
       "      <td>45</td>\n",
       "      <td>0</td>\n",
       "      <td>0</td>\n",
       "      <td>0</td>\n",
       "      <td>1.50</td>\n",
       "    </tr>\n",
       "    <tr>\n",
       "      <th>21594</th>\n",
       "      <td>21594</td>\n",
       "      <td>1925059254</td>\n",
       "      <td>5/7/2015</td>\n",
       "      <td>3000000.0</td>\n",
       "      <td>5</td>\n",
       "      <td>4.0</td>\n",
       "      <td>6670</td>\n",
       "      <td>16481</td>\n",
       "      <td>2.0</td>\n",
       "      <td>NO</td>\n",
       "      <td>...</td>\n",
       "      <td>1</td>\n",
       "      <td>2015-05-07</td>\n",
       "      <td>2015</td>\n",
       "      <td>5</td>\n",
       "      <td>1</td>\n",
       "      <td>8</td>\n",
       "      <td>0</td>\n",
       "      <td>0</td>\n",
       "      <td>0</td>\n",
       "      <td>1.25</td>\n",
       "    </tr>\n",
       "  </tbody>\n",
       "</table>\n",
       "<p>3 rows × 38 columns</p>\n",
       "</div>"
      ],
      "text/plain": [
       "       Unnamed: 0          id       date      price  bedrooms  bathrooms  \\\n",
       "1               1  3356406510  5/30/2014   196440.0         3        2.0   \n",
       "10749       10749  1023089197  10/7/2014   390000.0         3        2.0   \n",
       "21594       21594  1925059254   5/7/2015  3000000.0         5        4.0   \n",
       "\n",
       "       sqft_living  sqft_lot  floors waterfront  ... has_basement    sold_dt  \\\n",
       "1             1560      7352     1.0         NO  ...            0 2014-05-30   \n",
       "10749         1930     12443     1.0         NO  ...            0 2014-10-07   \n",
       "21594         6670     16481     2.0         NO  ...            1 2015-05-07   \n",
       "\n",
       "      sold_year  sold_month yr_renovated_missing  house_age  view_missing  \\\n",
       "1          2014           5                    0         22             0   \n",
       "10749      2014          10                    0         45             0   \n",
       "21594      2015           5                    1          8             0   \n",
       "\n",
       "       waterfront_missing  resold  br_bth  \n",
       "1                       0       0    1.50  \n",
       "10749                   0       0    1.50  \n",
       "21594                   0       0    1.25  \n",
       "\n",
       "[3 rows x 38 columns]"
      ]
     },
     "metadata": {},
     "output_type": "display_data"
    },
    {
     "data": {
      "text/plain": [
       "(['Unnamed: 0',\n",
       "  'id',\n",
       "  'price',\n",
       "  'bedrooms',\n",
       "  'bathrooms',\n",
       "  'sqft_living',\n",
       "  'sqft_lot',\n",
       "  'floors',\n",
       "  'sqft_above',\n",
       "  'yr_built',\n",
       "  'yr_renovated',\n",
       "  'zipcode',\n",
       "  'lat',\n",
       "  'long',\n",
       "  'sqft_living15',\n",
       "  'sqft_lot15',\n",
       "  'dist_seattle',\n",
       "  'has_basement',\n",
       "  'sold_year',\n",
       "  'sold_month',\n",
       "  'yr_renovated_missing',\n",
       "  'house_age',\n",
       "  'view_missing',\n",
       "  'waterfront_missing',\n",
       "  'resold',\n",
       "  'br_bth'],\n",
       " ['date',\n",
       "  'waterfront',\n",
       "  'view',\n",
       "  'condition',\n",
       "  'grade',\n",
       "  'sqft_basement',\n",
       "  'coord',\n",
       "  'geometry',\n",
       "  'city',\n",
       "  'neighborhood',\n",
       "  'in_seattle',\n",
       "  'sold_dt'])"
      ]
     },
     "execution_count": 62,
     "metadata": {},
     "output_type": "execute_result"
    }
   ],
   "source": [
    "dataframe_info(housing_df)"
   ]
  },
  {
   "cell_type": "markdown",
   "metadata": {},
   "source": [
    "### In seattle"
   ]
  },
  {
   "cell_type": "code",
   "execution_count": 102,
   "metadata": {},
   "outputs": [],
   "source": [
    "housing_df['in_seattle'] = housing_df['in_seattle'].astype(int)"
   ]
  },
  {
   "cell_type": "markdown",
   "metadata": {},
   "source": [
    "Eliminating condition because grade does a better job (Refer Greg's original notebook)"
   ]
  },
  {
   "cell_type": "code",
   "execution_count": 110,
   "metadata": {},
   "outputs": [],
   "source": [
    "relevant_num_cols = ['bedrooms',\n",
    "  'sqft_living',\n",
    "  'sqft_lot',\n",
    "  'floors',\n",
    "  'zipcode',\n",
    "  'dist_seattle',\n",
    "  'has_basement',\n",
    "  'yr_renovated_missing',\n",
    "  'house_age',\n",
    "  'view_missing',\n",
    "  'waterfront_missing','resold', 'br_bth']\n",
    "\n",
    "relevant_cat_col =  ['waterfront',\n",
    "  'view',\n",
    "  'condition',\n",
    "  'grade',\n",
    "  'city',\n",
    "  'neighborhood'\n",
    "  ]"
   ]
  },
  {
   "cell_type": "code",
   "execution_count": 111,
   "metadata": {},
   "outputs": [
    {
     "data": {
      "text/plain": [
       "<AxesSubplot:>"
      ]
     },
     "execution_count": 111,
     "metadata": {},
     "output_type": "execute_result"
    },
    {
     "data": {
      "image/png": "[encoded data removed]",
      "text/plain": [
       "<Figure size 432x288 with 2 Axes>"
      ]
     },
     "metadata": {
      "needs_background": "light"
     },
     "output_type": "display_data"
    }
   ],
   "source": [
    "sns.heatmap(housing_df[relevant_num_cols].corr().abs(), vmin=.7, vmax=0.7)"
   ]
  },
  {
   "cell_type": "markdown",
   "metadata": {},
   "source": [
    "### Train test split"
   ]
  },
  {
   "cell_type": "code",
   "execution_count": 112,
   "metadata": {},
   "outputs": [],
   "source": [
    "y = housing_df['price']\n",
    "X = housing_df[relevant_num_cols+relevant_cat_col]"
   ]
  },
  {
   "cell_type": "code",
   "execution_count": 113,
   "metadata": {},
   "outputs": [
    {
     "data": {
      "text/html": [
       "<div>\n",
       "<style scoped>\n",
       "    .dataframe tbody tr th:only-of-type {\n",
       "        vertical-align: middle;\n",
       "    }\n",
       "\n",
       "    .dataframe tbody tr th {\n",
       "        vertical-align: top;\n",
       "    }\n",
       "\n",
       "    .dataframe thead th {\n",
       "        text-align: right;\n",
       "    }\n",
       "</style>\n",
       "<table border=\"1\" class=\"dataframe\">\n",
       "  <thead>\n",
       "    <tr style=\"text-align: right;\">\n",
       "      <th></th>\n",
       "      <th>bedrooms</th>\n",
       "      <th>sqft_living</th>\n",
       "      <th>sqft_lot</th>\n",
       "      <th>floors</th>\n",
       "      <th>zipcode</th>\n",
       "      <th>dist_seattle</th>\n",
       "      <th>has_basement</th>\n",
       "      <th>yr_renovated_missing</th>\n",
       "      <th>house_age</th>\n",
       "      <th>view_missing</th>\n",
       "      <th>waterfront_missing</th>\n",
       "      <th>resold</th>\n",
       "      <th>br_bth</th>\n",
       "      <th>waterfront</th>\n",
       "      <th>view</th>\n",
       "      <th>condition</th>\n",
       "      <th>grade</th>\n",
       "      <th>city</th>\n",
       "      <th>neighborhood</th>\n",
       "    </tr>\n",
       "  </thead>\n",
       "  <tbody>\n",
       "    <tr>\n",
       "      <th>1</th>\n",
       "      <td>3</td>\n",
       "      <td>1560</td>\n",
       "      <td>7352</td>\n",
       "      <td>1.0</td>\n",
       "      <td>98001</td>\n",
       "      <td>38.375160</td>\n",
       "      <td>0</td>\n",
       "      <td>0</td>\n",
       "      <td>22</td>\n",
       "      <td>0</td>\n",
       "      <td>0</td>\n",
       "      <td>0</td>\n",
       "      <td>1.500000</td>\n",
       "      <td>NO</td>\n",
       "      <td>NONE</td>\n",
       "      <td>Average</td>\n",
       "      <td>6 Low Average</td>\n",
       "      <td>Algona</td>\n",
       "      <td>NaN</td>\n",
       "    </tr>\n",
       "    <tr>\n",
       "      <th>3</th>\n",
       "      <td>4</td>\n",
       "      <td>2020</td>\n",
       "      <td>6236</td>\n",
       "      <td>2.0</td>\n",
       "      <td>98001</td>\n",
       "      <td>38.523083</td>\n",
       "      <td>0</td>\n",
       "      <td>1</td>\n",
       "      <td>12</td>\n",
       "      <td>0</td>\n",
       "      <td>0</td>\n",
       "      <td>0</td>\n",
       "      <td>1.600000</td>\n",
       "      <td>NO</td>\n",
       "      <td>NONE</td>\n",
       "      <td>Average</td>\n",
       "      <td>7 Average</td>\n",
       "      <td>Algona</td>\n",
       "      <td>NaN</td>\n",
       "    </tr>\n",
       "    <tr>\n",
       "      <th>10</th>\n",
       "      <td>4</td>\n",
       "      <td>2163</td>\n",
       "      <td>5883</td>\n",
       "      <td>2.0</td>\n",
       "      <td>98001</td>\n",
       "      <td>39.138430</td>\n",
       "      <td>0</td>\n",
       "      <td>1</td>\n",
       "      <td>8</td>\n",
       "      <td>0</td>\n",
       "      <td>0</td>\n",
       "      <td>0</td>\n",
       "      <td>1.333333</td>\n",
       "      <td>NO</td>\n",
       "      <td>NONE</td>\n",
       "      <td>Average</td>\n",
       "      <td>7 Average</td>\n",
       "      <td>Algona</td>\n",
       "      <td>NaN</td>\n",
       "    </tr>\n",
       "    <tr>\n",
       "      <th>13</th>\n",
       "      <td>2</td>\n",
       "      <td>910</td>\n",
       "      <td>22000</td>\n",
       "      <td>1.0</td>\n",
       "      <td>98001</td>\n",
       "      <td>38.654747</td>\n",
       "      <td>0</td>\n",
       "      <td>0</td>\n",
       "      <td>58</td>\n",
       "      <td>0</td>\n",
       "      <td>0</td>\n",
       "      <td>0</td>\n",
       "      <td>2.000000</td>\n",
       "      <td>NO</td>\n",
       "      <td>NONE</td>\n",
       "      <td>Average</td>\n",
       "      <td>6 Low Average</td>\n",
       "      <td>Algona</td>\n",
       "      <td>NaN</td>\n",
       "    </tr>\n",
       "    <tr>\n",
       "      <th>18</th>\n",
       "      <td>3</td>\n",
       "      <td>1390</td>\n",
       "      <td>16000</td>\n",
       "      <td>1.0</td>\n",
       "      <td>98001</td>\n",
       "      <td>37.351173</td>\n",
       "      <td>0</td>\n",
       "      <td>0</td>\n",
       "      <td>54</td>\n",
       "      <td>0</td>\n",
       "      <td>0</td>\n",
       "      <td>0</td>\n",
       "      <td>3.000000</td>\n",
       "      <td>NO</td>\n",
       "      <td>NONE</td>\n",
       "      <td>Good</td>\n",
       "      <td>6 Low Average</td>\n",
       "      <td>Algona</td>\n",
       "      <td>NaN</td>\n",
       "    </tr>\n",
       "  </tbody>\n",
       "</table>\n",
       "</div>"
      ],
      "text/plain": [
       "    bedrooms  sqft_living  sqft_lot  floors  zipcode  dist_seattle  \\\n",
       "1          3         1560      7352     1.0    98001     38.375160   \n",
       "3          4         2020      6236     2.0    98001     38.523083   \n",
       "10         4         2163      5883     2.0    98001     39.138430   \n",
       "13         2          910     22000     1.0    98001     38.654747   \n",
       "18         3         1390     16000     1.0    98001     37.351173   \n",
       "\n",
       "    has_basement  yr_renovated_missing  house_age  view_missing  \\\n",
       "1              0                     0         22             0   \n",
       "3              0                     1         12             0   \n",
       "10             0                     1          8             0   \n",
       "13             0                     0         58             0   \n",
       "18             0                     0         54             0   \n",
       "\n",
       "    waterfront_missing  resold    br_bth waterfront  view condition  \\\n",
       "1                    0       0  1.500000         NO  NONE   Average   \n",
       "3                    0       0  1.600000         NO  NONE   Average   \n",
       "10                   0       0  1.333333         NO  NONE   Average   \n",
       "13                   0       0  2.000000         NO  NONE   Average   \n",
       "18                   0       0  3.000000         NO  NONE      Good   \n",
       "\n",
       "            grade    city neighborhood  \n",
       "1   6 Low Average  Algona          NaN  \n",
       "3       7 Average  Algona          NaN  \n",
       "10      7 Average  Algona          NaN  \n",
       "13  6 Low Average  Algona          NaN  \n",
       "18  6 Low Average  Algona          NaN  "
      ]
     },
     "execution_count": 113,
     "metadata": {},
     "output_type": "execute_result"
    }
   ],
   "source": [
    "X.head()"
   ]
  },
  {
   "cell_type": "code",
   "execution_count": 114,
   "metadata": {},
   "outputs": [],
   "source": [
    "X_train, X_test, y_train, y_test = train_test_split(X, y, test_size=0.33, random_state=42)\n"
   ]
  },
  {
   "cell_type": "markdown",
   "metadata": {},
   "source": [
    "## One Hot Encoder"
   ]
  },
  {
   "cell_type": "code",
   "execution_count": 150,
   "metadata": {},
   "outputs": [],
   "source": [
    "encoder = OneHotEncoder(handle_unknown='ignore',\n",
    "                        drop='if_binary',\n",
    "                        categories='auto')\n",
    "\n",
    "ct = ColumnTransformer(transformers=[('ohe', encoder, relevant_cat_col)],\n",
    "                       remainder='passthrough')\n",
    "\n",
    "ct.fit(X_train)\n",
    "X_train_enc = ct.transform(X_train)\n",
    "X_test_enc = ct.transform(X_test)"
   ]
  },
  {
   "cell_type": "code",
   "execution_count": 151,
   "metadata": {},
   "outputs": [
    {
     "data": {
      "text/plain": [
       "matrix([[0.        , 0.        , 0.        , ..., 0.        , 0.        ,\n",
       "         0.8       ],\n",
       "        [0.        , 0.        , 0.        , ..., 0.        , 0.        ,\n",
       "         1.71428571],\n",
       "        [0.        , 0.        , 0.        , ..., 0.        , 0.        ,\n",
       "         1.2       ],\n",
       "        ...,\n",
       "        [0.        , 0.        , 0.        , ..., 1.        , 0.        ,\n",
       "         1.71428571],\n",
       "        [0.        , 0.        , 0.        , ..., 0.        , 0.        ,\n",
       "         1.        ],\n",
       "        [0.        , 0.        , 0.        , ..., 1.        , 0.        ,\n",
       "         2.        ]])"
      ]
     },
     "execution_count": 151,
     "metadata": {},
     "output_type": "execute_result"
    }
   ],
   "source": [
    "X_train_enc.todense()"
   ]
  },
  {
   "cell_type": "markdown",
   "metadata": {},
   "source": [
    "drop: ohe__x1_NONE, ohe__x2_Average, 'ohe__x3_3 Poor', 'ohe_x3_4 Low', 'ohe_x3_5 Fair', 'ohe_x4_Unincorporated City', 'ohe__x5_nan'\n"
   ]
  },
  {
   "cell_type": "code",
   "execution_count": 152,
   "metadata": {},
   "outputs": [
    {
     "data": {
      "text/plain": [
       "['ohe__x0_YES',\n",
       " 'ohe__x1_AVERAGE',\n",
       " 'ohe__x1_EXCELLENT',\n",
       " 'ohe__x1_FAIR',\n",
       " 'ohe__x1_GOOD',\n",
       " 'ohe__x1_NONE',\n",
       " 'ohe__x2_Average',\n",
       " 'ohe__x2_Fair',\n",
       " 'ohe__x2_Good',\n",
       " 'ohe__x2_Poor',\n",
       " 'ohe__x2_Very Good',\n",
       " 'ohe__x3_10 Very Good',\n",
       " 'ohe__x3_11 Excellent',\n",
       " 'ohe__x3_12 Luxury',\n",
       " 'ohe__x3_13 Mansion',\n",
       " 'ohe__x3_3 Poor',\n",
       " 'ohe__x3_4 Low',\n",
       " 'ohe__x3_5 Fair',\n",
       " 'ohe__x3_6 Low Average',\n",
       " 'ohe__x3_7 Average',\n",
       " 'ohe__x3_8 Good',\n",
       " 'ohe__x3_9 Better',\n",
       " 'ohe__x4_Algona',\n",
       " 'ohe__x4_Auburn',\n",
       " 'ohe__x4_Beaux Arts',\n",
       " 'ohe__x4_Bellevue',\n",
       " 'ohe__x4_Black Diamond',\n",
       " 'ohe__x4_Bothell',\n",
       " 'ohe__x4_Burien',\n",
       " 'ohe__x4_Carnation',\n",
       " 'ohe__x4_Clyde Hill',\n",
       " 'ohe__x4_Covington',\n",
       " 'ohe__x4_Des Moines',\n",
       " 'ohe__x4_Duvall',\n",
       " 'ohe__x4_Enumclaw',\n",
       " 'ohe__x4_Federal Way',\n",
       " 'ohe__x4_Hunts Point',\n",
       " 'ohe__x4_Issaquah',\n",
       " 'ohe__x4_Kenmore',\n",
       " 'ohe__x4_Kent',\n",
       " 'ohe__x4_Kirkland',\n",
       " 'ohe__x4_Lake Forest Park',\n",
       " 'ohe__x4_Maple Valley',\n",
       " 'ohe__x4_Medina',\n",
       " 'ohe__x4_Mercer Island',\n",
       " 'ohe__x4_Milton',\n",
       " 'ohe__x4_Newcastle',\n",
       " 'ohe__x4_Normandy Park',\n",
       " 'ohe__x4_North Bend',\n",
       " 'ohe__x4_Pacific',\n",
       " 'ohe__x4_Redmond',\n",
       " 'ohe__x4_Renton',\n",
       " 'ohe__x4_Sammamish',\n",
       " 'ohe__x4_SeaTac',\n",
       " 'ohe__x4_Seattle',\n",
       " 'ohe__x4_Shoreline',\n",
       " 'ohe__x4_Skykomish',\n",
       " 'ohe__x4_Snoqualmie',\n",
       " 'ohe__x4_Tukwila',\n",
       " 'ohe__x4_Unincorporated City',\n",
       " 'ohe__x4_Woodinville',\n",
       " 'ohe__x4_Yarrow Point',\n",
       " 'ohe__x5_Ballard',\n",
       " 'ohe__x5_Beacon Hill',\n",
       " 'ohe__x5_Capitol Hill',\n",
       " 'ohe__x5_Cascade',\n",
       " 'ohe__x5_Central Area',\n",
       " 'ohe__x5_Delridge',\n",
       " 'ohe__x5_Downtown',\n",
       " 'ohe__x5_Greater Duwamish',\n",
       " 'ohe__x5_Interbay',\n",
       " 'ohe__x5_Lake City',\n",
       " 'ohe__x5_Magnolia',\n",
       " 'ohe__x5_North Central',\n",
       " 'ohe__x5_Northeast',\n",
       " 'ohe__x5_Northgate',\n",
       " 'ohe__x5_Northwest',\n",
       " 'ohe__x5_Queen Anne',\n",
       " 'ohe__x5_Rainier Valley',\n",
       " 'ohe__x5_Seward Park',\n",
       " 'ohe__x5_University District',\n",
       " 'ohe__x5_West Seattle',\n",
       " 'ohe__x5_nan',\n",
       " 'bedrooms',\n",
       " 'sqft_living',\n",
       " 'sqft_lot',\n",
       " 'floors',\n",
       " 'zipcode',\n",
       " 'dist_seattle',\n",
       " 'has_basement',\n",
       " 'yr_renovated_missing',\n",
       " 'house_age',\n",
       " 'view_missing',\n",
       " 'waterfront_missing',\n",
       " 'resold',\n",
       " 'br_bth']"
      ]
     },
     "execution_count": 152,
     "metadata": {},
     "output_type": "execute_result"
    }
   ],
   "source": [
    "ct.get_feature_names()"
   ]
  },
  {
   "cell_type": "code",
   "execution_count": 153,
   "metadata": {},
   "outputs": [
    {
     "data": {
      "text/html": [
       "<div>\n",
       "<style scoped>\n",
       "    .dataframe tbody tr th:only-of-type {\n",
       "        vertical-align: middle;\n",
       "    }\n",
       "\n",
       "    .dataframe tbody tr th {\n",
       "        vertical-align: top;\n",
       "    }\n",
       "\n",
       "    .dataframe thead th {\n",
       "        text-align: right;\n",
       "    }\n",
       "</style>\n",
       "<table border=\"1\" class=\"dataframe\">\n",
       "  <thead>\n",
       "    <tr style=\"text-align: right;\">\n",
       "      <th></th>\n",
       "      <th>ohe__x0_YES</th>\n",
       "      <th>ohe__x1_AVERAGE</th>\n",
       "      <th>ohe__x1_EXCELLENT</th>\n",
       "      <th>ohe__x1_FAIR</th>\n",
       "      <th>ohe__x1_GOOD</th>\n",
       "      <th>ohe__x1_NONE</th>\n",
       "      <th>ohe__x2_Average</th>\n",
       "      <th>ohe__x2_Fair</th>\n",
       "      <th>ohe__x2_Good</th>\n",
       "      <th>ohe__x2_Poor</th>\n",
       "      <th>...</th>\n",
       "      <th>floors</th>\n",
       "      <th>zipcode</th>\n",
       "      <th>dist_seattle</th>\n",
       "      <th>has_basement</th>\n",
       "      <th>yr_renovated_missing</th>\n",
       "      <th>house_age</th>\n",
       "      <th>view_missing</th>\n",
       "      <th>waterfront_missing</th>\n",
       "      <th>resold</th>\n",
       "      <th>br_bth</th>\n",
       "    </tr>\n",
       "  </thead>\n",
       "  <tbody>\n",
       "    <tr>\n",
       "      <th>0</th>\n",
       "      <td>0.0</td>\n",
       "      <td>0.0</td>\n",
       "      <td>0.0</td>\n",
       "      <td>0.0</td>\n",
       "      <td>0.0</td>\n",
       "      <td>1.0</td>\n",
       "      <td>1.0</td>\n",
       "      <td>0.0</td>\n",
       "      <td>0.0</td>\n",
       "      <td>0.0</td>\n",
       "      <td>...</td>\n",
       "      <td>3.0</td>\n",
       "      <td>98103.0</td>\n",
       "      <td>5.194786</td>\n",
       "      <td>0.0</td>\n",
       "      <td>0.0</td>\n",
       "      <td>8.0</td>\n",
       "      <td>0.0</td>\n",
       "      <td>0.0</td>\n",
       "      <td>0.0</td>\n",
       "      <td>0.800000</td>\n",
       "    </tr>\n",
       "    <tr>\n",
       "      <th>1</th>\n",
       "      <td>0.0</td>\n",
       "      <td>0.0</td>\n",
       "      <td>0.0</td>\n",
       "      <td>0.0</td>\n",
       "      <td>0.0</td>\n",
       "      <td>1.0</td>\n",
       "      <td>1.0</td>\n",
       "      <td>0.0</td>\n",
       "      <td>0.0</td>\n",
       "      <td>0.0</td>\n",
       "      <td>...</td>\n",
       "      <td>1.0</td>\n",
       "      <td>98002.0</td>\n",
       "      <td>39.052771</td>\n",
       "      <td>0.0</td>\n",
       "      <td>0.0</td>\n",
       "      <td>17.0</td>\n",
       "      <td>0.0</td>\n",
       "      <td>0.0</td>\n",
       "      <td>0.0</td>\n",
       "      <td>1.714286</td>\n",
       "    </tr>\n",
       "    <tr>\n",
       "      <th>2</th>\n",
       "      <td>0.0</td>\n",
       "      <td>0.0</td>\n",
       "      <td>0.0</td>\n",
       "      <td>0.0</td>\n",
       "      <td>0.0</td>\n",
       "      <td>1.0</td>\n",
       "      <td>1.0</td>\n",
       "      <td>0.0</td>\n",
       "      <td>0.0</td>\n",
       "      <td>0.0</td>\n",
       "      <td>...</td>\n",
       "      <td>2.0</td>\n",
       "      <td>98042.0</td>\n",
       "      <td>28.246398</td>\n",
       "      <td>0.0</td>\n",
       "      <td>0.0</td>\n",
       "      <td>9.0</td>\n",
       "      <td>0.0</td>\n",
       "      <td>0.0</td>\n",
       "      <td>0.0</td>\n",
       "      <td>1.200000</td>\n",
       "    </tr>\n",
       "    <tr>\n",
       "      <th>3</th>\n",
       "      <td>0.0</td>\n",
       "      <td>0.0</td>\n",
       "      <td>0.0</td>\n",
       "      <td>0.0</td>\n",
       "      <td>0.0</td>\n",
       "      <td>1.0</td>\n",
       "      <td>1.0</td>\n",
       "      <td>0.0</td>\n",
       "      <td>0.0</td>\n",
       "      <td>0.0</td>\n",
       "      <td>...</td>\n",
       "      <td>1.0</td>\n",
       "      <td>98005.0</td>\n",
       "      <td>13.590328</td>\n",
       "      <td>1.0</td>\n",
       "      <td>0.0</td>\n",
       "      <td>36.0</td>\n",
       "      <td>0.0</td>\n",
       "      <td>0.0</td>\n",
       "      <td>0.0</td>\n",
       "      <td>1.200000</td>\n",
       "    </tr>\n",
       "    <tr>\n",
       "      <th>4</th>\n",
       "      <td>0.0</td>\n",
       "      <td>0.0</td>\n",
       "      <td>0.0</td>\n",
       "      <td>0.0</td>\n",
       "      <td>0.0</td>\n",
       "      <td>1.0</td>\n",
       "      <td>1.0</td>\n",
       "      <td>0.0</td>\n",
       "      <td>0.0</td>\n",
       "      <td>0.0</td>\n",
       "      <td>...</td>\n",
       "      <td>2.0</td>\n",
       "      <td>98042.0</td>\n",
       "      <td>32.935243</td>\n",
       "      <td>0.0</td>\n",
       "      <td>1.0</td>\n",
       "      <td>34.0</td>\n",
       "      <td>0.0</td>\n",
       "      <td>1.0</td>\n",
       "      <td>0.0</td>\n",
       "      <td>1.714286</td>\n",
       "    </tr>\n",
       "  </tbody>\n",
       "</table>\n",
       "<p>5 rows × 96 columns</p>\n",
       "</div>"
      ],
      "text/plain": [
       "   ohe__x0_YES  ohe__x1_AVERAGE  ohe__x1_EXCELLENT  ohe__x1_FAIR  \\\n",
       "0          0.0              0.0                0.0           0.0   \n",
       "1          0.0              0.0                0.0           0.0   \n",
       "2          0.0              0.0                0.0           0.0   \n",
       "3          0.0              0.0                0.0           0.0   \n",
       "4          0.0              0.0                0.0           0.0   \n",
       "\n",
       "   ohe__x1_GOOD  ohe__x1_NONE  ohe__x2_Average  ohe__x2_Fair  ohe__x2_Good  \\\n",
       "0           0.0           1.0              1.0           0.0           0.0   \n",
       "1           0.0           1.0              1.0           0.0           0.0   \n",
       "2           0.0           1.0              1.0           0.0           0.0   \n",
       "3           0.0           1.0              1.0           0.0           0.0   \n",
       "4           0.0           1.0              1.0           0.0           0.0   \n",
       "\n",
       "   ohe__x2_Poor  ...  floors  zipcode  dist_seattle  has_basement  \\\n",
       "0           0.0  ...     3.0  98103.0      5.194786           0.0   \n",
       "1           0.0  ...     1.0  98002.0     39.052771           0.0   \n",
       "2           0.0  ...     2.0  98042.0     28.246398           0.0   \n",
       "3           0.0  ...     1.0  98005.0     13.590328           1.0   \n",
       "4           0.0  ...     2.0  98042.0     32.935243           0.0   \n",
       "\n",
       "   yr_renovated_missing  house_age  view_missing  waterfront_missing  resold  \\\n",
       "0                   0.0        8.0           0.0                 0.0     0.0   \n",
       "1                   0.0       17.0           0.0                 0.0     0.0   \n",
       "2                   0.0        9.0           0.0                 0.0     0.0   \n",
       "3                   0.0       36.0           0.0                 0.0     0.0   \n",
       "4                   1.0       34.0           0.0                 1.0     0.0   \n",
       "\n",
       "     br_bth  \n",
       "0  0.800000  \n",
       "1  1.714286  \n",
       "2  1.200000  \n",
       "3  1.200000  \n",
       "4  1.714286  \n",
       "\n",
       "[5 rows x 96 columns]"
      ]
     },
     "execution_count": 153,
     "metadata": {},
     "output_type": "execute_result"
    }
   ],
   "source": [
    "# can display as a dataframe like so\n",
    "X_train = pd.DataFrame(X_train_enc.todense(), columns= ct.get_feature_names())\n",
    "X_train.head()"
   ]
  },
  {
   "cell_type": "code",
   "execution_count": null,
   "metadata": {},
   "outputs": [],
   "source": []
  },
  {
   "cell_type": "code",
   "execution_count": null,
   "metadata": {},
   "outputs": [],
   "source": [
    "train_df = pd.concat([X_train,y_train], axis=1)\n",
    "train_df.corr().abs()['price'].sort_values()"
   ]
  },
  {
   "cell_type": "code",
   "execution_count": null,
   "metadata": {},
   "outputs": [],
   "source": [
    "def build_model(X_train, X_test, y_train, y_test):\n",
    "    \n",
    "    \"\"\"\n",
    "    Build a regression model\n",
    "    \n",
    "    \"\"\"\n",
    "    \n",
    "    lr = LinearRegression()\n",
    "    lr.fit(X_train,y_train)\n",
    "    R2_train = lr.score(X_train,y_train)\n",
    "    R2_test = lr.score(X_test,y_test)\n",
    "\n",
    "\n",
    "    yhat_train = lr.predict(X_train)\n",
    "    train_rmse = mean_squared_error(y_train, yhat_train, squared = False)\n",
    "\n",
    "    yhat_test = lr.predict(X_test)\n",
    "    test_rmse = mean_squared_error(y_test, yhat_test, squared = False)\n",
    "    \n",
    "    print(f'Train R2: {baseline_lr.score(X1_train,y_train)}')\n",
    "    print(f'Test R2: {baseline_lr.score(X1_test,y_test)}')\n",
    "    print(f'Train RMSE: {train_rmse}')\n",
    "    print(f'Test RMSE: {test_rmse}')\n",
    "    \n",
    "    return R2_train, R2_test, train_rmse, test_rmse\n"
   ]
  },
  {
   "cell_type": "code",
   "execution_count": null,
   "metadata": {},
   "outputs": [],
   "source": [
    "#Build baseline model\n",
    "\n",
    "X1_train = X_train[['sqft_living']]\n",
    "X1_test = X_test[['sqft_living']]\n",
    "\n",
    "baseline_lr = LinearRegression()\n",
    "baseline_lr.fit(X1_train,y_train)\n",
    "\n",
    "print(f'Baseline_train R2: {baseline_lr.score(X1_train,y_train)}')\n",
    "print(f'Baseline_test R2: {baseline_lr.score(X1_test,y_test)}')\n",
    "\n",
    "yhat_train = baseline_lr.predict(X1_train)\n",
    "train_rmse = mean_squared_error(y_train, yhat_train, squared = False)\n",
    "print(f'Train RMSE: {train_rmse}')\n",
    "\n",
    "yhat_test = baseline_lr.predict(X1_test)\n",
    "test_rmse = mean_squared_error(y_test, yhat_test, squared = False)\n",
    "print(f'Test RMSE: {test_rmse}')\n",
    "\n"
   ]
  },
  {
   "cell_type": "code",
   "execution_count": null,
   "metadata": {},
   "outputs": [],
   "source": [
    "X2_train = X_train[['sqft_living','bedrooms']]\n",
    "X2_test = X_test[['sqft_living','bedrooms']]\n",
    "\n",
    "model_1_r2_train, model_1_r2_test, train_rmse, test_rmse = build_model(X2_train,X2_test,y_train,y_test)\n"
   ]
  },
  {
   "cell_type": "code",
   "execution_count": null,
   "metadata": {},
   "outputs": [],
   "source": []
  },
  {
   "cell_type": "code",
   "execution_count": null,
   "metadata": {},
   "outputs": [],
   "source": []
  }
 ],
 "metadata": {
  "kernelspec": {
   "display_name": "geo_env",
   "language": "python",
   "name": "geo_env"
  },
  "language_info": {
   "codemirror_mode": {
    "name": "ipython",
    "version": 3
   },
   "file_extension": ".py",
   "mimetype": "text/x-python",
   "name": "python",
   "nbconvert_exporter": "python",
   "pygments_lexer": "ipython3",
   "version": "3.10.4"
  },
  "toc": {
   "base_numbering": 1,
   "nav_menu": {},
   "number_sections": true,
   "sideBar": true,
   "skip_h1_title": false,
   "title_cell": "Table of Contents",
   "title_sidebar": "Contents",
   "toc_cell": false,
   "toc_position": {},
   "toc_section_display": true,
   "toc_window_display": false
  }
 },
 "nbformat": 4,
 "nbformat_minor": 4
}
