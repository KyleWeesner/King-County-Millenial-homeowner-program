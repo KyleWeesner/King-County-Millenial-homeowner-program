{
 "cells": [
  {
   "cell_type": "markdown",
   "metadata": {},
   "source": [
    "# King County Millenial homeowner program\n",
    "\n",
    "**Buying a property in King County recommendations for Millennials**\n",
    "\n",
    "**Authors:** Hanis Zulmuthi, Greg Burgess, Kyle Weesner\n",
    "\n",
    "***March 2022***\n"
   ]
  },
  {
   "cell_type": "markdown",
   "metadata": {},
   "source": [
    "<img src=\"https://www.condosky.com/wp-content/uploads/2019/06/Young-Families-Condos-Toronto-e1561577724820.jpg\" alt=\"A picture of a multiracial family sitting on the floor together surrounded by moving boxes\" title=\"\" />"
   ]
  },
  {
   "cell_type": "markdown",
   "metadata": {},
   "source": [
    "# Overview\n",
    "\n",
    "King County in Washington State is growing in population made up of Millenials and Generation Z who either grew up or migrated to the area and found life in the region. We, the Data Analysts at the Greek Honey Real Estate are working on building a model that predicts house prices in King County with the goal to help folks from the demographic to find their dream house that fits their lifestyle and their budget! "
   ]
  },
  {
   "cell_type": "markdown",
   "metadata": {},
   "source": [
    "## Business Problem\n",
    "\n",
    "Housing market in King County region, especially in the major cities such as Seattle, are becoming more and more financially inaccessible for many demographics. The demographic of interest for our real-estate is millenials who are building their career, family and trying to break into the housing market to have a stable housing for themselves. With our house price predicition model, we will help them to find the market value of their ideal house that are in proximity to city centers."
   ]
  },
  {
   "cell_type": "markdown",
   "metadata": {},
   "source": [
    "## Data Understanding\n",
    "\n",
    "### 1. King County Housing data ([kc_house_data.csv](https://github.com/hanis-z/Phase-2-project/blob/main/data/kc_house_data.csv))\n",
    "**Source:** This data was provided to us by Flatiron School. This data file is available in the project repo in the folder \"data\". \n",
    "\n",
    "**Contents:**\n",
    "This [file](data/column_names.md) which provides information regarding the column names and descriptions for King County data set in the years of 2014-2015.\n",
    "\n",
    "### 2. Incorporated & Unincorporated cities in King county\n",
    "**Source:** We downloaded this data from [King County GIS website]( https://gis-kingcounty.opendata.arcgis.com/datasets/kingcounty::cities-and-unincorporated-king-county-city-kc-area/explore?location=47.430582%2C-121.809200%2C10.02). The data is also easily accessible in our project repo in the folder \"data\".\n",
    "\n",
    "**Contents:** This dateset provided us with city boundaries of cities in King County in a shapefile along with `CITYNAME`.\n",
    "\n",
    "\n",
    "### 3. Neighborhood Map of Seattle\n",
    "**Source:** We attained this data from [Seattle city GIS website](https://data-seattlecitygis.opendata.arcgis.com/datasets/neighborhood-map-atlas-districts/explore?location=47.628714%2C-122.338313%2C11.43]). This data is also easily accessible in our project repo in the folder \"data\".\n",
    "\n",
    "**Contents:** This dataset provided us with neighborhood boundaries of neighborhoods in Seattle city along with neighborhood (`L_HOOD`).\n"
   ]
  },
  {
   "cell_type": "markdown",
   "metadata": {},
   "source": [
    "### Importing python libraries required for the analysis.\n",
    "\n",
    "**Note:** To ensure that all packages are loaded successfully, please ensure that you have set up the right python environment using the [YML file](geo_env.yml) provided in this project repository."
   ]
  },
  {
   "cell_type": "code",
   "execution_count": 1,
   "metadata": {},
   "outputs": [],
   "source": [
    "import pandas as pd\n",
    "import numpy as np\n",
    "import seaborn as sns\n",
    "import matplotlib.pyplot as plt\n",
    "%matplotlib inline\n",
    "import warnings\n",
    "warnings.filterwarnings('ignore')\n",
    "\n",
    "from sklearn.linear_model import LinearRegression\n",
    "from sklearn.metrics import mean_squared_error\n",
    "from sklearn.model_selection import train_test_split\n",
    "from sklearn.preprocessing import StandardScaler, OrdinalEncoder, OneHotEncoder, PolynomialFeatures\n",
    "from sklearn.compose import ColumnTransformer\n",
    "from sklearn.dummy import DummyRegressor\n",
    "\n",
    "from statsmodels.formula.api import ols\n",
    "from patsy import dmatrices\n",
    "from statsmodels.stats.outliers_influence import variance_inflation_factor\n",
    "import statsmodels.api as sm"
   ]
  },
  {
   "cell_type": "markdown",
   "metadata": {},
   "source": [
    "### Define Helper Functions for Data Exploration and Cleaning"
   ]
  },
  {
   "cell_type": "code",
   "execution_count": 2,
   "metadata": {},
   "outputs": [],
   "source": [
    "def dataframe_info(df):\n",
    "    '''\n",
    "    Takes Pandas dataframe (df). Prints number of rows, number of columns, and three sample rows.\n",
    "    Returns list of numerical columns and list of non-numerical columns.\n",
    "    '''\n",
    "    numeric_cols = df.select_dtypes(include=np.number).columns.tolist()\n",
    "    object_cols  = df.select_dtypes(exclude=np.number).columns.tolist()\n",
    "\n",
    "    nrows, ncol = df.shape\n",
    "    nmid = nrows // 2\n",
    "    \n",
    "    print(f\"Dimensions: {nrows} rows and {ncol} columns\")\n",
    "    print(f\"Numeric columns: {len(numeric_cols)}\")\n",
    "    print(f\"Object columns: {len(object_cols)}\")\n",
    "\n",
    "    display(df.iloc[[0,nmid,nrows-1]]) # show three rows: first, mid, and last\n",
    "\n",
    "    return numeric_cols, object_cols"
   ]
  },
  {
   "cell_type": "code",
   "execution_count": 3,
   "metadata": {},
   "outputs": [],
   "source": [
    "def cleaned_column_names(column_list):\n",
    "    '''\n",
    "    Takes list of column names (e.g. from df.columns). \n",
    "    Returns list of cleaned column names that can be assigned to DataFrame.\n",
    "    Usage: df.columns = cleaned_column_names(df.columns)\n",
    "    '''\n",
    "    return [name.strip().lower().replace(' ','').replace('-', '_') for name in column_list]"
   ]
  },
  {
   "cell_type": "markdown",
   "metadata": {},
   "source": [
    "## Data Exploration & Preparation for Linear Regression Modelling\n"
   ]
  },
  {
   "cell_type": "markdown",
   "metadata": {},
   "source": [
    "### Load King County Housing data"
   ]
  },
  {
   "cell_type": "code",
   "execution_count": 4,
   "metadata": {},
   "outputs": [],
   "source": [
    "housing_df = pd.read_csv('data/housing_gdf_complete.csv')\n",
    "housing_df.columns = cleaned_column_names(housing_df.columns)"
   ]
  },
  {
   "cell_type": "code",
   "execution_count": 5,
   "metadata": {},
   "outputs": [
    {
     "name": "stdout",
     "output_type": "stream",
     "text": [
      "Dimensions: 21596 rows and 28 columns\n",
      "Numeric columns: 17\n",
      "Object columns: 11\n"
     ]
    },
    {
     "data": {
      "text/html": [
       "<div>\n",
       "<style scoped>\n",
       "    .dataframe tbody tr th:only-of-type {\n",
       "        vertical-align: middle;\n",
       "    }\n",
       "\n",
       "    .dataframe tbody tr th {\n",
       "        vertical-align: top;\n",
       "    }\n",
       "\n",
       "    .dataframe thead th {\n",
       "        text-align: right;\n",
       "    }\n",
       "</style>\n",
       "<table border=\"1\" class=\"dataframe\">\n",
       "  <thead>\n",
       "    <tr style=\"text-align: right;\">\n",
       "      <th></th>\n",
       "      <th>unnamed:0</th>\n",
       "      <th>id</th>\n",
       "      <th>date</th>\n",
       "      <th>price</th>\n",
       "      <th>bedrooms</th>\n",
       "      <th>bathrooms</th>\n",
       "      <th>sqft_living</th>\n",
       "      <th>sqft_lot</th>\n",
       "      <th>floors</th>\n",
       "      <th>waterfront</th>\n",
       "      <th>...</th>\n",
       "      <th>lat</th>\n",
       "      <th>long</th>\n",
       "      <th>sqft_living15</th>\n",
       "      <th>sqft_lot15</th>\n",
       "      <th>coord</th>\n",
       "      <th>geometry</th>\n",
       "      <th>city</th>\n",
       "      <th>dist_seattle</th>\n",
       "      <th>neighborhood</th>\n",
       "      <th>in_seattle</th>\n",
       "    </tr>\n",
       "  </thead>\n",
       "  <tbody>\n",
       "    <tr>\n",
       "      <th>0</th>\n",
       "      <td>0</td>\n",
       "      <td>8856004730</td>\n",
       "      <td>9/17/2014</td>\n",
       "      <td>199950.0</td>\n",
       "      <td>2</td>\n",
       "      <td>2.75</td>\n",
       "      <td>1590</td>\n",
       "      <td>20917</td>\n",
       "      <td>1.5</td>\n",
       "      <td>NO</td>\n",
       "      <td>...</td>\n",
       "      <td>47.2786</td>\n",
       "      <td>-122.250</td>\n",
       "      <td>1310</td>\n",
       "      <td>6000</td>\n",
       "      <td>(-122.25, 47.2786)</td>\n",
       "      <td>POINT (392815.9311460542 31962.040946318088)</td>\n",
       "      <td>Algona</td>\n",
       "      <td>38586.298196</td>\n",
       "      <td>NaN</td>\n",
       "      <td>False</td>\n",
       "    </tr>\n",
       "    <tr>\n",
       "      <th>10798</th>\n",
       "      <td>10798</td>\n",
       "      <td>7237500590</td>\n",
       "      <td>11/17/2014</td>\n",
       "      <td>1320000.0</td>\n",
       "      <td>4</td>\n",
       "      <td>5.25</td>\n",
       "      <td>6110</td>\n",
       "      <td>10369</td>\n",
       "      <td>2.0</td>\n",
       "      <td>NO</td>\n",
       "      <td>...</td>\n",
       "      <td>47.5285</td>\n",
       "      <td>-122.135</td>\n",
       "      <td>4190</td>\n",
       "      <td>10762</td>\n",
       "      <td>(-122.135, 47.5285)</td>\n",
       "      <td>POINT (401985.90108066204 59588.48465827319)</td>\n",
       "      <td>Newcastle</td>\n",
       "      <td>19145.331588</td>\n",
       "      <td>NaN</td>\n",
       "      <td>False</td>\n",
       "    </tr>\n",
       "    <tr>\n",
       "      <th>21595</th>\n",
       "      <td>21595</td>\n",
       "      <td>9808100150</td>\n",
       "      <td>4/2/2015</td>\n",
       "      <td>3350000.0</td>\n",
       "      <td>5</td>\n",
       "      <td>3.75</td>\n",
       "      <td>5350</td>\n",
       "      <td>15360</td>\n",
       "      <td>1.0</td>\n",
       "      <td>NO</td>\n",
       "      <td>...</td>\n",
       "      <td>47.6480</td>\n",
       "      <td>-122.218</td>\n",
       "      <td>3740</td>\n",
       "      <td>15940</td>\n",
       "      <td>(-122.218, 47.648)</td>\n",
       "      <td>POINT (395975.83394082234 72981.52286293103)</td>\n",
       "      <td>Yarrow Point</td>\n",
       "      <td>10564.303190</td>\n",
       "      <td>NaN</td>\n",
       "      <td>False</td>\n",
       "    </tr>\n",
       "  </tbody>\n",
       "</table>\n",
       "<p>3 rows × 28 columns</p>\n",
       "</div>"
      ],
      "text/plain": [
       "       unnamed:0          id        date      price  bedrooms  bathrooms  \\\n",
       "0              0  8856004730   9/17/2014   199950.0         2       2.75   \n",
       "10798      10798  7237500590  11/17/2014  1320000.0         4       5.25   \n",
       "21595      21595  9808100150    4/2/2015  3350000.0         5       3.75   \n",
       "\n",
       "       sqft_living  sqft_lot  floors waterfront  ...      lat     long  \\\n",
       "0             1590     20917     1.5         NO  ...  47.2786 -122.250   \n",
       "10798         6110     10369     2.0         NO  ...  47.5285 -122.135   \n",
       "21595         5350     15360     1.0         NO  ...  47.6480 -122.218   \n",
       "\n",
       "      sqft_living15  sqft_lot15                coord  \\\n",
       "0              1310        6000   (-122.25, 47.2786)   \n",
       "10798          4190       10762  (-122.135, 47.5285)   \n",
       "21595          3740       15940   (-122.218, 47.648)   \n",
       "\n",
       "                                           geometry          city  \\\n",
       "0      POINT (392815.9311460542 31962.040946318088)        Algona   \n",
       "10798  POINT (401985.90108066204 59588.48465827319)     Newcastle   \n",
       "21595  POINT (395975.83394082234 72981.52286293103)  Yarrow Point   \n",
       "\n",
       "       dist_seattle  neighborhood  in_seattle  \n",
       "0      38586.298196           NaN       False  \n",
       "10798  19145.331588           NaN       False  \n",
       "21595  10564.303190           NaN       False  \n",
       "\n",
       "[3 rows x 28 columns]"
      ]
     },
     "metadata": {},
     "output_type": "display_data"
    }
   ],
   "source": [
    "num, obj = dataframe_info(housing_df)"
   ]
  },
  {
   "cell_type": "code",
   "execution_count": 6,
   "metadata": {},
   "outputs": [
    {
     "name": "stdout",
     "output_type": "stream",
     "text": [
      "List of numeric columns:  ['unnamed:0', 'id', 'price', 'bedrooms', 'bathrooms', 'sqft_living', 'sqft_lot', 'floors', 'sqft_above', 'yr_built', 'yr_renovated', 'zipcode', 'lat', 'long', 'sqft_living15', 'sqft_lot15', 'dist_seattle']\n",
      "List of object columns:  ['date', 'waterfront', 'view', 'condition', 'grade', 'sqft_basement', 'coord', 'geometry', 'city', 'neighborhood', 'in_seattle']\n"
     ]
    }
   ],
   "source": [
    "print(\"List of numeric columns: \", num)\n",
    "print(\"List of object columns: \", obj)"
   ]
  },
  {
   "cell_type": "markdown",
   "metadata": {},
   "source": [
    "The original distance estimates from geopandas is in meters.\n",
    "\n",
    "To make it more relevant, let's convert the distances to miles."
   ]
  },
  {
   "cell_type": "code",
   "execution_count": 7,
   "metadata": {},
   "outputs": [],
   "source": [
    "# convert dist_seattle from meters to miles\n",
    "housing_df['dist_seattle'] = housing_df['dist_seattle'] / 1609.34"
   ]
  },
  {
   "cell_type": "markdown",
   "metadata": {},
   "source": [
    "## Data Cleaning"
   ]
  },
  {
   "cell_type": "markdown",
   "metadata": {},
   "source": [
    "### Basement"
   ]
  },
  {
   "cell_type": "markdown",
   "metadata": {},
   "source": [
    "Creating a feature if the house has a basement or not."
   ]
  },
  {
   "cell_type": "code",
   "execution_count": 8,
   "metadata": {},
   "outputs": [],
   "source": [
    "# sqft_basement should equal difference between sqft_living and sqft_above\n",
    "sqft_basement_computed = housing_df['sqft_living'] - housing_df['sqft_above']\n",
    "\n",
    "housing_df['has_basement'] = (sqft_basement_computed > 0).astype(int)"
   ]
  },
  {
   "cell_type": "markdown",
   "metadata": {},
   "source": [
    "### Year renovated"
   ]
  },
  {
   "cell_type": "markdown",
   "metadata": {},
   "source": [
    "Creating a feature of houses that have been renovated in the past 5 years."
   ]
  },
  {
   "cell_type": "code",
   "execution_count": 9,
   "metadata": {},
   "outputs": [],
   "source": [
    "housing_df['sold_dt'] = pd.to_datetime(housing_df['date']) #made a new column with date by using the pd.to_datetime()\n",
    "housing_df['sold_year'] = pd.DatetimeIndex(housing_df['sold_dt']).year #made a new column year sold \n",
    "housing_df['sold_month'] = pd.DatetimeIndex(housing_df['sold_dt']).month #made a new column month sold "
   ]
  },
  {
   "cell_type": "code",
   "execution_count": 10,
   "metadata": {},
   "outputs": [],
   "source": [
    "housing_df['yr_renovated_missing'] = (housing_df['yr_renovated'].isna()).astype(int) #saving nulls for accessibility\n",
    "housing_df['yr_renovated'].fillna(0, inplace=True) # Rewriting dataframe filling null values with zeros\n",
    "\n",
    "housing_df['renovated'] = ((housing_df['sold_year'] - housing_df['yr_renovated']) <= 5).astype(int) \n",
    "#houses renovated within the past 5 years"
   ]
  },
  {
   "cell_type": "markdown",
   "metadata": {},
   "source": [
    "### Age of the house"
   ]
  },
  {
   "cell_type": "markdown",
   "metadata": {},
   "source": [
    "Creating a feature of the age in years of the houses."
   ]
  },
  {
   "cell_type": "code",
   "execution_count": 11,
   "metadata": {},
   "outputs": [
    {
     "data": {
      "text/plain": [
       "count    21596.000000\n",
       "mean        43.323810\n",
       "std         29.377864\n",
       "min         -1.000000\n",
       "25%         18.000000\n",
       "50%         40.000000\n",
       "75%         63.000000\n",
       "max        115.000000\n",
       "Name: house_age, dtype: float64"
      ]
     },
     "execution_count": 11,
     "metadata": {},
     "output_type": "execute_result"
    }
   ],
   "source": [
    "housing_df['house_age'] = housing_df['sold_year'] - housing_df['yr_built'] #year sold minus year built gets the age of the house\n",
    "housing_df['house_age'].describe()"
   ]
  },
  {
   "cell_type": "markdown",
   "metadata": {},
   "source": [
    "### View"
   ]
  },
  {
   "cell_type": "markdown",
   "metadata": {},
   "source": [
    "Cleaning up missing values in the view column before using it as a feature."
   ]
  },
  {
   "cell_type": "code",
   "execution_count": 12,
   "metadata": {},
   "outputs": [],
   "source": [
    "housing_df['view_missing'] = (housing_df['view'].isna()).astype(int) #saving nulls for accessibility\n",
    "housing_df['view'].fillna('NONE', inplace=True) #Rewriting dataframe filling null values with NONE"
   ]
  },
  {
   "cell_type": "markdown",
   "metadata": {},
   "source": [
    "### Waterfront"
   ]
  },
  {
   "cell_type": "markdown",
   "metadata": {},
   "source": [
    "Cleaning up missing values in the waterfront column before using it as a feature."
   ]
  },
  {
   "cell_type": "code",
   "execution_count": 13,
   "metadata": {},
   "outputs": [],
   "source": [
    "housing_df['waterfront_missing'] = (housing_df['waterfront'].isna()).astype(int)#saving nulls for accessibility\n",
    "housing_df['waterfront'].fillna('NO', inplace=True) #Rewriting dataframe filling null values with NO"
   ]
  },
  {
   "cell_type": "markdown",
   "metadata": {},
   "source": [
    "### Duplicate records (house resold)"
   ]
  },
  {
   "cell_type": "markdown",
   "metadata": {},
   "source": [
    "Creating a feature of individual houses that were sold more than once (stated as a boolean value)."
   ]
  },
  {
   "cell_type": "code",
   "execution_count": 14,
   "metadata": {
    "scrolled": false
   },
   "outputs": [
    {
     "name": "stdout",
     "output_type": "stream",
     "text": [
      "Number of rows:\t\t21596\n",
      "Number unique:\t\t21419\n",
      "Number duplicates:\t177\n"
     ]
    }
   ],
   "source": [
    "print(f\"Number of rows:\\t\\t{len(housing_df['id'])}\") #Total number of houses sold on id including repeats\n",
    "print(f\"Number unique:\\t\\t{len(housing_df['id'].unique())}\") #First time houses being sold in this data set\n",
    "print(f\"Number duplicates:\\t{sum(housing_df['id'].duplicated() == True)}\") #houses being resold"
   ]
  },
  {
   "cell_type": "code",
   "execution_count": 15,
   "metadata": {},
   "outputs": [],
   "source": [
    "#sorting df by their dates so that resold rows come later in the dataframe\n",
    "housing_df = housing_df.sort_values(by=['sold_year', 'sold_month']) \n",
    "\n",
    "#creates a boolean column for duplicated id of houses, then changes to int [0, 1]\n",
    "housing_df['resold'] = housing_df.id.duplicated().astype(int) "
   ]
  },
  {
   "cell_type": "markdown",
   "metadata": {},
   "source": [
    "### Fill NaNs in neighborhood column"
   ]
  },
  {
   "cell_type": "markdown",
   "metadata": {},
   "source": [
    "Replace NaNs with 'NA' string, to create category where Seattle neighborhood is \"not applicable\""
   ]
  },
  {
   "cell_type": "code",
   "execution_count": 16,
   "metadata": {},
   "outputs": [],
   "source": [
    "housing_df['neighborhood'] = housing_df['neighborhood'].fillna('NA')"
   ]
  },
  {
   "cell_type": "markdown",
   "metadata": {},
   "source": [
    "### Ratio between bedrooms and bathrooms"
   ]
  },
  {
   "cell_type": "markdown",
   "metadata": {},
   "source": [
    "Creating a feature of the ratio between bedrooms and bathrooms."
   ]
  },
  {
   "cell_type": "code",
   "execution_count": 17,
   "metadata": {},
   "outputs": [],
   "source": [
    "housing_df['br_bth'] = housing_df.bedrooms / housing_df.bathrooms"
   ]
  },
  {
   "cell_type": "markdown",
   "metadata": {},
   "source": [
    "### Category `in_seattle`"
   ]
  },
  {
   "cell_type": "markdown",
   "metadata": {},
   "source": [
    "Creating a feature of the with 1 correlating to yes and 0 as no if they are in the city of Seattle or not."
   ]
  },
  {
   "cell_type": "code",
   "execution_count": 18,
   "metadata": {},
   "outputs": [],
   "source": [
    "housing_df['in_seattle'] = housing_df['in_seattle'].astype(int)"
   ]
  },
  {
   "cell_type": "markdown",
   "metadata": {},
   "source": [
    "## Verify that columns are not collinear"
   ]
  },
  {
   "cell_type": "markdown",
   "metadata": {},
   "source": [
    "### Manually remove collinear numeric columns"
   ]
  },
  {
   "cell_type": "markdown",
   "metadata": {},
   "source": [
    "As we tested collinearity of individual features with other features, we manually edited columns in `relevant_num_cols` to eliminate columns correlated > 0.7 with other columns"
   ]
  },
  {
   "cell_type": "code",
   "execution_count": 19,
   "metadata": {},
   "outputs": [],
   "source": [
    "relevant_num_cols = [\n",
    "    'bedrooms',\n",
    "    'sqft_living',\n",
    "    'sqft_lot',\n",
    "    'floors',\n",
    "    'dist_seattle',\n",
    "    'has_basement',\n",
    "    'yr_renovated_missing',\n",
    "    'house_age',\n",
    "    'view_missing',\n",
    "    'waterfront_missing',\n",
    "    'resold',\n",
    "    'br_bth', \n",
    "    'renovated'\n",
    "] #list of relevant numerical columns"
   ]
  },
  {
   "cell_type": "code",
   "execution_count": 20,
   "metadata": {},
   "outputs": [
    {
     "data": {
      "image/png": "[encoded data removed]",
      "text/plain": [
       "<Figure size 432x288 with 2 Axes>"
      ]
     },
     "metadata": {
      "needs_background": "light"
     },
     "output_type": "display_data"
    }
   ],
   "source": [
    "sns.heatmap(housing_df[relevant_num_cols].corr().abs(), vmin=.7, vmax=0.7);  \n",
    "#checking for multicollinerarity between features using .7 as the cut off value"
   ]
  },
  {
   "cell_type": "markdown",
   "metadata": {},
   "source": [
    "### Remove collinear categorical columns"
   ]
  },
  {
   "cell_type": "markdown",
   "metadata": {},
   "source": [
    "Collinearity of categorical columns will need to be verified using VIF after running statsmodels. Here, we are creating a list of categorical columns that we want to keep for our model. As we find that the columns were collinear (using VIF), we removed the column from this list."
   ]
  },
  {
   "cell_type": "code",
   "execution_count": 21,
   "metadata": {},
   "outputs": [],
   "source": [
    "relevant_cat_col =  [\n",
    "    'waterfront',\n",
    "    'zipcode',\n",
    "    'view',\n",
    "    'condition',\n",
    "    'grade',\n",
    "    'city',\n",
    "    'neighborhood'\n",
    "  ]"
   ]
  },
  {
   "cell_type": "markdown",
   "metadata": {},
   "source": [
    "### Train test split"
   ]
  },
  {
   "cell_type": "markdown",
   "metadata": {},
   "source": [
    "We will log transform our target feature (house price) to reduce the skew in distribution of price as well as reduce residuals in our model."
   ]
  },
  {
   "cell_type": "code",
   "execution_count": 22,
   "metadata": {},
   "outputs": [],
   "source": [
    "y = np.log(housing_df['price']) \n",
    "X = housing_df[relevant_num_cols+relevant_cat_col]"
   ]
  },
  {
   "cell_type": "code",
   "execution_count": 23,
   "metadata": {},
   "outputs": [],
   "source": [
    "X_train, X_test, y_train, y_test = train_test_split(X, y, test_size=0.33, random_state=42) #train test split"
   ]
  },
  {
   "cell_type": "markdown",
   "metadata": {},
   "source": [
    "## One Hot Encoder"
   ]
  },
  {
   "cell_type": "code",
   "execution_count": 24,
   "metadata": {},
   "outputs": [],
   "source": [
    "# Version of One Hot Encoder in learn-env doesn't allow setting drop flag and handle_unknown flag simultaneously\n",
    "# Be sure to choose columns to drop manually to avoid perfect collinearity\n",
    "encoder = OneHotEncoder(handle_unknown='ignore',\n",
    "                        categories='auto') \n",
    "\n",
    "# Create ColumnTransformer to transform all relevant_cat_col columns with OHE encoder\n",
    "ct = ColumnTransformer(transformers=[ ('ohe', encoder, relevant_cat_col) ],\n",
    "                       remainder='passthrough')\n",
    "\n",
    "# Now that we have ct, fit it to the X_train, and apply that transformation to both X_train and X_test\n",
    "ct.fit(X_train)\n",
    "X_train_enc = ct.transform(X_train)\n",
    "X_test_enc = ct.transform(X_test)"
   ]
  },
  {
   "cell_type": "code",
   "execution_count": 25,
   "metadata": {},
   "outputs": [],
   "source": [
    "# Put encoder output back into DataFrame for X_train and X_test\n",
    "X_train = pd.DataFrame(X_train_enc.todense(), columns= ct.get_feature_names(), index=X_train.index)\n",
    "X_test = pd.DataFrame(X_test_enc.todense(), columns= ct.get_feature_names(), index=X_test.index)"
   ]
  },
  {
   "cell_type": "markdown",
   "metadata": {},
   "source": [
    "Column names in output of OHE ColumnTransformer are unwieldy. \n",
    "\n",
    "I'm creating a dict mapping changes from automated naming convention to something more readable."
   ]
  },
  {
   "cell_type": "code",
   "execution_count": 26,
   "metadata": {},
   "outputs": [],
   "source": [
    "replace_dict = {\n",
    "    'ohe__': '',\n",
    "    'x0': 'waterfront',\n",
    "    'x1': 'zip',\n",
    "    'x2': 'view',\n",
    "    'x3': 'condition',\n",
    "    'x4': 'grade',\n",
    "    'x5': 'city',\n",
    "    'x6': 'neighborhood'\n",
    "}"
   ]
  },
  {
   "cell_type": "code",
   "execution_count": 27,
   "metadata": {},
   "outputs": [],
   "source": [
    "# Use cleaned_column_names to remove spaces\n",
    "X_train.columns = cleaned_column_names(X_train.columns)\n",
    "\n",
    "for key, value in replace_dict.items():\n",
    "    X_train.columns = [ x.replace(key, value) for x in list(X_train.columns) ]"
   ]
  },
  {
   "cell_type": "code",
   "execution_count": 28,
   "metadata": {},
   "outputs": [],
   "source": [
    "# Use cleaned_column_names to remove spaces\n",
    "X_test.columns = cleaned_column_names(X_test.columns)\n",
    "\n",
    "for key, value in replace_dict.items():\n",
    "    X_test.columns = [ x.replace(key, value) for x in list(X_test.columns) ]"
   ]
  },
  {
   "cell_type": "markdown",
   "metadata": {},
   "source": [
    "We will use the function below to group together One Hot Encoded columns into the same feature category."
   ]
  },
  {
   "cell_type": "code",
   "execution_count": 29,
   "metadata": {},
   "outputs": [],
   "source": [
    "#Separate gruop OHE columns by features\n",
    "\n",
    "def ohe_list(string_id, col_list):\n",
    "    \"\"\"\n",
    "    This function takes the string, search the string (that specifies feature) in the col names, \n",
    "    and group the columns together in a list\n",
    "    \"\"\"\n",
    "    ohe_list_group = [x for x in col_list if string_id in x]\n",
    "    return ohe_list_group\n"
   ]
  },
  {
   "cell_type": "code",
   "execution_count": 30,
   "metadata": {},
   "outputs": [],
   "source": [
    "#Get ohe columns for zipcode & drop the first one\n",
    "ohe_zip_cols = ohe_list('zip',X_train.columns)\n",
    "ohe_zip_cols = ohe_zip_cols[1:]\n",
    "\n",
    "#Get ohe columns for grade & drop grade 7\n",
    "ohe_grade_cols = ohe_list('grade',X_train.columns)\n",
    "ohe_grade_cols.remove('grade_7average')\n",
    "\n",
    "#Get ohe columns for neighborhoods & drop na\n",
    "ohe_neigh_cols = ohe_list('neighborhood',X_train.columns)\n",
    "ohe_neigh_cols.remove('neighborhood_na')\n",
    "\n",
    "#get ohe columns for view & drop none\n",
    "ohe_view_cols = ohe_list('view', X_train.columns)\n",
    "ohe_view_cols.remove('view_none')"
   ]
  },
  {
   "cell_type": "markdown",
   "metadata": {},
   "source": [
    "## Get model metrics and validation using sklearn LinearRegression"
   ]
  },
  {
   "cell_type": "markdown",
   "metadata": {},
   "source": [
    "### Create functions to assist with evaluation of model assumptions and model fitting"
   ]
  },
  {
   "cell_type": "code",
   "execution_count": 31,
   "metadata": {},
   "outputs": [],
   "source": [
    "def build_model(X_train, X_test, y_train, y_test):\n",
    "    \n",
    "    \"\"\"\n",
    "    Build a regression model\n",
    "    \n",
    "    \"\"\"\n",
    "    \n",
    "    lr = LinearRegression()\n",
    "    lr.fit(X_train,y_train)\n",
    "    R2_train = lr.score(X_train,y_train)\n",
    "    R2_test = lr.score(X_test,y_test)\n",
    "\n",
    "\n",
    "    yhat_train = lr.predict(X_train)\n",
    "    train_rmse = mean_squared_error(np.exp(y_train), np.exp(yhat_train), squared = False)\n",
    "\n",
    "    yhat_test = lr.predict(X_test)\n",
    "    test_rmse = mean_squared_error(np.exp(y_test), np.exp(yhat_test), squared = False)\n",
    "\n",
    "    residuals_train = y_train - yhat_train\n",
    "    residuals_test = y_test - yhat_test\n",
    "\n",
    "    \n",
    "    print(f'Train R2: {lr.score(X_train,y_train)}')\n",
    "    print(f'Test R2: {lr.score(X_test,y_test)}')\n",
    "    print(f'Train RMSE: {train_rmse}')\n",
    "    print(f'Test RMSE: {test_rmse}')\n",
    "    \n",
    "    return yhat_train, residuals_train, yhat_test, residuals_test"
   ]
  },
  {
   "cell_type": "markdown",
   "metadata": {},
   "source": [
    "Below are functions that will plot the residuals between our dataset and predicted values, to test for the Linear Regressions assumptions"
   ]
  },
  {
   "cell_type": "code",
   "execution_count": 32,
   "metadata": {},
   "outputs": [],
   "source": [
    "def plot_qq_norm(yhat_train, resids_train, yhat_test, resids_test):\n",
    "    \n",
    "    fig, ax= plt.subplots(2,1)\n",
    "    sm.qqplot(resids_train, line = 'r',ax=ax[0]);\n",
    "    sns.histplot(resids_train, stat='density', label='residuals',ax=ax[1])\n",
    "    plt.show()\n",
    "    return\n",
    "\n",
    "def plot_skedacity (yhat_train, resids_train, yhat_test, resids_test):\n",
    "    plt.scatter(yhat_train, resids_train)\n",
    "\n",
    "    plt.axhline(y=0, color = 'red', label = '0')\n",
    "    plt.xlabel('predictions')\n",
    "    plt.ylabel('residuals')\n",
    "    plt.show();\n",
    "    return "
   ]
  },
  {
   "cell_type": "markdown",
   "metadata": {},
   "source": [
    "### Assess fit of DummyRegressor model"
   ]
  },
  {
   "cell_type": "markdown",
   "metadata": {},
   "source": [
    "We ran an initial model fit using DummyRegressor, to get an estimated RMSE for a model that uses nothing other than the mean as a predictor."
   ]
  },
  {
   "cell_type": "code",
   "execution_count": 33,
   "metadata": {},
   "outputs": [
    {
     "name": "stdout",
     "output_type": "stream",
     "text": [
      "Train R2: 0.0\n",
      "Test R2: -0.0009711682946567102\n",
      "Train RMSE: 373215.90277156036\n",
      "Test RMSE: 377524.87079765\n"
     ]
    }
   ],
   "source": [
    "dr = DummyRegressor()\n",
    "\n",
    "dummy_model = dr.fit(X_train, y_train)\n",
    "R2_dummy_train =dr.score(X_train,y_train)\n",
    "R2_dummy_test = dr.score(X_test,y_test)\n",
    "\n",
    "\n",
    "dr_yhat_train = dr.predict(X_train)\n",
    "dr_train_rmse = mean_squared_error(np.exp(y_train), np.exp(dr_yhat_train), squared = False)\n",
    "\n",
    "dr_yhat_test = dr.predict(X_test)\n",
    "dr_test_rmse = mean_squared_error(np.exp(y_test), np.exp(dr_yhat_test), squared = False)\n",
    "\n",
    "dr_residuals_train = y_train - dr_yhat_train\n",
    "dr_residuals_test = y_test - dr_yhat_test\n",
    "\n",
    "    \n",
    "print(f'Train R2: {R2_dummy_train}')\n",
    "print(f'Test R2: {R2_dummy_test}')\n",
    "print(f'Train RMSE: {dr_train_rmse}')\n",
    "print(f'Test RMSE: {dr_test_rmse}')"
   ]
  },
  {
   "cell_type": "markdown",
   "metadata": {},
   "source": [
    "### Begin by assessing baseline model predicting price with key descriptors"
   ]
  },
  {
   "cell_type": "markdown",
   "metadata": {},
   "source": [
    "Advertisements for houses *always* include `sqft_living`,`bedrooms`,`sqft_lot`,`floors` and `has_basement`\n",
    "\n",
    "We've removed `bathrooms` because it is highly collinear with `sqft_living`."
   ]
  },
  {
   "cell_type": "code",
   "execution_count": 35,
   "metadata": {},
   "outputs": [
    {
     "name": "stdout",
     "output_type": "stream",
     "text": [
      "Train R2: 0.5115611935831419\n",
      "Test R2: 0.488911639859115\n",
      "Train RMSE: 260078.65200150886\n",
      "Test RMSE: 606752.1036079298\n"
     ]
    }
   ],
   "source": [
    "simple_model_cols = ['sqft_living', 'bedrooms','sqft_lot','floors','has_basement']\n",
    "\n",
    "Xsimple_train = X_train[simple_model_cols]\n",
    "Xsimple_test = X_test[simple_model_cols]\n",
    "\n",
    "simple_yhat_train, simple_residuals_train, simple_yhat_test, simple_residuals_test = build_model(Xsimple_train, Xsimple_test, y_train, y_test)\n",
    "# Used the function build_model() on model_base_cols\n",
    "# saved variables for accessability"
   ]
  },
  {
   "cell_type": "markdown",
   "metadata": {},
   "source": [
    "It seems that our first simple model did better in terms of R2 our dummy model but our RMSE for our test dataset is worst off. Let's see if our first simple model haven't violated the assumptions of Linear Regression. "
   ]
  },
  {
   "cell_type": "code",
   "execution_count": 36,
   "metadata": {
    "scrolled": true
   },
   "outputs": [
    {
     "data": {
      "image/png": "[encoded data removed]",
      "text/plain": [
       "<Figure size 432x288 with 2 Axes>"
      ]
     },
     "metadata": {
      "needs_background": "light"
     },
     "output_type": "display_data"
    },
    {
     "data": {
      "image/png": "[encoded data removed]",
      "text/plain": [
       "<Figure size 432x288 with 1 Axes>"
      ]
     },
     "metadata": {
      "needs_background": "light"
     },
     "output_type": "display_data"
    }
   ],
   "source": [
    "plot_qq_norm(simple_yhat_train, simple_residuals_train, simple_yhat_test, simple_residuals_test)\n",
    "plot_skedacity(simple_yhat_train, simple_residuals_train, simple_yhat_test, simple_residuals_test)\n"
   ]
  },
  {
   "cell_type": "markdown",
   "metadata": {},
   "source": [
    "We haven't violated our Linear Regression model assumptions. Yay!"
   ]
  },
  {
   "cell_type": "markdown",
   "metadata": {},
   "source": [
    "### Model 1 : Attempt to improve model predictions by including features that describe house condition"
   ]
  },
  {
   "cell_type": "markdown",
   "metadata": {},
   "source": [
    "Key features that describe house condition include `house_age`, whether it was recently `renovated`, and overall building `grade` of the house. Description of grade categories is provided at the [King County Assessor](https://info.kingcounty.gov/assessor/esales/Glossary.aspx?type=r). \n",
    "\n",
    "We removed `condition` categories because they did not correlate with house `price` (when coded as an ordinal variable.)\n",
    "\n",
    "We'll call this Model 1"
   ]
  },
  {
   "cell_type": "code",
   "execution_count": 38,
   "metadata": {},
   "outputs": [
    {
     "name": "stdout",
     "output_type": "stream",
     "text": [
      "Train R2: 0.6415772007933189\n",
      "Test R2: 0.630846255390473\n",
      "Train RMSE: 213537.07281110913\n",
      "Test RMSE: 258567.10304245935\n"
     ]
    }
   ],
   "source": [
    "# drop 'grade_7average' from OHE grade cols\n",
    "model_1_cols = simple_model_cols + \\\n",
    "    ['renovated', 'house_age'] + ohe_grade_cols\n",
    "\n",
    "X1_train = X_train[model_1_cols]\n",
    "X1_test = X_test[model_1_cols]\n",
    "\n",
    "m1_yhat_train,m1_residuals_train, m1_yhat_test, m1_residuals_test = build_model(X1_train, X1_test, y_train, y_test)"
   ]
  },
  {
   "cell_type": "markdown",
   "metadata": {},
   "source": [
    "Our R2 and RMSE is improving and already better than our dummy model. Yay! Let's check for our assumptions again. "
   ]
  },
  {
   "cell_type": "code",
   "execution_count": 39,
   "metadata": {},
   "outputs": [
    {
     "data": {
      "image/png": "[encoded data removed]",
      "text/plain": [
       "<Figure size 432x288 with 2 Axes>"
      ]
     },
     "metadata": {
      "needs_background": "light"
     },
     "output_type": "display_data"
    },
    {
     "data": {
      "image/png": "[encoded data removed]",
      "text/plain": [
       "<Figure size 432x288 with 1 Axes>"
      ]
     },
     "metadata": {
      "needs_background": "light"
     },
     "output_type": "display_data"
    }
   ],
   "source": [
    "plot_qq_norm(m1_yhat_train,m1_residuals_train, m1_yhat_test,m1_residuals_test)\n",
    "plot_skedacity(m1_yhat_train,m1_residuals_train, m1_yhat_test,m1_residuals_test)"
   ]
  },
  {
   "cell_type": "markdown",
   "metadata": {},
   "source": [
    "### Model 2: Attempt to further improve model predictions with premium location features"
   ]
  },
  {
   "cell_type": "markdown",
   "metadata": {},
   "source": [
    "Key features in this category describe whether the house is on `waterfront` property, and whether the house has a scenic `view` of landmarks in the area.\n",
    "\n",
    "We'll call this Model 2."
   ]
  },
  {
   "cell_type": "code",
   "execution_count": 40,
   "metadata": {},
   "outputs": [
    {
     "name": "stdout",
     "output_type": "stream",
     "text": [
      "Train R2: 0.6528675826515022\n",
      "Test R2: 0.6424297359772333\n",
      "Train RMSE: 203962.52131985629\n",
      "Test RMSE: 250554.67584106108\n"
     ]
    }
   ],
   "source": [
    "model_2_cols = model_1_cols + \\\n",
    "    ['waterfront_yes'] + ohe_view_cols\n",
    "\n",
    "X2_train = X_train[model_2_cols]\n",
    "X2_test = X_test[model_2_cols]\n",
    "\n",
    "m2_yhat_train,m2_residuals_train, m2_yhat_test, m2_residuals_test = build_model(X2_train, X2_test, y_train, y_test)"
   ]
  },
  {
   "cell_type": "markdown",
   "metadata": {},
   "source": [
    "Check for assumptions."
   ]
  },
  {
   "cell_type": "code",
   "execution_count": 41,
   "metadata": {},
   "outputs": [
    {
     "data": {
      "image/png": "[encoded data removed]",
      "text/plain": [
       "<Figure size 432x288 with 2 Axes>"
      ]
     },
     "metadata": {
      "needs_background": "light"
     },
     "output_type": "display_data"
    },
    {
     "data": {
      "image/png": "[encoded data removed]",
      "text/plain": [
       "<Figure size 432x288 with 1 Axes>"
      ]
     },
     "metadata": {
      "needs_background": "light"
     },
     "output_type": "display_data"
    }
   ],
   "source": [
    "plot_qq_norm(m2_yhat_train,m2_residuals_train, m2_yhat_test,m2_residuals_test)\n",
    "plot_skedacity(m2_yhat_train,m2_residuals_train, m2_yhat_test,m2_residuals_test)"
   ]
  },
  {
   "cell_type": "markdown",
   "metadata": {},
   "source": [
    "### Model 3: Improve predictions by capturing neighborhoods or distance relative to center of Seattle"
   ]
  },
  {
   "cell_type": "markdown",
   "metadata": {},
   "source": [
    "Key features include `dist_seattle`, which is the number of miles away from the geographic centroid of Seattle city limits, and the `neighborhood` if the house is located within Seattle."
   ]
  },
  {
   "cell_type": "code",
   "execution_count": 42,
   "metadata": {},
   "outputs": [
    {
     "name": "stdout",
     "output_type": "stream",
     "text": [
      "Train R2: 0.766748661389074\n",
      "Test R2: 0.7562951260928505\n",
      "Train RMSE: 183213.33485501073\n",
      "Test RMSE: 298454.0958228795\n"
     ]
    }
   ],
   "source": [
    "model_3_cols = model_2_cols + \\\n",
    "    ['dist_seattle'] + ohe_neigh_cols\n",
    "\n",
    "X3_train = X_train[model_3_cols]\n",
    "X3_test = X_test[model_3_cols]\n",
    "\n",
    "m3_yhat_train,m3_residuals_train, m3_yhat_test, m3_residuals_test= build_model(X3_train, X3_test, y_train, y_test)"
   ]
  },
  {
   "cell_type": "markdown",
   "metadata": {},
   "source": [
    "The additional featuresin our model have improved our model so much compared to the dummy, simple and 2 models after. "
   ]
  },
  {
   "cell_type": "code",
   "execution_count": 43,
   "metadata": {},
   "outputs": [
    {
     "data": {
      "image/png": "[encoded data removed]",
      "text/plain": [
       "<Figure size 432x288 with 2 Axes>"
      ]
     },
     "metadata": {
      "needs_background": "light"
     },
     "output_type": "display_data"
    },
    {
     "data": {
      "image/png": "[encoded data removed]",
      "text/plain": [
       "<Figure size 432x288 with 1 Axes>"
      ]
     },
     "metadata": {
      "needs_background": "light"
     },
     "output_type": "display_data"
    }
   ],
   "source": [
    "plot_qq_norm(m3_yhat_train,m3_residuals_train, m3_yhat_test,m3_residuals_test)\n",
    "plot_skedacity(m3_yhat_train,m3_residuals_train, m3_yhat_test,m3_residuals_test)"
   ]
  },
  {
   "cell_type": "markdown",
   "metadata": {},
   "source": [
    "And we're still great on assumptions!"
   ]
  },
  {
   "cell_type": "markdown",
   "metadata": {},
   "source": [
    "### Model 4: Attempt to improve model predictions with information about the `zipcode` of the house"
   ]
  },
  {
   "cell_type": "markdown",
   "metadata": {},
   "source": [
    "The `zipcode` of each house is used as a set of categorical predictors."
   ]
  },
  {
   "cell_type": "code",
   "execution_count": 44,
   "metadata": {},
   "outputs": [
    {
     "name": "stdout",
     "output_type": "stream",
     "text": [
      "Train R2: 0.876641953026694\n",
      "Test R2: 0.8747088117471509\n",
      "Train RMSE: 157683.73132459912\n",
      "Test RMSE: 220798.88026453074\n"
     ]
    }
   ],
   "source": [
    "model_4_cols = model_3_cols + ohe_zip_cols\n",
    "\n",
    "X4_train = X_train[model_4_cols]\n",
    "X4_test = X_test[model_4_cols]\n",
    "\n",
    "m4_yhat_train,m4_residuals_train, m4_yhat_test, m4_residuals_test = build_model(X4_train, X4_test, y_train, y_test)\n",
    "# Used the function build_model() on model_4_cols\n",
    "# saved variables for accessability"
   ]
  },
  {
   "cell_type": "markdown",
   "metadata": {},
   "source": [
    "## Get human readable coefficients using statsmodels ols model summary"
   ]
  },
  {
   "cell_type": "markdown",
   "metadata": {},
   "source": [
    "Many of the inferential statistics about the models are easier to access from a standard OLS regression table. We produced ols model summaries (using `statsmodels.formula.api.ols`) and assessed multicollinearity of features in the model (using `statsmodels.stats.outliers_influence.variance_inflation_factor`, aka VIF)\n",
    "\n",
    "\n",
    "We ran these models predicting the untransformed target variable `price`, so that coefficients would be interpretable in \\$ values."
   ]
  },
  {
   "cell_type": "markdown",
   "metadata": {},
   "source": [
    "### Create functions to run model summary and check VIF."
   ]
  },
  {
   "cell_type": "code",
   "execution_count": 45,
   "metadata": {},
   "outputs": [],
   "source": [
    "def build_ols_model(cols_list,training_df):\n",
    "    \n",
    "    \"\"\"\n",
    "    This function takes in columns list from which to build formula from and the training dataframe to build model from.\n",
    "    The function then returns the model summary of an ordinary linear regression model and the formula used.\n",
    "    \"\"\"\n",
    "    \n",
    "    model_formula = 'price ~ ' + ' + '.join(cols_list)\n",
    "    print(model_formula)\n",
    "\n",
    "    model = ols(model_formula, train_df).fit()\n",
    "    model_summary = model.summary()\n",
    "    return model_summary, model_formula"
   ]
  },
  {
   "cell_type": "code",
   "execution_count": 46,
   "metadata": {},
   "outputs": [],
   "source": [
    "# Code borrowed from lecture slides and put into function\n",
    "def make_vif(formula, df):\n",
    "\n",
    "    y, X = dmatrices(formula, data=df, return_type='dataframe')\n",
    "\n",
    "    # make empty VIF dataframe\n",
    "    vif = pd.DataFrame()\n",
    "    vif[\"feature\"] = X.columns\n",
    "  \n",
    "    # calculate VIF for each feature\n",
    "    vif[\"VIF\"] = [variance_inflation_factor(X.values, i) for i in range(len(X.columns))]\n",
    "\n",
    "    return vif"
   ]
  },
  {
   "cell_type": "markdown",
   "metadata": {},
   "source": [
    "Concatenate X_train and y_train back together into a DataFrame to make working with ols easier."
   ]
  },
  {
   "cell_type": "code",
   "execution_count": 47,
   "metadata": {},
   "outputs": [],
   "source": [
    "y_train = np.exp(y_train)"
   ]
  },
  {
   "cell_type": "code",
   "execution_count": 48,
   "metadata": {},
   "outputs": [],
   "source": [
    "train_df = pd.concat([X_train,y_train], axis=1)"
   ]
  },
  {
   "cell_type": "markdown",
   "metadata": {},
   "source": [
    "### Baseline model: Check coefficients and multicollinearity of simple model"
   ]
  },
  {
   "cell_type": "markdown",
   "metadata": {},
   "source": [
    "Simple model includes `sqft_living` and `bedrooms` features"
   ]
  },
  {
   "cell_type": "code",
   "execution_count": 49,
   "metadata": {
    "scrolled": true
   },
   "outputs": [
    {
     "name": "stdout",
     "output_type": "stream",
     "text": [
      "price ~ sqft_living + bedrooms + sqft_lot + floors + has_basement\n"
     ]
    },
    {
     "data": {
      "text/html": [
       "<table class=\"simpletable\">\n",
       "<caption>OLS Regression Results</caption>\n",
       "<tr>\n",
       "  <th>Dep. Variable:</th>          <td>price</td>      <th>  R-squared:         </th>  <td>   0.511</td>  \n",
       "</tr>\n",
       "<tr>\n",
       "  <th>Model:</th>                   <td>OLS</td>       <th>  Adj. R-squared:    </th>  <td>   0.511</td>  \n",
       "</tr>\n",
       "<tr>\n",
       "  <th>Method:</th>             <td>Least Squares</td>  <th>  F-statistic:       </th>  <td>   3025.</td>  \n",
       "</tr>\n",
       "<tr>\n",
       "  <th>Date:</th>             <td>Fri, 01 Apr 2022</td> <th>  Prob (F-statistic):</th>   <td>  0.00</td>   \n",
       "</tr>\n",
       "<tr>\n",
       "  <th>Time:</th>                 <td>14:47:48</td>     <th>  Log-Likelihood:    </th> <td>-2.0068e+05</td>\n",
       "</tr>\n",
       "<tr>\n",
       "  <th>No. Observations:</th>      <td> 14469</td>      <th>  AIC:               </th>  <td>4.014e+05</td> \n",
       "</tr>\n",
       "<tr>\n",
       "  <th>Df Residuals:</th>          <td> 14463</td>      <th>  BIC:               </th>  <td>4.014e+05</td> \n",
       "</tr>\n",
       "<tr>\n",
       "  <th>Df Model:</th>              <td>     5</td>      <th>                     </th>      <td> </td>     \n",
       "</tr>\n",
       "<tr>\n",
       "  <th>Covariance Type:</th>      <td>nonrobust</td>    <th>                     </th>      <td> </td>     \n",
       "</tr>\n",
       "</table>\n",
       "<table class=\"simpletable\">\n",
       "<tr>\n",
       "        <td></td>          <th>coef</th>     <th>std err</th>      <th>t</th>      <th>P>|t|</th>  <th>[0.025</th>    <th>0.975]</th>  \n",
       "</tr>\n",
       "<tr>\n",
       "  <th>Intercept</th>    <td> 5.968e+04</td> <td> 9566.982</td> <td>    6.239</td> <td> 0.000</td> <td> 4.09e+04</td> <td> 7.84e+04</td>\n",
       "</tr>\n",
       "<tr>\n",
       "  <th>sqft_living</th>  <td>  308.3734</td> <td>    3.147</td> <td>   97.977</td> <td> 0.000</td> <td>  302.204</td> <td>  314.543</td>\n",
       "</tr>\n",
       "<tr>\n",
       "  <th>bedrooms</th>     <td>-5.753e+04</td> <td> 2792.892</td> <td>  -20.597</td> <td> 0.000</td> <td> -6.3e+04</td> <td>-5.21e+04</td>\n",
       "</tr>\n",
       "<tr>\n",
       "  <th>sqft_lot</th>     <td>   -0.2711</td> <td>    0.051</td> <td>   -5.293</td> <td> 0.000</td> <td>   -0.371</td> <td>   -0.171</td>\n",
       "</tr>\n",
       "<tr>\n",
       "  <th>floors</th>       <td> 1.614e+04</td> <td> 4504.657</td> <td>    3.582</td> <td> 0.000</td> <td> 7306.608</td> <td>  2.5e+04</td>\n",
       "</tr>\n",
       "<tr>\n",
       "  <th>has_basement</th> <td> 3.759e+04</td> <td> 4789.778</td> <td>    7.849</td> <td> 0.000</td> <td> 2.82e+04</td> <td>  4.7e+04</td>\n",
       "</tr>\n",
       "</table>\n",
       "<table class=\"simpletable\">\n",
       "<tr>\n",
       "  <th>Omnibus:</th>       <td>9585.139</td> <th>  Durbin-Watson:     </th>  <td>   1.999</td> \n",
       "</tr>\n",
       "<tr>\n",
       "  <th>Prob(Omnibus):</th>  <td> 0.000</td>  <th>  Jarque-Bera (JB):  </th> <td>312457.419</td>\n",
       "</tr>\n",
       "<tr>\n",
       "  <th>Skew:</th>           <td> 2.713</td>  <th>  Prob(JB):          </th>  <td>    0.00</td> \n",
       "</tr>\n",
       "<tr>\n",
       "  <th>Kurtosis:</th>       <td>25.109</td>  <th>  Cond. No.          </th>  <td>2.16e+05</td> \n",
       "</tr>\n",
       "</table><br/><br/>Notes:<br/>[1] Standard Errors assume that the covariance matrix of the errors is correctly specified.<br/>[2] The condition number is large, 2.16e+05. This might indicate that there are<br/>strong multicollinearity or other numerical problems."
      ],
      "text/plain": [
       "<class 'statsmodels.iolib.summary.Summary'>\n",
       "\"\"\"\n",
       "                            OLS Regression Results                            \n",
       "==============================================================================\n",
       "Dep. Variable:                  price   R-squared:                       0.511\n",
       "Model:                            OLS   Adj. R-squared:                  0.511\n",
       "Method:                 Least Squares   F-statistic:                     3025.\n",
       "Date:                Fri, 01 Apr 2022   Prob (F-statistic):               0.00\n",
       "Time:                        14:47:48   Log-Likelihood:            -2.0068e+05\n",
       "No. Observations:               14469   AIC:                         4.014e+05\n",
       "Df Residuals:                   14463   BIC:                         4.014e+05\n",
       "Df Model:                           5                                         \n",
       "Covariance Type:            nonrobust                                         \n",
       "================================================================================\n",
       "                   coef    std err          t      P>|t|      [0.025      0.975]\n",
       "--------------------------------------------------------------------------------\n",
       "Intercept     5.968e+04   9566.982      6.239      0.000    4.09e+04    7.84e+04\n",
       "sqft_living    308.3734      3.147     97.977      0.000     302.204     314.543\n",
       "bedrooms     -5.753e+04   2792.892    -20.597      0.000    -6.3e+04   -5.21e+04\n",
       "sqft_lot        -0.2711      0.051     -5.293      0.000      -0.371      -0.171\n",
       "floors        1.614e+04   4504.657      3.582      0.000    7306.608     2.5e+04\n",
       "has_basement  3.759e+04   4789.778      7.849      0.000    2.82e+04     4.7e+04\n",
       "==============================================================================\n",
       "Omnibus:                     9585.139   Durbin-Watson:                   1.999\n",
       "Prob(Omnibus):                  0.000   Jarque-Bera (JB):           312457.419\n",
       "Skew:                           2.713   Prob(JB):                         0.00\n",
       "Kurtosis:                      25.109   Cond. No.                     2.16e+05\n",
       "==============================================================================\n",
       "\n",
       "Notes:\n",
       "[1] Standard Errors assume that the covariance matrix of the errors is correctly specified.\n",
       "[2] The condition number is large, 2.16e+05. This might indicate that there are\n",
       "strong multicollinearity or other numerical problems.\n",
       "\"\"\""
      ]
     },
     "execution_count": 49,
     "metadata": {},
     "output_type": "execute_result"
    }
   ],
   "source": [
    "simple_mod_summary, simple_mod_formula = build_ols_model(simple_model_cols,train_df)\n",
    "simple_mod_summary"
   ]
  },
  {
   "cell_type": "code",
   "execution_count": 50,
   "metadata": {},
   "outputs": [
    {
     "data": {
      "text/html": [
       "<div>\n",
       "<style scoped>\n",
       "    .dataframe tbody tr th:only-of-type {\n",
       "        vertical-align: middle;\n",
       "    }\n",
       "\n",
       "    .dataframe tbody tr th {\n",
       "        vertical-align: top;\n",
       "    }\n",
       "\n",
       "    .dataframe thead th {\n",
       "        text-align: right;\n",
       "    }\n",
       "</style>\n",
       "<table border=\"1\" class=\"dataframe\">\n",
       "  <thead>\n",
       "    <tr style=\"text-align: right;\">\n",
       "      <th></th>\n",
       "      <th>feature</th>\n",
       "      <th>VIF</th>\n",
       "    </tr>\n",
       "  </thead>\n",
       "  <tbody>\n",
       "    <tr>\n",
       "      <th>0</th>\n",
       "      <td>Intercept</td>\n",
       "      <td>20.291716</td>\n",
       "    </tr>\n",
       "    <tr>\n",
       "      <th>1</th>\n",
       "      <td>sqft_living</td>\n",
       "      <td>1.847287</td>\n",
       "    </tr>\n",
       "    <tr>\n",
       "      <th>2</th>\n",
       "      <td>bedrooms</td>\n",
       "      <td>1.507749</td>\n",
       "    </tr>\n",
       "    <tr>\n",
       "      <th>3</th>\n",
       "      <td>sqft_lot</td>\n",
       "      <td>1.053890</td>\n",
       "    </tr>\n",
       "    <tr>\n",
       "      <th>4</th>\n",
       "      <td>floors</td>\n",
       "      <td>1.319007</td>\n",
       "    </tr>\n",
       "    <tr>\n",
       "      <th>5</th>\n",
       "      <td>has_basement</td>\n",
       "      <td>1.212025</td>\n",
       "    </tr>\n",
       "  </tbody>\n",
       "</table>\n",
       "</div>"
      ],
      "text/plain": [
       "        feature        VIF\n",
       "0     Intercept  20.291716\n",
       "1   sqft_living   1.847287\n",
       "2      bedrooms   1.507749\n",
       "3      sqft_lot   1.053890\n",
       "4        floors   1.319007\n",
       "5  has_basement   1.212025"
      ]
     },
     "metadata": {},
     "output_type": "display_data"
    }
   ],
   "source": [
    "display(make_vif(simple_mod_formula, train_df))"
   ]
  },
  {
   "cell_type": "markdown",
   "metadata": {},
   "source": [
    "### Model 1: Check coefficients and multicollinearity of model adding house condition features"
   ]
  },
  {
   "cell_type": "markdown",
   "metadata": {},
   "source": [
    "Adds `renovated`, `house_age`, and building `grade` features"
   ]
  },
  {
   "cell_type": "code",
   "execution_count": 51,
   "metadata": {},
   "outputs": [
    {
     "name": "stdout",
     "output_type": "stream",
     "text": [
      "price ~ sqft_living + bedrooms + sqft_lot + floors + has_basement + renovated + house_age + grade_10verygood + grade_11excellent + grade_12luxury + grade_13mansion + grade_3poor + grade_4low + grade_5fair + grade_6lowaverage + grade_8good + grade_9better\n"
     ]
    },
    {
     "data": {
      "text/html": [
       "<table class=\"simpletable\">\n",
       "<caption>OLS Regression Results</caption>\n",
       "<tr>\n",
       "  <th>Dep. Variable:</th>          <td>price</td>      <th>  R-squared:         </th>  <td>   0.639</td>  \n",
       "</tr>\n",
       "<tr>\n",
       "  <th>Model:</th>                   <td>OLS</td>       <th>  Adj. R-squared:    </th>  <td>   0.639</td>  \n",
       "</tr>\n",
       "<tr>\n",
       "  <th>Method:</th>             <td>Least Squares</td>  <th>  F-statistic:       </th>  <td>   1505.</td>  \n",
       "</tr>\n",
       "<tr>\n",
       "  <th>Date:</th>             <td>Fri, 01 Apr 2022</td> <th>  Prob (F-statistic):</th>   <td>  0.00</td>   \n",
       "</tr>\n",
       "<tr>\n",
       "  <th>Time:</th>                 <td>14:47:52</td>     <th>  Log-Likelihood:    </th> <td>-1.9849e+05</td>\n",
       "</tr>\n",
       "<tr>\n",
       "  <th>No. Observations:</th>      <td> 14469</td>      <th>  AIC:               </th>  <td>3.970e+05</td> \n",
       "</tr>\n",
       "<tr>\n",
       "  <th>Df Residuals:</th>          <td> 14451</td>      <th>  BIC:               </th>  <td>3.971e+05</td> \n",
       "</tr>\n",
       "<tr>\n",
       "  <th>Df Model:</th>              <td>    17</td>      <th>                     </th>      <td> </td>     \n",
       "</tr>\n",
       "<tr>\n",
       "  <th>Covariance Type:</th>      <td>nonrobust</td>    <th>                     </th>      <td> </td>     \n",
       "</tr>\n",
       "</table>\n",
       "<table class=\"simpletable\">\n",
       "<tr>\n",
       "          <td></td>             <th>coef</th>     <th>std err</th>      <th>t</th>      <th>P>|t|</th>  <th>[0.025</th>    <th>0.975]</th>  \n",
       "</tr>\n",
       "<tr>\n",
       "  <th>Intercept</th>         <td>-5.548e+04</td> <td> 1.07e+04</td> <td>   -5.184</td> <td> 0.000</td> <td>-7.65e+04</td> <td>-3.45e+04</td>\n",
       "</tr>\n",
       "<tr>\n",
       "  <th>sqft_living</th>       <td>  168.7119</td> <td>    3.907</td> <td>   43.187</td> <td> 0.000</td> <td>  161.055</td> <td>  176.369</td>\n",
       "</tr>\n",
       "<tr>\n",
       "  <th>bedrooms</th>          <td>-2.689e+04</td> <td> 2492.657</td> <td>  -10.786</td> <td> 0.000</td> <td>-3.18e+04</td> <td> -2.2e+04</td>\n",
       "</tr>\n",
       "<tr>\n",
       "  <th>sqft_lot</th>          <td>   -0.1971</td> <td>    0.044</td> <td>   -4.471</td> <td> 0.000</td> <td>   -0.284</td> <td>   -0.111</td>\n",
       "</tr>\n",
       "<tr>\n",
       "  <th>floors</th>            <td> 5.498e+04</td> <td> 4290.870</td> <td>   12.813</td> <td> 0.000</td> <td> 4.66e+04</td> <td> 6.34e+04</td>\n",
       "</tr>\n",
       "<tr>\n",
       "  <th>has_basement</th>      <td> 4.666e+04</td> <td> 4246.458</td> <td>   10.988</td> <td> 0.000</td> <td> 3.83e+04</td> <td>  5.5e+04</td>\n",
       "</tr>\n",
       "<tr>\n",
       "  <th>renovated</th>         <td> 3.859e+04</td> <td> 2.08e+04</td> <td>    1.859</td> <td> 0.063</td> <td>-2103.649</td> <td> 7.93e+04</td>\n",
       "</tr>\n",
       "<tr>\n",
       "  <th>house_age</th>         <td> 3412.5698</td> <td>   76.633</td> <td>   44.532</td> <td> 0.000</td> <td> 3262.360</td> <td> 3562.780</td>\n",
       "</tr>\n",
       "<tr>\n",
       "  <th>grade_10verygood</th>  <td> 4.435e+05</td> <td> 1.07e+04</td> <td>   41.604</td> <td> 0.000</td> <td> 4.23e+05</td> <td> 4.64e+05</td>\n",
       "</tr>\n",
       "<tr>\n",
       "  <th>grade_11excellent</th> <td> 7.212e+05</td> <td> 1.68e+04</td> <td>   42.947</td> <td> 0.000</td> <td> 6.88e+05</td> <td> 7.54e+05</td>\n",
       "</tr>\n",
       "<tr>\n",
       "  <th>grade_12luxury</th>    <td> 1.222e+06</td> <td> 3.07e+04</td> <td>   39.764</td> <td> 0.000</td> <td> 1.16e+06</td> <td> 1.28e+06</td>\n",
       "</tr>\n",
       "<tr>\n",
       "  <th>grade_13mansion</th>   <td> 2.203e+06</td> <td> 9.18e+04</td> <td>   23.999</td> <td> 0.000</td> <td> 2.02e+06</td> <td> 2.38e+06</td>\n",
       "</tr>\n",
       "<tr>\n",
       "  <th>grade_3poor</th>       <td>  -1.2e+05</td> <td>  2.2e+05</td> <td>   -0.546</td> <td> 0.585</td> <td>-5.51e+05</td> <td> 3.11e+05</td>\n",
       "</tr>\n",
       "<tr>\n",
       "  <th>grade_4low</th>        <td>-1.244e+05</td> <td> 4.94e+04</td> <td>   -2.517</td> <td> 0.012</td> <td>-2.21e+05</td> <td>-2.75e+04</td>\n",
       "</tr>\n",
       "<tr>\n",
       "  <th>grade_5fair</th>       <td>-1.297e+05</td> <td> 1.83e+04</td> <td>   -7.097</td> <td> 0.000</td> <td>-1.66e+05</td> <td>-9.39e+04</td>\n",
       "</tr>\n",
       "<tr>\n",
       "  <th>grade_6lowaverage</th> <td>-8.741e+04</td> <td> 6989.184</td> <td>  -12.506</td> <td> 0.000</td> <td>-1.01e+05</td> <td>-7.37e+04</td>\n",
       "</tr>\n",
       "<tr>\n",
       "  <th>grade_8good</th>       <td> 9.891e+04</td> <td> 5017.086</td> <td>   19.715</td> <td> 0.000</td> <td> 8.91e+04</td> <td> 1.09e+05</td>\n",
       "</tr>\n",
       "<tr>\n",
       "  <th>grade_9better</th>     <td> 2.482e+05</td> <td> 7496.449</td> <td>   33.108</td> <td> 0.000</td> <td> 2.34e+05</td> <td> 2.63e+05</td>\n",
       "</tr>\n",
       "</table>\n",
       "<table class=\"simpletable\">\n",
       "<tr>\n",
       "  <th>Omnibus:</th>       <td>10047.686</td> <th>  Durbin-Watson:     </th>  <td>   2.007</td> \n",
       "</tr>\n",
       "<tr>\n",
       "  <th>Prob(Omnibus):</th>  <td> 0.000</td>   <th>  Jarque-Bera (JB):  </th> <td>496009.579</td>\n",
       "</tr>\n",
       "<tr>\n",
       "  <th>Skew:</th>           <td> 2.767</td>   <th>  Prob(JB):          </th>  <td>    0.00</td> \n",
       "</tr>\n",
       "<tr>\n",
       "  <th>Kurtosis:</th>       <td>31.144</td>   <th>  Cond. No.          </th>  <td>5.44e+06</td> \n",
       "</tr>\n",
       "</table><br/><br/>Notes:<br/>[1] Standard Errors assume that the covariance matrix of the errors is correctly specified.<br/>[2] The condition number is large, 5.44e+06. This might indicate that there are<br/>strong multicollinearity or other numerical problems."
      ],
      "text/plain": [
       "<class 'statsmodels.iolib.summary.Summary'>\n",
       "\"\"\"\n",
       "                            OLS Regression Results                            \n",
       "==============================================================================\n",
       "Dep. Variable:                  price   R-squared:                       0.639\n",
       "Model:                            OLS   Adj. R-squared:                  0.639\n",
       "Method:                 Least Squares   F-statistic:                     1505.\n",
       "Date:                Fri, 01 Apr 2022   Prob (F-statistic):               0.00\n",
       "Time:                        14:47:52   Log-Likelihood:            -1.9849e+05\n",
       "No. Observations:               14469   AIC:                         3.970e+05\n",
       "Df Residuals:                   14451   BIC:                         3.971e+05\n",
       "Df Model:                          17                                         \n",
       "Covariance Type:            nonrobust                                         \n",
       "=====================================================================================\n",
       "                        coef    std err          t      P>|t|      [0.025      0.975]\n",
       "-------------------------------------------------------------------------------------\n",
       "Intercept         -5.548e+04   1.07e+04     -5.184      0.000   -7.65e+04   -3.45e+04\n",
       "sqft_living         168.7119      3.907     43.187      0.000     161.055     176.369\n",
       "bedrooms          -2.689e+04   2492.657    -10.786      0.000   -3.18e+04    -2.2e+04\n",
       "sqft_lot             -0.1971      0.044     -4.471      0.000      -0.284      -0.111\n",
       "floors             5.498e+04   4290.870     12.813      0.000    4.66e+04    6.34e+04\n",
       "has_basement       4.666e+04   4246.458     10.988      0.000    3.83e+04     5.5e+04\n",
       "renovated          3.859e+04   2.08e+04      1.859      0.063   -2103.649    7.93e+04\n",
       "house_age          3412.5698     76.633     44.532      0.000    3262.360    3562.780\n",
       "grade_10verygood   4.435e+05   1.07e+04     41.604      0.000    4.23e+05    4.64e+05\n",
       "grade_11excellent  7.212e+05   1.68e+04     42.947      0.000    6.88e+05    7.54e+05\n",
       "grade_12luxury     1.222e+06   3.07e+04     39.764      0.000    1.16e+06    1.28e+06\n",
       "grade_13mansion    2.203e+06   9.18e+04     23.999      0.000    2.02e+06    2.38e+06\n",
       "grade_3poor         -1.2e+05    2.2e+05     -0.546      0.585   -5.51e+05    3.11e+05\n",
       "grade_4low        -1.244e+05   4.94e+04     -2.517      0.012   -2.21e+05   -2.75e+04\n",
       "grade_5fair       -1.297e+05   1.83e+04     -7.097      0.000   -1.66e+05   -9.39e+04\n",
       "grade_6lowaverage -8.741e+04   6989.184    -12.506      0.000   -1.01e+05   -7.37e+04\n",
       "grade_8good        9.891e+04   5017.086     19.715      0.000    8.91e+04    1.09e+05\n",
       "grade_9better      2.482e+05   7496.449     33.108      0.000    2.34e+05    2.63e+05\n",
       "==============================================================================\n",
       "Omnibus:                    10047.686   Durbin-Watson:                   2.007\n",
       "Prob(Omnibus):                  0.000   Jarque-Bera (JB):           496009.579\n",
       "Skew:                           2.767   Prob(JB):                         0.00\n",
       "Kurtosis:                      31.144   Cond. No.                     5.44e+06\n",
       "==============================================================================\n",
       "\n",
       "Notes:\n",
       "[1] Standard Errors assume that the covariance matrix of the errors is correctly specified.\n",
       "[2] The condition number is large, 5.44e+06. This might indicate that there are\n",
       "strong multicollinearity or other numerical problems.\n",
       "\"\"\""
      ]
     },
     "execution_count": 51,
     "metadata": {},
     "output_type": "execute_result"
    }
   ],
   "source": [
    "model_1_summary, model_1_formula = build_ols_model(model_1_cols,train_df)\n",
    "model_1_summary"
   ]
  },
  {
   "cell_type": "code",
   "execution_count": 52,
   "metadata": {},
   "outputs": [
    {
     "data": {
      "text/html": [
       "<div>\n",
       "<style scoped>\n",
       "    .dataframe tbody tr th:only-of-type {\n",
       "        vertical-align: middle;\n",
       "    }\n",
       "\n",
       "    .dataframe tbody tr th {\n",
       "        vertical-align: top;\n",
       "    }\n",
       "\n",
       "    .dataframe thead th {\n",
       "        text-align: right;\n",
       "    }\n",
       "</style>\n",
       "<table border=\"1\" class=\"dataframe\">\n",
       "  <thead>\n",
       "    <tr style=\"text-align: right;\">\n",
       "      <th></th>\n",
       "      <th>feature</th>\n",
       "      <th>VIF</th>\n",
       "    </tr>\n",
       "  </thead>\n",
       "  <tbody>\n",
       "    <tr>\n",
       "      <th>0</th>\n",
       "      <td>Intercept</td>\n",
       "      <td>34.342912</td>\n",
       "    </tr>\n",
       "    <tr>\n",
       "      <th>1</th>\n",
       "      <td>sqft_living</td>\n",
       "      <td>3.849686</td>\n",
       "    </tr>\n",
       "    <tr>\n",
       "      <th>2</th>\n",
       "      <td>bedrooms</td>\n",
       "      <td>1.624676</td>\n",
       "    </tr>\n",
       "    <tr>\n",
       "      <th>3</th>\n",
       "      <td>sqft_lot</td>\n",
       "      <td>1.056685</td>\n",
       "    </tr>\n",
       "    <tr>\n",
       "      <th>4</th>\n",
       "      <td>floors</td>\n",
       "      <td>1.618957</td>\n",
       "    </tr>\n",
       "    <tr>\n",
       "      <th>5</th>\n",
       "      <td>has_basement</td>\n",
       "      <td>1.288711</td>\n",
       "    </tr>\n",
       "    <tr>\n",
       "      <th>6</th>\n",
       "      <td>renovated</td>\n",
       "      <td>1.010497</td>\n",
       "    </tr>\n",
       "    <tr>\n",
       "      <th>7</th>\n",
       "      <td>house_age</td>\n",
       "      <td>1.531593</td>\n",
       "    </tr>\n",
       "    <tr>\n",
       "      <th>8</th>\n",
       "      <td>grade_10verygood</td>\n",
       "      <td>1.744503</td>\n",
       "    </tr>\n",
       "    <tr>\n",
       "      <th>9</th>\n",
       "      <td>grade_11excellent</td>\n",
       "      <td>1.548827</td>\n",
       "    </tr>\n",
       "    <tr>\n",
       "      <th>10</th>\n",
       "      <td>grade_12luxury</td>\n",
       "      <td>1.227109</td>\n",
       "    </tr>\n",
       "    <tr>\n",
       "      <th>11</th>\n",
       "      <td>grade_13mansion</td>\n",
       "      <td>1.047677</td>\n",
       "    </tr>\n",
       "    <tr>\n",
       "      <th>12</th>\n",
       "      <td>grade_3poor</td>\n",
       "      <td>1.000881</td>\n",
       "    </tr>\n",
       "    <tr>\n",
       "      <th>13</th>\n",
       "      <td>grade_4low</td>\n",
       "      <td>1.010961</td>\n",
       "    </tr>\n",
       "    <tr>\n",
       "      <th>14</th>\n",
       "      <td>grade_5fair</td>\n",
       "      <td>1.054875</td>\n",
       "    </tr>\n",
       "    <tr>\n",
       "      <th>15</th>\n",
       "      <td>grade_6lowaverage</td>\n",
       "      <td>1.264832</td>\n",
       "    </tr>\n",
       "    <tr>\n",
       "      <th>16</th>\n",
       "      <td>grade_8good</td>\n",
       "      <td>1.532754</td>\n",
       "    </tr>\n",
       "    <tr>\n",
       "      <th>17</th>\n",
       "      <td>grade_9better</td>\n",
       "      <td>1.807774</td>\n",
       "    </tr>\n",
       "  </tbody>\n",
       "</table>\n",
       "</div>"
      ],
      "text/plain": [
       "              feature        VIF\n",
       "0           Intercept  34.342912\n",
       "1         sqft_living   3.849686\n",
       "2            bedrooms   1.624676\n",
       "3            sqft_lot   1.056685\n",
       "4              floors   1.618957\n",
       "5        has_basement   1.288711\n",
       "6           renovated   1.010497\n",
       "7           house_age   1.531593\n",
       "8    grade_10verygood   1.744503\n",
       "9   grade_11excellent   1.548827\n",
       "10     grade_12luxury   1.227109\n",
       "11    grade_13mansion   1.047677\n",
       "12        grade_3poor   1.000881\n",
       "13         grade_4low   1.010961\n",
       "14        grade_5fair   1.054875\n",
       "15  grade_6lowaverage   1.264832\n",
       "16        grade_8good   1.532754\n",
       "17      grade_9better   1.807774"
      ]
     },
     "metadata": {},
     "output_type": "display_data"
    }
   ],
   "source": [
    "display(make_vif(model_1_formula, train_df))"
   ]
  },
  {
   "cell_type": "markdown",
   "metadata": {},
   "source": [
    "### Model 2: Check coefficients and multicollinearity of model adding premium location features"
   ]
  },
  {
   "cell_type": "markdown",
   "metadata": {},
   "source": [
    "Adds `waterfront` and scenic `view` features"
   ]
  },
  {
   "cell_type": "code",
   "execution_count": 53,
   "metadata": {},
   "outputs": [
    {
     "name": "stdout",
     "output_type": "stream",
     "text": [
      "price ~ sqft_living + bedrooms + sqft_lot + floors + has_basement + renovated + house_age + grade_10verygood + grade_11excellent + grade_12luxury + grade_13mansion + grade_3poor + grade_4low + grade_5fair + grade_6lowaverage + grade_8good + grade_9better + waterfront_yes + view_average + view_excellent + view_fair + view_good + view_missing\n"
     ]
    },
    {
     "data": {
      "text/html": [
       "<table class=\"simpletable\">\n",
       "<caption>OLS Regression Results</caption>\n",
       "<tr>\n",
       "  <th>Dep. Variable:</th>          <td>price</td>      <th>  R-squared:         </th>  <td>   0.676</td>  \n",
       "</tr>\n",
       "<tr>\n",
       "  <th>Model:</th>                   <td>OLS</td>       <th>  Adj. R-squared:    </th>  <td>   0.675</td>  \n",
       "</tr>\n",
       "<tr>\n",
       "  <th>Method:</th>             <td>Least Squares</td>  <th>  F-statistic:       </th>  <td>   1308.</td>  \n",
       "</tr>\n",
       "<tr>\n",
       "  <th>Date:</th>             <td>Fri, 01 Apr 2022</td> <th>  Prob (F-statistic):</th>   <td>  0.00</td>   \n",
       "</tr>\n",
       "<tr>\n",
       "  <th>Time:</th>                 <td>14:47:55</td>     <th>  Log-Likelihood:    </th> <td>-1.9771e+05</td>\n",
       "</tr>\n",
       "<tr>\n",
       "  <th>No. Observations:</th>      <td> 14469</td>      <th>  AIC:               </th>  <td>3.955e+05</td> \n",
       "</tr>\n",
       "<tr>\n",
       "  <th>Df Residuals:</th>          <td> 14445</td>      <th>  BIC:               </th>  <td>3.957e+05</td> \n",
       "</tr>\n",
       "<tr>\n",
       "  <th>Df Model:</th>              <td>    23</td>      <th>                     </th>      <td> </td>     \n",
       "</tr>\n",
       "<tr>\n",
       "  <th>Covariance Type:</th>      <td>nonrobust</td>    <th>                     </th>      <td> </td>     \n",
       "</tr>\n",
       "</table>\n",
       "<table class=\"simpletable\">\n",
       "<tr>\n",
       "          <td></td>             <th>coef</th>     <th>std err</th>      <th>t</th>      <th>P>|t|</th>  <th>[0.025</th>    <th>0.975]</th>  \n",
       "</tr>\n",
       "<tr>\n",
       "  <th>Intercept</th>         <td>-3.593e+04</td> <td> 1.02e+04</td> <td>   -3.533</td> <td> 0.000</td> <td>-5.59e+04</td> <td> -1.6e+04</td>\n",
       "</tr>\n",
       "<tr>\n",
       "  <th>sqft_living</th>       <td>  151.8692</td> <td>    3.736</td> <td>   40.652</td> <td> 0.000</td> <td>  144.547</td> <td>  159.192</td>\n",
       "</tr>\n",
       "<tr>\n",
       "  <th>bedrooms</th>          <td>-1.862e+04</td> <td> 2373.665</td> <td>   -7.846</td> <td> 0.000</td> <td>-2.33e+04</td> <td> -1.4e+04</td>\n",
       "</tr>\n",
       "<tr>\n",
       "  <th>sqft_lot</th>          <td>   -0.2134</td> <td>    0.042</td> <td>   -5.091</td> <td> 0.000</td> <td>   -0.296</td> <td>   -0.131</td>\n",
       "</tr>\n",
       "<tr>\n",
       "  <th>floors</th>            <td> 5.264e+04</td> <td> 4069.892</td> <td>   12.935</td> <td> 0.000</td> <td> 4.47e+04</td> <td> 6.06e+04</td>\n",
       "</tr>\n",
       "<tr>\n",
       "  <th>has_basement</th>      <td> 3.667e+04</td> <td> 4059.754</td> <td>    9.034</td> <td> 0.000</td> <td> 2.87e+04</td> <td> 4.46e+04</td>\n",
       "</tr>\n",
       "<tr>\n",
       "  <th>renovated</th>         <td> 4.229e+04</td> <td> 1.97e+04</td> <td>    2.148</td> <td> 0.032</td> <td> 3698.595</td> <td> 8.09e+04</td>\n",
       "</tr>\n",
       "<tr>\n",
       "  <th>house_age</th>         <td> 3083.9138</td> <td>   73.528</td> <td>   41.942</td> <td> 0.000</td> <td> 2939.790</td> <td> 3228.038</td>\n",
       "</tr>\n",
       "<tr>\n",
       "  <th>grade_10verygood</th>  <td> 4.202e+05</td> <td> 1.02e+04</td> <td>   41.387</td> <td> 0.000</td> <td>    4e+05</td> <td>  4.4e+05</td>\n",
       "</tr>\n",
       "<tr>\n",
       "  <th>grade_11excellent</th> <td> 6.852e+05</td> <td>  1.6e+04</td> <td>   42.878</td> <td> 0.000</td> <td> 6.54e+05</td> <td> 7.17e+05</td>\n",
       "</tr>\n",
       "<tr>\n",
       "  <th>grade_12luxury</th>    <td> 1.175e+06</td> <td> 2.92e+04</td> <td>   40.186</td> <td> 0.000</td> <td> 1.12e+06</td> <td> 1.23e+06</td>\n",
       "</tr>\n",
       "<tr>\n",
       "  <th>grade_13mansion</th>   <td> 2.196e+06</td> <td> 8.72e+04</td> <td>   25.178</td> <td> 0.000</td> <td> 2.02e+06</td> <td> 2.37e+06</td>\n",
       "</tr>\n",
       "<tr>\n",
       "  <th>grade_3poor</th>       <td>-1.053e+05</td> <td> 2.08e+05</td> <td>   -0.505</td> <td> 0.613</td> <td>-5.14e+05</td> <td> 3.03e+05</td>\n",
       "</tr>\n",
       "<tr>\n",
       "  <th>grade_4low</th>        <td> -1.26e+05</td> <td> 4.69e+04</td> <td>   -2.690</td> <td> 0.007</td> <td>-2.18e+05</td> <td>-3.42e+04</td>\n",
       "</tr>\n",
       "<tr>\n",
       "  <th>grade_5fair</th>       <td>-1.399e+05</td> <td> 1.73e+04</td> <td>   -8.072</td> <td> 0.000</td> <td>-1.74e+05</td> <td>-1.06e+05</td>\n",
       "</tr>\n",
       "<tr>\n",
       "  <th>grade_6lowaverage</th> <td>-8.838e+04</td> <td> 6626.625</td> <td>  -13.338</td> <td> 0.000</td> <td>-1.01e+05</td> <td>-7.54e+04</td>\n",
       "</tr>\n",
       "<tr>\n",
       "  <th>grade_8good</th>       <td> 9.359e+04</td> <td> 4773.742</td> <td>   19.606</td> <td> 0.000</td> <td> 8.42e+04</td> <td> 1.03e+05</td>\n",
       "</tr>\n",
       "<tr>\n",
       "  <th>grade_9better</th>     <td> 2.389e+05</td> <td> 7141.866</td> <td>   33.457</td> <td> 0.000</td> <td> 2.25e+05</td> <td> 2.53e+05</td>\n",
       "</tr>\n",
       "<tr>\n",
       "  <th>waterfront_yes</th>    <td> 6.064e+05</td> <td> 2.55e+04</td> <td>   23.818</td> <td> 0.000</td> <td> 5.57e+05</td> <td> 6.56e+05</td>\n",
       "</tr>\n",
       "<tr>\n",
       "  <th>view_average</th>      <td> 5.206e+04</td> <td> 8543.891</td> <td>    6.093</td> <td> 0.000</td> <td> 3.53e+04</td> <td> 6.88e+04</td>\n",
       "</tr>\n",
       "<tr>\n",
       "  <th>view_excellent</th>    <td> 2.383e+05</td> <td> 1.74e+04</td> <td>   13.724</td> <td> 0.000</td> <td> 2.04e+05</td> <td> 2.72e+05</td>\n",
       "</tr>\n",
       "<tr>\n",
       "  <th>view_fair</th>         <td> 1.248e+05</td> <td> 1.44e+04</td> <td>    8.677</td> <td> 0.000</td> <td> 9.66e+04</td> <td> 1.53e+05</td>\n",
       "</tr>\n",
       "<tr>\n",
       "  <th>view_good</th>         <td> 1.109e+05</td> <td> 1.16e+04</td> <td>    9.597</td> <td> 0.000</td> <td> 8.83e+04</td> <td> 1.34e+05</td>\n",
       "</tr>\n",
       "<tr>\n",
       "  <th>view_missing</th>      <td> 3.841e+04</td> <td> 3.11e+04</td> <td>    1.234</td> <td> 0.217</td> <td>-2.26e+04</td> <td> 9.94e+04</td>\n",
       "</tr>\n",
       "</table>\n",
       "<table class=\"simpletable\">\n",
       "<tr>\n",
       "  <th>Omnibus:</th>       <td>8388.329</td> <th>  Durbin-Watson:     </th>  <td>   2.014</td> \n",
       "</tr>\n",
       "<tr>\n",
       "  <th>Prob(Omnibus):</th>  <td> 0.000</td>  <th>  Jarque-Bera (JB):  </th> <td>313968.099</td>\n",
       "</tr>\n",
       "<tr>\n",
       "  <th>Skew:</th>           <td> 2.178</td>  <th>  Prob(JB):          </th>  <td>    0.00</td> \n",
       "</tr>\n",
       "<tr>\n",
       "  <th>Kurtosis:</th>       <td>25.401</td>  <th>  Cond. No.          </th>  <td>5.44e+06</td> \n",
       "</tr>\n",
       "</table><br/><br/>Notes:<br/>[1] Standard Errors assume that the covariance matrix of the errors is correctly specified.<br/>[2] The condition number is large, 5.44e+06. This might indicate that there are<br/>strong multicollinearity or other numerical problems."
      ],
      "text/plain": [
       "<class 'statsmodels.iolib.summary.Summary'>\n",
       "\"\"\"\n",
       "                            OLS Regression Results                            \n",
       "==============================================================================\n",
       "Dep. Variable:                  price   R-squared:                       0.676\n",
       "Model:                            OLS   Adj. R-squared:                  0.675\n",
       "Method:                 Least Squares   F-statistic:                     1308.\n",
       "Date:                Fri, 01 Apr 2022   Prob (F-statistic):               0.00\n",
       "Time:                        14:47:55   Log-Likelihood:            -1.9771e+05\n",
       "No. Observations:               14469   AIC:                         3.955e+05\n",
       "Df Residuals:                   14445   BIC:                         3.957e+05\n",
       "Df Model:                          23                                         \n",
       "Covariance Type:            nonrobust                                         \n",
       "=====================================================================================\n",
       "                        coef    std err          t      P>|t|      [0.025      0.975]\n",
       "-------------------------------------------------------------------------------------\n",
       "Intercept         -3.593e+04   1.02e+04     -3.533      0.000   -5.59e+04    -1.6e+04\n",
       "sqft_living         151.8692      3.736     40.652      0.000     144.547     159.192\n",
       "bedrooms          -1.862e+04   2373.665     -7.846      0.000   -2.33e+04    -1.4e+04\n",
       "sqft_lot             -0.2134      0.042     -5.091      0.000      -0.296      -0.131\n",
       "floors             5.264e+04   4069.892     12.935      0.000    4.47e+04    6.06e+04\n",
       "has_basement       3.667e+04   4059.754      9.034      0.000    2.87e+04    4.46e+04\n",
       "renovated          4.229e+04   1.97e+04      2.148      0.032    3698.595    8.09e+04\n",
       "house_age          3083.9138     73.528     41.942      0.000    2939.790    3228.038\n",
       "grade_10verygood   4.202e+05   1.02e+04     41.387      0.000       4e+05     4.4e+05\n",
       "grade_11excellent  6.852e+05    1.6e+04     42.878      0.000    6.54e+05    7.17e+05\n",
       "grade_12luxury     1.175e+06   2.92e+04     40.186      0.000    1.12e+06    1.23e+06\n",
       "grade_13mansion    2.196e+06   8.72e+04     25.178      0.000    2.02e+06    2.37e+06\n",
       "grade_3poor       -1.053e+05   2.08e+05     -0.505      0.613   -5.14e+05    3.03e+05\n",
       "grade_4low         -1.26e+05   4.69e+04     -2.690      0.007   -2.18e+05   -3.42e+04\n",
       "grade_5fair       -1.399e+05   1.73e+04     -8.072      0.000   -1.74e+05   -1.06e+05\n",
       "grade_6lowaverage -8.838e+04   6626.625    -13.338      0.000   -1.01e+05   -7.54e+04\n",
       "grade_8good        9.359e+04   4773.742     19.606      0.000    8.42e+04    1.03e+05\n",
       "grade_9better      2.389e+05   7141.866     33.457      0.000    2.25e+05    2.53e+05\n",
       "waterfront_yes     6.064e+05   2.55e+04     23.818      0.000    5.57e+05    6.56e+05\n",
       "view_average       5.206e+04   8543.891      6.093      0.000    3.53e+04    6.88e+04\n",
       "view_excellent     2.383e+05   1.74e+04     13.724      0.000    2.04e+05    2.72e+05\n",
       "view_fair          1.248e+05   1.44e+04      8.677      0.000    9.66e+04    1.53e+05\n",
       "view_good          1.109e+05   1.16e+04      9.597      0.000    8.83e+04    1.34e+05\n",
       "view_missing       3.841e+04   3.11e+04      1.234      0.217   -2.26e+04    9.94e+04\n",
       "==============================================================================\n",
       "Omnibus:                     8388.329   Durbin-Watson:                   2.014\n",
       "Prob(Omnibus):                  0.000   Jarque-Bera (JB):           313968.099\n",
       "Skew:                           2.178   Prob(JB):                         0.00\n",
       "Kurtosis:                      25.401   Cond. No.                     5.44e+06\n",
       "==============================================================================\n",
       "\n",
       "Notes:\n",
       "[1] Standard Errors assume that the covariance matrix of the errors is correctly specified.\n",
       "[2] The condition number is large, 5.44e+06. This might indicate that there are\n",
       "strong multicollinearity or other numerical problems.\n",
       "\"\"\""
      ]
     },
     "execution_count": 53,
     "metadata": {},
     "output_type": "execute_result"
    }
   ],
   "source": [
    "model_2_summary, model_2_formula = build_ols_model(model_2_cols,train_df)\n",
    "model_2_summary"
   ]
  },
  {
   "cell_type": "code",
   "execution_count": 54,
   "metadata": {},
   "outputs": [
    {
     "data": {
      "text/html": [
       "<div>\n",
       "<style scoped>\n",
       "    .dataframe tbody tr th:only-of-type {\n",
       "        vertical-align: middle;\n",
       "    }\n",
       "\n",
       "    .dataframe tbody tr th {\n",
       "        vertical-align: top;\n",
       "    }\n",
       "\n",
       "    .dataframe thead th {\n",
       "        text-align: right;\n",
       "    }\n",
       "</style>\n",
       "<table border=\"1\" class=\"dataframe\">\n",
       "  <thead>\n",
       "    <tr style=\"text-align: right;\">\n",
       "      <th></th>\n",
       "      <th>feature</th>\n",
       "      <th>VIF</th>\n",
       "    </tr>\n",
       "  </thead>\n",
       "  <tbody>\n",
       "    <tr>\n",
       "      <th>0</th>\n",
       "      <td>Intercept</td>\n",
       "      <td>34.502619</td>\n",
       "    </tr>\n",
       "    <tr>\n",
       "      <th>1</th>\n",
       "      <td>sqft_living</td>\n",
       "      <td>3.917287</td>\n",
       "    </tr>\n",
       "    <tr>\n",
       "      <th>2</th>\n",
       "      <td>bedrooms</td>\n",
       "      <td>1.639238</td>\n",
       "    </tr>\n",
       "    <tr>\n",
       "      <th>3</th>\n",
       "      <td>sqft_lot</td>\n",
       "      <td>1.063208</td>\n",
       "    </tr>\n",
       "    <tr>\n",
       "      <th>4</th>\n",
       "      <td>floors</td>\n",
       "      <td>1.620585</td>\n",
       "    </tr>\n",
       "    <tr>\n",
       "      <th>5</th>\n",
       "      <td>has_basement</td>\n",
       "      <td>1.310577</td>\n",
       "    </tr>\n",
       "    <tr>\n",
       "      <th>6</th>\n",
       "      <td>renovated</td>\n",
       "      <td>1.010975</td>\n",
       "    </tr>\n",
       "    <tr>\n",
       "      <th>7</th>\n",
       "      <td>house_age</td>\n",
       "      <td>1.568852</td>\n",
       "    </tr>\n",
       "    <tr>\n",
       "      <th>8</th>\n",
       "      <td>grade_10verygood</td>\n",
       "      <td>1.760301</td>\n",
       "    </tr>\n",
       "    <tr>\n",
       "      <th>9</th>\n",
       "      <td>grade_11excellent</td>\n",
       "      <td>1.560675</td>\n",
       "    </tr>\n",
       "    <tr>\n",
       "      <th>10</th>\n",
       "      <td>grade_12luxury</td>\n",
       "      <td>1.236351</td>\n",
       "    </tr>\n",
       "    <tr>\n",
       "      <th>11</th>\n",
       "      <td>grade_13mansion</td>\n",
       "      <td>1.052049</td>\n",
       "    </tr>\n",
       "    <tr>\n",
       "      <th>12</th>\n",
       "      <td>grade_3poor</td>\n",
       "      <td>1.000887</td>\n",
       "    </tr>\n",
       "    <tr>\n",
       "      <th>13</th>\n",
       "      <td>grade_4low</td>\n",
       "      <td>1.011161</td>\n",
       "    </tr>\n",
       "    <tr>\n",
       "      <th>14</th>\n",
       "      <td>grade_5fair</td>\n",
       "      <td>1.055377</td>\n",
       "    </tr>\n",
       "    <tr>\n",
       "      <th>15</th>\n",
       "      <td>grade_6lowaverage</td>\n",
       "      <td>1.265103</td>\n",
       "    </tr>\n",
       "    <tr>\n",
       "      <th>16</th>\n",
       "      <td>grade_8good</td>\n",
       "      <td>1.544005</td>\n",
       "    </tr>\n",
       "    <tr>\n",
       "      <th>17</th>\n",
       "      <td>grade_9better</td>\n",
       "      <td>1.825651</td>\n",
       "    </tr>\n",
       "    <tr>\n",
       "      <th>18</th>\n",
       "      <td>waterfront_yes</td>\n",
       "      <td>1.396248</td>\n",
       "    </tr>\n",
       "    <tr>\n",
       "      <th>19</th>\n",
       "      <td>view_average</td>\n",
       "      <td>1.057393</td>\n",
       "    </tr>\n",
       "    <tr>\n",
       "      <th>20</th>\n",
       "      <td>view_excellent</td>\n",
       "      <td>1.438421</td>\n",
       "    </tr>\n",
       "    <tr>\n",
       "      <th>21</th>\n",
       "      <td>view_fair</td>\n",
       "      <td>1.023687</td>\n",
       "    </tr>\n",
       "    <tr>\n",
       "      <th>22</th>\n",
       "      <td>view_good</td>\n",
       "      <td>1.066790</td>\n",
       "    </tr>\n",
       "    <tr>\n",
       "      <th>23</th>\n",
       "      <td>view_missing</td>\n",
       "      <td>1.002660</td>\n",
       "    </tr>\n",
       "  </tbody>\n",
       "</table>\n",
       "</div>"
      ],
      "text/plain": [
       "              feature        VIF\n",
       "0           Intercept  34.502619\n",
       "1         sqft_living   3.917287\n",
       "2            bedrooms   1.639238\n",
       "3            sqft_lot   1.063208\n",
       "4              floors   1.620585\n",
       "5        has_basement   1.310577\n",
       "6           renovated   1.010975\n",
       "7           house_age   1.568852\n",
       "8    grade_10verygood   1.760301\n",
       "9   grade_11excellent   1.560675\n",
       "10     grade_12luxury   1.236351\n",
       "11    grade_13mansion   1.052049\n",
       "12        grade_3poor   1.000887\n",
       "13         grade_4low   1.011161\n",
       "14        grade_5fair   1.055377\n",
       "15  grade_6lowaverage   1.265103\n",
       "16        grade_8good   1.544005\n",
       "17      grade_9better   1.825651\n",
       "18     waterfront_yes   1.396248\n",
       "19       view_average   1.057393\n",
       "20     view_excellent   1.438421\n",
       "21          view_fair   1.023687\n",
       "22          view_good   1.066790\n",
       "23       view_missing   1.002660"
      ]
     },
     "metadata": {},
     "output_type": "display_data"
    }
   ],
   "source": [
    "display(make_vif(model_2_formula, train_df))"
   ]
  },
  {
   "cell_type": "markdown",
   "metadata": {},
   "source": [
    "### Model 3: Check coefficients and multicollinearity of model adding neighborhood and distance from Seattle features"
   ]
  },
  {
   "cell_type": "markdown",
   "metadata": {},
   "source": [
    "Adds `dist_seattle` and `neighborhood` category features"
   ]
  },
  {
   "cell_type": "code",
   "execution_count": 55,
   "metadata": {},
   "outputs": [
    {
     "name": "stdout",
     "output_type": "stream",
     "text": [
      "price ~ sqft_living + bedrooms + sqft_lot + floors + has_basement + renovated + house_age + grade_10verygood + grade_11excellent + grade_12luxury + grade_13mansion + grade_3poor + grade_4low + grade_5fair + grade_6lowaverage + grade_8good + grade_9better + waterfront_yes + view_average + view_excellent + view_fair + view_good + view_missing + dist_seattle + neighborhood_ballard + neighborhood_beaconhill + neighborhood_capitolhill + neighborhood_cascade + neighborhood_centralarea + neighborhood_delridge + neighborhood_downtown + neighborhood_greaterduwamish + neighborhood_interbay + neighborhood_lakecity + neighborhood_magnolia + neighborhood_northcentral + neighborhood_northeast + neighborhood_northgate + neighborhood_northwest + neighborhood_queenanne + neighborhood_rainiervalley + neighborhood_sewardpark + neighborhood_universitydistrict + neighborhood_westseattle\n"
     ]
    },
    {
     "data": {
      "text/html": [
       "<table class=\"simpletable\">\n",
       "<caption>OLS Regression Results</caption>\n",
       "<tr>\n",
       "  <th>Dep. Variable:</th>          <td>price</td>      <th>  R-squared:         </th>  <td>   0.749</td>  \n",
       "</tr>\n",
       "<tr>\n",
       "  <th>Model:</th>                   <td>OLS</td>       <th>  Adj. R-squared:    </th>  <td>   0.748</td>  \n",
       "</tr>\n",
       "<tr>\n",
       "  <th>Method:</th>             <td>Least Squares</td>  <th>  F-statistic:       </th>  <td>   976.3</td>  \n",
       "</tr>\n",
       "<tr>\n",
       "  <th>Date:</th>             <td>Fri, 01 Apr 2022</td> <th>  Prob (F-statistic):</th>   <td>  0.00</td>   \n",
       "</tr>\n",
       "<tr>\n",
       "  <th>Time:</th>                 <td>14:47:58</td>     <th>  Log-Likelihood:    </th> <td>-1.9587e+05</td>\n",
       "</tr>\n",
       "<tr>\n",
       "  <th>No. Observations:</th>      <td> 14469</td>      <th>  AIC:               </th>  <td>3.918e+05</td> \n",
       "</tr>\n",
       "<tr>\n",
       "  <th>Df Residuals:</th>          <td> 14424</td>      <th>  BIC:               </th>  <td>3.922e+05</td> \n",
       "</tr>\n",
       "<tr>\n",
       "  <th>Df Model:</th>              <td>    44</td>      <th>                     </th>      <td> </td>     \n",
       "</tr>\n",
       "<tr>\n",
       "  <th>Covariance Type:</th>      <td>nonrobust</td>    <th>                     </th>      <td> </td>     \n",
       "</tr>\n",
       "</table>\n",
       "<table class=\"simpletable\">\n",
       "<tr>\n",
       "                 <td></td>                    <th>coef</th>     <th>std err</th>      <th>t</th>      <th>P>|t|</th>  <th>[0.025</th>    <th>0.975]</th>  \n",
       "</tr>\n",
       "<tr>\n",
       "  <th>Intercept</th>                       <td> 3.144e+05</td> <td> 1.09e+04</td> <td>   28.934</td> <td> 0.000</td> <td> 2.93e+05</td> <td> 3.36e+05</td>\n",
       "</tr>\n",
       "<tr>\n",
       "  <th>sqft_living</th>                     <td>  188.0333</td> <td>    3.394</td> <td>   55.407</td> <td> 0.000</td> <td>  181.381</td> <td>  194.685</td>\n",
       "</tr>\n",
       "<tr>\n",
       "  <th>bedrooms</th>                        <td>-1.311e+04</td> <td> 2110.344</td> <td>   -6.214</td> <td> 0.000</td> <td>-1.72e+04</td> <td>-8976.331</td>\n",
       "</tr>\n",
       "<tr>\n",
       "  <th>sqft_lot</th>                        <td>    0.2815</td> <td>    0.038</td> <td>    7.413</td> <td> 0.000</td> <td>    0.207</td> <td>    0.356</td>\n",
       "</tr>\n",
       "<tr>\n",
       "  <th>floors</th>                          <td>-2.413e+04</td> <td> 4081.816</td> <td>   -5.911</td> <td> 0.000</td> <td>-3.21e+04</td> <td>-1.61e+04</td>\n",
       "</tr>\n",
       "<tr>\n",
       "  <th>has_basement</th>                    <td>  -3.8e+04</td> <td> 3879.763</td> <td>   -9.794</td> <td> 0.000</td> <td>-4.56e+04</td> <td>-3.04e+04</td>\n",
       "</tr>\n",
       "<tr>\n",
       "  <th>renovated</th>                       <td> 5.521e+04</td> <td> 1.74e+04</td> <td>    3.176</td> <td> 0.001</td> <td> 2.11e+04</td> <td> 8.93e+04</td>\n",
       "</tr>\n",
       "<tr>\n",
       "  <th>house_age</th>                       <td>  660.2538</td> <td>   78.500</td> <td>    8.411</td> <td> 0.000</td> <td>  506.383</td> <td>  814.125</td>\n",
       "</tr>\n",
       "<tr>\n",
       "  <th>grade_10verygood</th>                <td> 3.088e+05</td> <td> 9128.040</td> <td>   33.825</td> <td> 0.000</td> <td> 2.91e+05</td> <td> 3.27e+05</td>\n",
       "</tr>\n",
       "<tr>\n",
       "  <th>grade_11excellent</th>               <td> 5.308e+05</td> <td> 1.43e+04</td> <td>   37.101</td> <td> 0.000</td> <td> 5.03e+05</td> <td> 5.59e+05</td>\n",
       "</tr>\n",
       "<tr>\n",
       "  <th>grade_12luxury</th>                  <td> 9.707e+05</td> <td>  2.6e+04</td> <td>   37.377</td> <td> 0.000</td> <td>  9.2e+05</td> <td> 1.02e+06</td>\n",
       "</tr>\n",
       "<tr>\n",
       "  <th>grade_13mansion</th>                 <td> 1.905e+06</td> <td> 7.71e+04</td> <td>   24.714</td> <td> 0.000</td> <td> 1.75e+06</td> <td> 2.06e+06</td>\n",
       "</tr>\n",
       "<tr>\n",
       "  <th>grade_3poor</th>                     <td> 3.255e+05</td> <td> 1.84e+05</td> <td>    1.772</td> <td> 0.076</td> <td>-3.46e+04</td> <td> 6.86e+05</td>\n",
       "</tr>\n",
       "<tr>\n",
       "  <th>grade_4low</th>                      <td>-8776.2096</td> <td> 4.14e+04</td> <td>   -0.212</td> <td> 0.832</td> <td>-8.99e+04</td> <td> 7.23e+04</td>\n",
       "</tr>\n",
       "<tr>\n",
       "  <th>grade_5fair</th>                     <td>-4.255e+04</td> <td> 1.54e+04</td> <td>   -2.767</td> <td> 0.006</td> <td>-7.27e+04</td> <td>-1.24e+04</td>\n",
       "</tr>\n",
       "<tr>\n",
       "  <th>grade_6lowaverage</th>               <td>-3.671e+04</td> <td> 5973.345</td> <td>   -6.146</td> <td> 0.000</td> <td>-4.84e+04</td> <td> -2.5e+04</td>\n",
       "</tr>\n",
       "<tr>\n",
       "  <th>grade_8good</th>                     <td> 5.683e+04</td> <td> 4253.011</td> <td>   13.363</td> <td> 0.000</td> <td> 4.85e+04</td> <td> 6.52e+04</td>\n",
       "</tr>\n",
       "<tr>\n",
       "  <th>grade_9better</th>                   <td> 1.591e+05</td> <td> 6434.307</td> <td>   24.721</td> <td> 0.000</td> <td> 1.46e+05</td> <td> 1.72e+05</td>\n",
       "</tr>\n",
       "<tr>\n",
       "  <th>waterfront_yes</th>                  <td> 6.341e+05</td> <td> 2.25e+04</td> <td>   28.217</td> <td> 0.000</td> <td>  5.9e+05</td> <td> 6.78e+05</td>\n",
       "</tr>\n",
       "<tr>\n",
       "  <th>view_average</th>                    <td> 5.933e+04</td> <td> 7564.910</td> <td>    7.842</td> <td> 0.000</td> <td> 4.45e+04</td> <td> 7.42e+04</td>\n",
       "</tr>\n",
       "<tr>\n",
       "  <th>view_excellent</th>                  <td> 2.505e+05</td> <td> 1.53e+04</td> <td>   16.321</td> <td> 0.000</td> <td>  2.2e+05</td> <td> 2.81e+05</td>\n",
       "</tr>\n",
       "<tr>\n",
       "  <th>view_fair</th>                       <td> 1.092e+05</td> <td> 1.28e+04</td> <td>    8.557</td> <td> 0.000</td> <td> 8.42e+04</td> <td> 1.34e+05</td>\n",
       "</tr>\n",
       "<tr>\n",
       "  <th>view_good</th>                       <td> 1.213e+05</td> <td> 1.02e+04</td> <td>   11.854</td> <td> 0.000</td> <td> 1.01e+05</td> <td> 1.41e+05</td>\n",
       "</tr>\n",
       "<tr>\n",
       "  <th>view_missing</th>                    <td> 5.593e+04</td> <td> 2.74e+04</td> <td>    2.038</td> <td> 0.042</td> <td> 2145.181</td> <td>  1.1e+05</td>\n",
       "</tr>\n",
       "<tr>\n",
       "  <th>dist_seattle</th>                    <td>-1.533e+04</td> <td>  329.996</td> <td>  -46.456</td> <td> 0.000</td> <td> -1.6e+04</td> <td>-1.47e+04</td>\n",
       "</tr>\n",
       "<tr>\n",
       "  <th>neighborhood_ballard</th>            <td> 4.473e+04</td> <td> 1.08e+04</td> <td>    4.124</td> <td> 0.000</td> <td> 2.35e+04</td> <td>  6.6e+04</td>\n",
       "</tr>\n",
       "<tr>\n",
       "  <th>neighborhood_beaconhill</th>         <td>-1.311e+05</td> <td> 1.41e+04</td> <td>   -9.298</td> <td> 0.000</td> <td>-1.59e+05</td> <td>-1.03e+05</td>\n",
       "</tr>\n",
       "<tr>\n",
       "  <th>neighborhood_capitolhill</th>        <td> 2.313e+05</td> <td> 1.48e+04</td> <td>   15.580</td> <td> 0.000</td> <td> 2.02e+05</td> <td>  2.6e+05</td>\n",
       "</tr>\n",
       "<tr>\n",
       "  <th>neighborhood_cascade</th>            <td> 8.929e+04</td> <td> 3.52e+04</td> <td>    2.535</td> <td> 0.011</td> <td> 2.03e+04</td> <td> 1.58e+05</td>\n",
       "</tr>\n",
       "<tr>\n",
       "  <th>neighborhood_centralarea</th>        <td> 4.084e+04</td> <td> 1.15e+04</td> <td>    3.566</td> <td> 0.000</td> <td> 1.84e+04</td> <td> 6.33e+04</td>\n",
       "</tr>\n",
       "<tr>\n",
       "  <th>neighborhood_delridge</th>           <td>-1.163e+05</td> <td> 1.08e+04</td> <td>  -10.760</td> <td> 0.000</td> <td>-1.38e+05</td> <td>-9.51e+04</td>\n",
       "</tr>\n",
       "<tr>\n",
       "  <th>neighborhood_downtown</th>           <td> -4.15e+04</td> <td> 1.84e+05</td> <td>   -0.226</td> <td> 0.821</td> <td>-4.01e+05</td> <td> 3.18e+05</td>\n",
       "</tr>\n",
       "<tr>\n",
       "  <th>neighborhood_greaterduwamish</th>    <td>-1.813e+05</td> <td>  3.5e+04</td> <td>   -5.182</td> <td> 0.000</td> <td> -2.5e+05</td> <td>-1.13e+05</td>\n",
       "</tr>\n",
       "<tr>\n",
       "  <th>neighborhood_interbay</th>           <td> 3345.9111</td> <td> 9.19e+04</td> <td>    0.036</td> <td> 0.971</td> <td>-1.77e+05</td> <td> 1.84e+05</td>\n",
       "</tr>\n",
       "<tr>\n",
       "  <th>neighborhood_lakecity</th>           <td>-3.793e+04</td> <td> 1.28e+04</td> <td>   -2.970</td> <td> 0.003</td> <td> -6.3e+04</td> <td>-1.29e+04</td>\n",
       "</tr>\n",
       "<tr>\n",
       "  <th>neighborhood_magnolia</th>           <td> 5.544e+04</td> <td>  1.4e+04</td> <td>    3.961</td> <td> 0.000</td> <td>  2.8e+04</td> <td> 8.29e+04</td>\n",
       "</tr>\n",
       "<tr>\n",
       "  <th>neighborhood_northcentral</th>       <td>  8.56e+04</td> <td> 1.09e+04</td> <td>    7.882</td> <td> 0.000</td> <td> 6.43e+04</td> <td> 1.07e+05</td>\n",
       "</tr>\n",
       "<tr>\n",
       "  <th>neighborhood_northeast</th>          <td> 1.109e+05</td> <td> 1.04e+04</td> <td>   10.675</td> <td> 0.000</td> <td> 9.06e+04</td> <td> 1.31e+05</td>\n",
       "</tr>\n",
       "<tr>\n",
       "  <th>neighborhood_northgate</th>          <td> -4.31e+04</td> <td> 1.16e+04</td> <td>   -3.706</td> <td> 0.000</td> <td>-6.59e+04</td> <td>-2.03e+04</td>\n",
       "</tr>\n",
       "<tr>\n",
       "  <th>neighborhood_northwest</th>          <td>-1.615e+04</td> <td> 1.01e+04</td> <td>   -1.592</td> <td> 0.111</td> <td> -3.6e+04</td> <td> 3730.652</td>\n",
       "</tr>\n",
       "<tr>\n",
       "  <th>neighborhood_queenanne</th>          <td> 1.559e+05</td> <td> 1.42e+04</td> <td>   11.008</td> <td> 0.000</td> <td> 1.28e+05</td> <td> 1.84e+05</td>\n",
       "</tr>\n",
       "<tr>\n",
       "  <th>neighborhood_rainiervalley</th>      <td>-9.275e+04</td> <td> 1.03e+04</td> <td>   -8.965</td> <td> 0.000</td> <td>-1.13e+05</td> <td>-7.25e+04</td>\n",
       "</tr>\n",
       "<tr>\n",
       "  <th>neighborhood_sewardpark</th>         <td>-1.886e+04</td> <td> 2.13e+04</td> <td>   -0.884</td> <td> 0.377</td> <td>-6.07e+04</td> <td> 2.29e+04</td>\n",
       "</tr>\n",
       "<tr>\n",
       "  <th>neighborhood_universitydistrict</th> <td>  4.68e+04</td> <td> 3.87e+04</td> <td>    1.210</td> <td> 0.226</td> <td> -2.9e+04</td> <td> 1.23e+05</td>\n",
       "</tr>\n",
       "<tr>\n",
       "  <th>neighborhood_westseattle</th>        <td>-3.208e+04</td> <td> 8825.591</td> <td>   -3.634</td> <td> 0.000</td> <td>-4.94e+04</td> <td>-1.48e+04</td>\n",
       "</tr>\n",
       "</table>\n",
       "<table class=\"simpletable\">\n",
       "<tr>\n",
       "  <th>Omnibus:</th>       <td>9635.713</td> <th>  Durbin-Watson:     </th>  <td>   2.019</td> \n",
       "</tr>\n",
       "<tr>\n",
       "  <th>Prob(Omnibus):</th>  <td> 0.000</td>  <th>  Jarque-Bera (JB):  </th> <td>576862.142</td>\n",
       "</tr>\n",
       "<tr>\n",
       "  <th>Skew:</th>           <td> 2.528</td>  <th>  Prob(JB):          </th>  <td>    0.00</td> \n",
       "</tr>\n",
       "<tr>\n",
       "  <th>Kurtosis:</th>       <td>33.517</td>  <th>  Cond. No.          </th>  <td>5.44e+06</td> \n",
       "</tr>\n",
       "</table><br/><br/>Notes:<br/>[1] Standard Errors assume that the covariance matrix of the errors is correctly specified.<br/>[2] The condition number is large, 5.44e+06. This might indicate that there are<br/>strong multicollinearity or other numerical problems."
      ],
      "text/plain": [
       "<class 'statsmodels.iolib.summary.Summary'>\n",
       "\"\"\"\n",
       "                            OLS Regression Results                            \n",
       "==============================================================================\n",
       "Dep. Variable:                  price   R-squared:                       0.749\n",
       "Model:                            OLS   Adj. R-squared:                  0.748\n",
       "Method:                 Least Squares   F-statistic:                     976.3\n",
       "Date:                Fri, 01 Apr 2022   Prob (F-statistic):               0.00\n",
       "Time:                        14:47:58   Log-Likelihood:            -1.9587e+05\n",
       "No. Observations:               14469   AIC:                         3.918e+05\n",
       "Df Residuals:                   14424   BIC:                         3.922e+05\n",
       "Df Model:                          44                                         \n",
       "Covariance Type:            nonrobust                                         \n",
       "===================================================================================================\n",
       "                                      coef    std err          t      P>|t|      [0.025      0.975]\n",
       "---------------------------------------------------------------------------------------------------\n",
       "Intercept                        3.144e+05   1.09e+04     28.934      0.000    2.93e+05    3.36e+05\n",
       "sqft_living                       188.0333      3.394     55.407      0.000     181.381     194.685\n",
       "bedrooms                        -1.311e+04   2110.344     -6.214      0.000   -1.72e+04   -8976.331\n",
       "sqft_lot                            0.2815      0.038      7.413      0.000       0.207       0.356\n",
       "floors                          -2.413e+04   4081.816     -5.911      0.000   -3.21e+04   -1.61e+04\n",
       "has_basement                      -3.8e+04   3879.763     -9.794      0.000   -4.56e+04   -3.04e+04\n",
       "renovated                        5.521e+04   1.74e+04      3.176      0.001    2.11e+04    8.93e+04\n",
       "house_age                         660.2538     78.500      8.411      0.000     506.383     814.125\n",
       "grade_10verygood                 3.088e+05   9128.040     33.825      0.000    2.91e+05    3.27e+05\n",
       "grade_11excellent                5.308e+05   1.43e+04     37.101      0.000    5.03e+05    5.59e+05\n",
       "grade_12luxury                   9.707e+05    2.6e+04     37.377      0.000     9.2e+05    1.02e+06\n",
       "grade_13mansion                  1.905e+06   7.71e+04     24.714      0.000    1.75e+06    2.06e+06\n",
       "grade_3poor                      3.255e+05   1.84e+05      1.772      0.076   -3.46e+04    6.86e+05\n",
       "grade_4low                      -8776.2096   4.14e+04     -0.212      0.832   -8.99e+04    7.23e+04\n",
       "grade_5fair                     -4.255e+04   1.54e+04     -2.767      0.006   -7.27e+04   -1.24e+04\n",
       "grade_6lowaverage               -3.671e+04   5973.345     -6.146      0.000   -4.84e+04    -2.5e+04\n",
       "grade_8good                      5.683e+04   4253.011     13.363      0.000    4.85e+04    6.52e+04\n",
       "grade_9better                    1.591e+05   6434.307     24.721      0.000    1.46e+05    1.72e+05\n",
       "waterfront_yes                   6.341e+05   2.25e+04     28.217      0.000     5.9e+05    6.78e+05\n",
       "view_average                     5.933e+04   7564.910      7.842      0.000    4.45e+04    7.42e+04\n",
       "view_excellent                   2.505e+05   1.53e+04     16.321      0.000     2.2e+05    2.81e+05\n",
       "view_fair                        1.092e+05   1.28e+04      8.557      0.000    8.42e+04    1.34e+05\n",
       "view_good                        1.213e+05   1.02e+04     11.854      0.000    1.01e+05    1.41e+05\n",
       "view_missing                     5.593e+04   2.74e+04      2.038      0.042    2145.181     1.1e+05\n",
       "dist_seattle                    -1.533e+04    329.996    -46.456      0.000    -1.6e+04   -1.47e+04\n",
       "neighborhood_ballard             4.473e+04   1.08e+04      4.124      0.000    2.35e+04     6.6e+04\n",
       "neighborhood_beaconhill         -1.311e+05   1.41e+04     -9.298      0.000   -1.59e+05   -1.03e+05\n",
       "neighborhood_capitolhill         2.313e+05   1.48e+04     15.580      0.000    2.02e+05     2.6e+05\n",
       "neighborhood_cascade             8.929e+04   3.52e+04      2.535      0.011    2.03e+04    1.58e+05\n",
       "neighborhood_centralarea         4.084e+04   1.15e+04      3.566      0.000    1.84e+04    6.33e+04\n",
       "neighborhood_delridge           -1.163e+05   1.08e+04    -10.760      0.000   -1.38e+05   -9.51e+04\n",
       "neighborhood_downtown            -4.15e+04   1.84e+05     -0.226      0.821   -4.01e+05    3.18e+05\n",
       "neighborhood_greaterduwamish    -1.813e+05    3.5e+04     -5.182      0.000    -2.5e+05   -1.13e+05\n",
       "neighborhood_interbay            3345.9111   9.19e+04      0.036      0.971   -1.77e+05    1.84e+05\n",
       "neighborhood_lakecity           -3.793e+04   1.28e+04     -2.970      0.003    -6.3e+04   -1.29e+04\n",
       "neighborhood_magnolia            5.544e+04    1.4e+04      3.961      0.000     2.8e+04    8.29e+04\n",
       "neighborhood_northcentral         8.56e+04   1.09e+04      7.882      0.000    6.43e+04    1.07e+05\n",
       "neighborhood_northeast           1.109e+05   1.04e+04     10.675      0.000    9.06e+04    1.31e+05\n",
       "neighborhood_northgate           -4.31e+04   1.16e+04     -3.706      0.000   -6.59e+04   -2.03e+04\n",
       "neighborhood_northwest          -1.615e+04   1.01e+04     -1.592      0.111    -3.6e+04    3730.652\n",
       "neighborhood_queenanne           1.559e+05   1.42e+04     11.008      0.000    1.28e+05    1.84e+05\n",
       "neighborhood_rainiervalley      -9.275e+04   1.03e+04     -8.965      0.000   -1.13e+05   -7.25e+04\n",
       "neighborhood_sewardpark         -1.886e+04   2.13e+04     -0.884      0.377   -6.07e+04    2.29e+04\n",
       "neighborhood_universitydistrict   4.68e+04   3.87e+04      1.210      0.226    -2.9e+04    1.23e+05\n",
       "neighborhood_westseattle        -3.208e+04   8825.591     -3.634      0.000   -4.94e+04   -1.48e+04\n",
       "==============================================================================\n",
       "Omnibus:                     9635.713   Durbin-Watson:                   2.019\n",
       "Prob(Omnibus):                  0.000   Jarque-Bera (JB):           576862.142\n",
       "Skew:                           2.528   Prob(JB):                         0.00\n",
       "Kurtosis:                      33.517   Cond. No.                     5.44e+06\n",
       "==============================================================================\n",
       "\n",
       "Notes:\n",
       "[1] Standard Errors assume that the covariance matrix of the errors is correctly specified.\n",
       "[2] The condition number is large, 5.44e+06. This might indicate that there are\n",
       "strong multicollinearity or other numerical problems.\n",
       "\"\"\""
      ]
     },
     "execution_count": 55,
     "metadata": {},
     "output_type": "execute_result"
    }
   ],
   "source": [
    "model_3_summary, model_3_formula = build_ols_model(model_3_cols, train_df)\n",
    "model_3_summary"
   ]
  },
  {
   "cell_type": "code",
   "execution_count": 56,
   "metadata": {
    "scrolled": true
   },
   "outputs": [
    {
     "data": {
      "text/html": [
       "<div>\n",
       "<style scoped>\n",
       "    .dataframe tbody tr th:only-of-type {\n",
       "        vertical-align: middle;\n",
       "    }\n",
       "\n",
       "    .dataframe tbody tr th {\n",
       "        vertical-align: top;\n",
       "    }\n",
       "\n",
       "    .dataframe thead th {\n",
       "        text-align: right;\n",
       "    }\n",
       "</style>\n",
       "<table border=\"1\" class=\"dataframe\">\n",
       "  <thead>\n",
       "    <tr style=\"text-align: right;\">\n",
       "      <th></th>\n",
       "      <th>feature</th>\n",
       "      <th>VIF</th>\n",
       "    </tr>\n",
       "  </thead>\n",
       "  <tbody>\n",
       "    <tr>\n",
       "      <th>0</th>\n",
       "      <td>Intercept</td>\n",
       "      <td>50.756521</td>\n",
       "    </tr>\n",
       "    <tr>\n",
       "      <th>1</th>\n",
       "      <td>sqft_living</td>\n",
       "      <td>4.164756</td>\n",
       "    </tr>\n",
       "    <tr>\n",
       "      <th>2</th>\n",
       "      <td>bedrooms</td>\n",
       "      <td>1.669364</td>\n",
       "    </tr>\n",
       "    <tr>\n",
       "      <th>3</th>\n",
       "      <td>sqft_lot</td>\n",
       "      <td>1.123854</td>\n",
       "    </tr>\n",
       "    <tr>\n",
       "      <th>4</th>\n",
       "      <td>floors</td>\n",
       "      <td>2.100168</td>\n",
       "    </tr>\n",
       "    <tr>\n",
       "      <th>5</th>\n",
       "      <td>has_basement</td>\n",
       "      <td>1.542109</td>\n",
       "    </tr>\n",
       "    <tr>\n",
       "      <th>6</th>\n",
       "      <td>renovated</td>\n",
       "      <td>1.015546</td>\n",
       "    </tr>\n",
       "    <tr>\n",
       "      <th>7</th>\n",
       "      <td>house_age</td>\n",
       "      <td>2.303891</td>\n",
       "    </tr>\n",
       "    <tr>\n",
       "      <th>8</th>\n",
       "      <td>grade_10verygood</td>\n",
       "      <td>1.833618</td>\n",
       "    </tr>\n",
       "    <tr>\n",
       "      <th>9</th>\n",
       "      <td>grade_11excellent</td>\n",
       "      <td>1.611808</td>\n",
       "    </tr>\n",
       "    <tr>\n",
       "      <th>10</th>\n",
       "      <td>grade_12luxury</td>\n",
       "      <td>1.256946</td>\n",
       "    </tr>\n",
       "    <tr>\n",
       "      <th>11</th>\n",
       "      <td>grade_13mansion</td>\n",
       "      <td>1.059229</td>\n",
       "    </tr>\n",
       "    <tr>\n",
       "      <th>12</th>\n",
       "      <td>grade_3poor</td>\n",
       "      <td>1.002495</td>\n",
       "    </tr>\n",
       "    <tr>\n",
       "      <th>13</th>\n",
       "      <td>grade_4low</td>\n",
       "      <td>1.015335</td>\n",
       "    </tr>\n",
       "    <tr>\n",
       "      <th>14</th>\n",
       "      <td>grade_5fair</td>\n",
       "      <td>1.070521</td>\n",
       "    </tr>\n",
       "    <tr>\n",
       "      <th>15</th>\n",
       "      <td>grade_6lowaverage</td>\n",
       "      <td>1.324396</td>\n",
       "    </tr>\n",
       "    <tr>\n",
       "      <th>16</th>\n",
       "      <td>grade_8good</td>\n",
       "      <td>1.578938</td>\n",
       "    </tr>\n",
       "    <tr>\n",
       "      <th>17</th>\n",
       "      <td>grade_9better</td>\n",
       "      <td>1.909146</td>\n",
       "    </tr>\n",
       "    <tr>\n",
       "      <th>18</th>\n",
       "      <td>waterfront_yes</td>\n",
       "      <td>1.401569</td>\n",
       "    </tr>\n",
       "    <tr>\n",
       "      <th>19</th>\n",
       "      <td>view_average</td>\n",
       "      <td>1.068007</td>\n",
       "    </tr>\n",
       "    <tr>\n",
       "      <th>20</th>\n",
       "      <td>view_excellent</td>\n",
       "      <td>1.448341</td>\n",
       "    </tr>\n",
       "    <tr>\n",
       "      <th>21</th>\n",
       "      <td>view_fair</td>\n",
       "      <td>1.039114</td>\n",
       "    </tr>\n",
       "    <tr>\n",
       "      <th>22</th>\n",
       "      <td>view_good</td>\n",
       "      <td>1.076967</td>\n",
       "    </tr>\n",
       "    <tr>\n",
       "      <th>23</th>\n",
       "      <td>view_missing</td>\n",
       "      <td>1.003426</td>\n",
       "    </tr>\n",
       "    <tr>\n",
       "      <th>24</th>\n",
       "      <td>dist_seattle</td>\n",
       "      <td>2.292722</td>\n",
       "    </tr>\n",
       "    <tr>\n",
       "      <th>25</th>\n",
       "      <td>neighborhood_ballard</td>\n",
       "      <td>1.220484</td>\n",
       "    </tr>\n",
       "    <tr>\n",
       "      <th>26</th>\n",
       "      <td>neighborhood_beaconhill</td>\n",
       "      <td>1.084679</td>\n",
       "    </tr>\n",
       "    <tr>\n",
       "      <th>27</th>\n",
       "      <td>neighborhood_capitolhill</td>\n",
       "      <td>1.170740</td>\n",
       "    </tr>\n",
       "    <tr>\n",
       "      <th>28</th>\n",
       "      <td>neighborhood_cascade</td>\n",
       "      <td>1.029972</td>\n",
       "    </tr>\n",
       "    <tr>\n",
       "      <th>29</th>\n",
       "      <td>neighborhood_centralarea</td>\n",
       "      <td>1.249537</td>\n",
       "    </tr>\n",
       "    <tr>\n",
       "      <th>30</th>\n",
       "      <td>neighborhood_delridge</td>\n",
       "      <td>1.152918</td>\n",
       "    </tr>\n",
       "    <tr>\n",
       "      <th>31</th>\n",
       "      <td>neighborhood_downtown</td>\n",
       "      <td>1.002015</td>\n",
       "    </tr>\n",
       "    <tr>\n",
       "      <th>32</th>\n",
       "      <td>neighborhood_greaterduwamish</td>\n",
       "      <td>1.016425</td>\n",
       "    </tr>\n",
       "    <tr>\n",
       "      <th>33</th>\n",
       "      <td>neighborhood_interbay</td>\n",
       "      <td>1.004128</td>\n",
       "    </tr>\n",
       "    <tr>\n",
       "      <th>34</th>\n",
       "      <td>neighborhood_lakecity</td>\n",
       "      <td>1.063706</td>\n",
       "    </tr>\n",
       "    <tr>\n",
       "      <th>35</th>\n",
       "      <td>neighborhood_magnolia</td>\n",
       "      <td>1.120151</td>\n",
       "    </tr>\n",
       "    <tr>\n",
       "      <th>36</th>\n",
       "      <td>neighborhood_northcentral</td>\n",
       "      <td>1.280330</td>\n",
       "    </tr>\n",
       "    <tr>\n",
       "      <th>37</th>\n",
       "      <td>neighborhood_northeast</td>\n",
       "      <td>1.193618</td>\n",
       "    </tr>\n",
       "    <tr>\n",
       "      <th>38</th>\n",
       "      <td>neighborhood_northgate</td>\n",
       "      <td>1.118840</td>\n",
       "    </tr>\n",
       "    <tr>\n",
       "      <th>39</th>\n",
       "      <td>neighborhood_northwest</td>\n",
       "      <td>1.151835</td>\n",
       "    </tr>\n",
       "    <tr>\n",
       "      <th>40</th>\n",
       "      <td>neighborhood_queenanne</td>\n",
       "      <td>1.193254</td>\n",
       "    </tr>\n",
       "    <tr>\n",
       "      <th>41</th>\n",
       "      <td>neighborhood_rainiervalley</td>\n",
       "      <td>1.143616</td>\n",
       "    </tr>\n",
       "    <tr>\n",
       "      <th>42</th>\n",
       "      <td>neighborhood_sewardpark</td>\n",
       "      <td>1.035516</td>\n",
       "    </tr>\n",
       "    <tr>\n",
       "      <th>43</th>\n",
       "      <td>neighborhood_universitydistrict</td>\n",
       "      <td>1.021185</td>\n",
       "    </tr>\n",
       "    <tr>\n",
       "      <th>44</th>\n",
       "      <td>neighborhood_westseattle</td>\n",
       "      <td>1.282164</td>\n",
       "    </tr>\n",
       "  </tbody>\n",
       "</table>\n",
       "</div>"
      ],
      "text/plain": [
       "                            feature        VIF\n",
       "0                         Intercept  50.756521\n",
       "1                       sqft_living   4.164756\n",
       "2                          bedrooms   1.669364\n",
       "3                          sqft_lot   1.123854\n",
       "4                            floors   2.100168\n",
       "5                      has_basement   1.542109\n",
       "6                         renovated   1.015546\n",
       "7                         house_age   2.303891\n",
       "8                  grade_10verygood   1.833618\n",
       "9                 grade_11excellent   1.611808\n",
       "10                   grade_12luxury   1.256946\n",
       "11                  grade_13mansion   1.059229\n",
       "12                      grade_3poor   1.002495\n",
       "13                       grade_4low   1.015335\n",
       "14                      grade_5fair   1.070521\n",
       "15                grade_6lowaverage   1.324396\n",
       "16                      grade_8good   1.578938\n",
       "17                    grade_9better   1.909146\n",
       "18                   waterfront_yes   1.401569\n",
       "19                     view_average   1.068007\n",
       "20                   view_excellent   1.448341\n",
       "21                        view_fair   1.039114\n",
       "22                        view_good   1.076967\n",
       "23                     view_missing   1.003426\n",
       "24                     dist_seattle   2.292722\n",
       "25             neighborhood_ballard   1.220484\n",
       "26          neighborhood_beaconhill   1.084679\n",
       "27         neighborhood_capitolhill   1.170740\n",
       "28             neighborhood_cascade   1.029972\n",
       "29         neighborhood_centralarea   1.249537\n",
       "30            neighborhood_delridge   1.152918\n",
       "31            neighborhood_downtown   1.002015\n",
       "32     neighborhood_greaterduwamish   1.016425\n",
       "33            neighborhood_interbay   1.004128\n",
       "34            neighborhood_lakecity   1.063706\n",
       "35            neighborhood_magnolia   1.120151\n",
       "36        neighborhood_northcentral   1.280330\n",
       "37           neighborhood_northeast   1.193618\n",
       "38           neighborhood_northgate   1.118840\n",
       "39           neighborhood_northwest   1.151835\n",
       "40           neighborhood_queenanne   1.193254\n",
       "41       neighborhood_rainiervalley   1.143616\n",
       "42          neighborhood_sewardpark   1.035516\n",
       "43  neighborhood_universitydistrict   1.021185\n",
       "44         neighborhood_westseattle   1.282164"
      ]
     },
     "metadata": {},
     "output_type": "display_data"
    }
   ],
   "source": [
    "display(make_vif(model_3_formula, train_df) )"
   ]
  },
  {
   "cell_type": "markdown",
   "metadata": {},
   "source": [
    "### Model 4: Check coefficients and multicollinearity of model adding King County zipcodes features"
   ]
  },
  {
   "cell_type": "markdown",
   "metadata": {},
   "source": [
    "Adds `zipcodes` category features"
   ]
  },
  {
   "cell_type": "code",
   "execution_count": 57,
   "metadata": {},
   "outputs": [
    {
     "name": "stdout",
     "output_type": "stream",
     "text": [
      "price ~ sqft_living + bedrooms + sqft_lot + floors + has_basement + renovated + house_age + grade_10verygood + grade_11excellent + grade_12luxury + grade_13mansion + grade_3poor + grade_4low + grade_5fair + grade_6lowaverage + grade_8good + grade_9better + waterfront_yes + view_average + view_excellent + view_fair + view_good + view_missing + dist_seattle + neighborhood_ballard + neighborhood_beaconhill + neighborhood_capitolhill + neighborhood_cascade + neighborhood_centralarea + neighborhood_delridge + neighborhood_downtown + neighborhood_greaterduwamish + neighborhood_interbay + neighborhood_lakecity + neighborhood_magnolia + neighborhood_northcentral + neighborhood_northeast + neighborhood_northgate + neighborhood_northwest + neighborhood_queenanne + neighborhood_rainiervalley + neighborhood_sewardpark + neighborhood_universitydistrict + neighborhood_westseattle + zip_98002 + zip_98003 + zip_98004 + zip_98005 + zip_98006 + zip_98007 + zip_98008 + zip_98010 + zip_98011 + zip_98014 + zip_98019 + zip_98022 + zip_98023 + zip_98024 + zip_98027 + zip_98028 + zip_98029 + zip_98030 + zip_98031 + zip_98032 + zip_98033 + zip_98034 + zip_98038 + zip_98039 + zip_98040 + zip_98042 + zip_98045 + zip_98052 + zip_98053 + zip_98055 + zip_98056 + zip_98058 + zip_98059 + zip_98065 + zip_98070 + zip_98072 + zip_98074 + zip_98075 + zip_98077 + zip_98092 + zip_98102 + zip_98103 + zip_98105 + zip_98106 + zip_98107 + zip_98108 + zip_98109 + zip_98112 + zip_98115 + zip_98116 + zip_98117 + zip_98118 + zip_98119 + zip_98122 + zip_98125 + zip_98126 + zip_98133 + zip_98136 + zip_98144 + zip_98146 + zip_98148 + zip_98155 + zip_98166 + zip_98168 + zip_98177 + zip_98178 + zip_98188 + zip_98198 + zip_98199\n"
     ]
    },
    {
     "data": {
      "text/html": [
       "<table class=\"simpletable\">\n",
       "<caption>OLS Regression Results</caption>\n",
       "<tr>\n",
       "  <th>Dep. Variable:</th>          <td>price</td>      <th>  R-squared:         </th>  <td>   0.836</td>  \n",
       "</tr>\n",
       "<tr>\n",
       "  <th>Model:</th>                   <td>OLS</td>       <th>  Adj. R-squared:    </th>  <td>   0.834</td>  \n",
       "</tr>\n",
       "<tr>\n",
       "  <th>Method:</th>             <td>Least Squares</td>  <th>  F-statistic:       </th>  <td>   646.1</td>  \n",
       "</tr>\n",
       "<tr>\n",
       "  <th>Date:</th>             <td>Fri, 01 Apr 2022</td> <th>  Prob (F-statistic):</th>   <td>  0.00</td>   \n",
       "</tr>\n",
       "<tr>\n",
       "  <th>Time:</th>                 <td>14:48:01</td>     <th>  Log-Likelihood:    </th> <td>-1.9279e+05</td>\n",
       "</tr>\n",
       "<tr>\n",
       "  <th>No. Observations:</th>      <td> 14469</td>      <th>  AIC:               </th>  <td>3.858e+05</td> \n",
       "</tr>\n",
       "<tr>\n",
       "  <th>Df Residuals:</th>          <td> 14355</td>      <th>  BIC:               </th>  <td>3.867e+05</td> \n",
       "</tr>\n",
       "<tr>\n",
       "  <th>Df Model:</th>              <td>   113</td>      <th>                     </th>      <td> </td>     \n",
       "</tr>\n",
       "<tr>\n",
       "  <th>Covariance Type:</th>      <td>nonrobust</td>    <th>                     </th>      <td> </td>     \n",
       "</tr>\n",
       "</table>\n",
       "<table class=\"simpletable\">\n",
       "<tr>\n",
       "                 <td></td>                    <th>coef</th>     <th>std err</th>      <th>t</th>      <th>P>|t|</th>  <th>[0.025</th>    <th>0.975]</th>  \n",
       "</tr>\n",
       "<tr>\n",
       "  <th>Intercept</th>                       <td> 1.687e+05</td> <td> 2.42e+04</td> <td>    6.974</td> <td> 0.000</td> <td> 1.21e+05</td> <td> 2.16e+05</td>\n",
       "</tr>\n",
       "<tr>\n",
       "  <th>sqft_living</th>                     <td>  170.6962</td> <td>    2.805</td> <td>   60.844</td> <td> 0.000</td> <td>  165.197</td> <td>  176.195</td>\n",
       "</tr>\n",
       "<tr>\n",
       "  <th>bedrooms</th>                        <td>-8643.9812</td> <td> 1727.211</td> <td>   -5.005</td> <td> 0.000</td> <td> -1.2e+04</td> <td>-5258.424</td>\n",
       "</tr>\n",
       "<tr>\n",
       "  <th>sqft_lot</th>                        <td>    0.2176</td> <td>    0.032</td> <td>    6.806</td> <td> 0.000</td> <td>    0.155</td> <td>    0.280</td>\n",
       "</tr>\n",
       "<tr>\n",
       "  <th>floors</th>                          <td>-1.748e+04</td> <td> 3381.881</td> <td>   -5.167</td> <td> 0.000</td> <td>-2.41e+04</td> <td>-1.08e+04</td>\n",
       "</tr>\n",
       "<tr>\n",
       "  <th>has_basement</th>                    <td>-3.239e+04</td> <td> 3202.024</td> <td>  -10.115</td> <td> 0.000</td> <td>-3.87e+04</td> <td>-2.61e+04</td>\n",
       "</tr>\n",
       "<tr>\n",
       "  <th>renovated</th>                       <td> 6.535e+04</td> <td> 1.41e+04</td> <td>    4.628</td> <td> 0.000</td> <td> 3.77e+04</td> <td>  9.3e+04</td>\n",
       "</tr>\n",
       "<tr>\n",
       "  <th>house_age</th>                       <td>  396.9622</td> <td>   65.511</td> <td>    6.059</td> <td> 0.000</td> <td>  268.552</td> <td>  525.372</td>\n",
       "</tr>\n",
       "<tr>\n",
       "  <th>grade_10verygood</th>                <td> 2.335e+05</td> <td> 7676.219</td> <td>   30.419</td> <td> 0.000</td> <td> 2.18e+05</td> <td> 2.49e+05</td>\n",
       "</tr>\n",
       "<tr>\n",
       "  <th>grade_11excellent</th>               <td> 4.171e+05</td> <td> 1.18e+04</td> <td>   35.238</td> <td> 0.000</td> <td> 3.94e+05</td> <td>  4.4e+05</td>\n",
       "</tr>\n",
       "<tr>\n",
       "  <th>grade_12luxury</th>                  <td> 8.012e+05</td> <td> 2.14e+04</td> <td>   37.474</td> <td> 0.000</td> <td> 7.59e+05</td> <td> 8.43e+05</td>\n",
       "</tr>\n",
       "<tr>\n",
       "  <th>grade_13mansion</th>                 <td> 1.768e+06</td> <td> 6.29e+04</td> <td>   28.125</td> <td> 0.000</td> <td> 1.65e+06</td> <td> 1.89e+06</td>\n",
       "</tr>\n",
       "<tr>\n",
       "  <th>grade_3poor</th>                     <td> 1.754e+05</td> <td> 1.49e+05</td> <td>    1.175</td> <td> 0.240</td> <td>-1.17e+05</td> <td> 4.68e+05</td>\n",
       "</tr>\n",
       "<tr>\n",
       "  <th>grade_4low</th>                      <td> 2.255e+04</td> <td> 3.37e+04</td> <td>    0.670</td> <td> 0.503</td> <td>-4.34e+04</td> <td> 8.85e+04</td>\n",
       "</tr>\n",
       "<tr>\n",
       "  <th>grade_5fair</th>                     <td>-1.287e+04</td> <td> 1.26e+04</td> <td>   -1.021</td> <td> 0.307</td> <td>-3.76e+04</td> <td> 1.18e+04</td>\n",
       "</tr>\n",
       "<tr>\n",
       "  <th>grade_6lowaverage</th>               <td>-1.077e+04</td> <td> 4943.918</td> <td>   -2.178</td> <td> 0.029</td> <td>-2.05e+04</td> <td>-1077.946</td>\n",
       "</tr>\n",
       "<tr>\n",
       "  <th>grade_8good</th>                     <td> 2.888e+04</td> <td> 3551.225</td> <td>    8.131</td> <td> 0.000</td> <td> 2.19e+04</td> <td> 3.58e+04</td>\n",
       "</tr>\n",
       "<tr>\n",
       "  <th>grade_9better</th>                   <td> 1.059e+05</td> <td> 5382.121</td> <td>   19.678</td> <td> 0.000</td> <td> 9.54e+04</td> <td> 1.16e+05</td>\n",
       "</tr>\n",
       "<tr>\n",
       "  <th>waterfront_yes</th>                  <td> 6.457e+05</td> <td> 1.85e+04</td> <td>   34.824</td> <td> 0.000</td> <td> 6.09e+05</td> <td> 6.82e+05</td>\n",
       "</tr>\n",
       "<tr>\n",
       "  <th>view_average</th>                    <td>  7.06e+04</td> <td> 6232.878</td> <td>   11.327</td> <td> 0.000</td> <td> 5.84e+04</td> <td> 8.28e+04</td>\n",
       "</tr>\n",
       "<tr>\n",
       "  <th>view_excellent</th>                  <td> 2.882e+05</td> <td> 1.26e+04</td> <td>   22.872</td> <td> 0.000</td> <td> 2.64e+05</td> <td> 3.13e+05</td>\n",
       "</tr>\n",
       "<tr>\n",
       "  <th>view_fair</th>                       <td>  7.56e+04</td> <td> 1.04e+04</td> <td>    7.241</td> <td> 0.000</td> <td> 5.51e+04</td> <td> 9.61e+04</td>\n",
       "</tr>\n",
       "<tr>\n",
       "  <th>view_good</th>                       <td> 1.466e+05</td> <td> 8417.558</td> <td>   17.416</td> <td> 0.000</td> <td>  1.3e+05</td> <td> 1.63e+05</td>\n",
       "</tr>\n",
       "<tr>\n",
       "  <th>view_missing</th>                    <td> 5.843e+04</td> <td> 2.23e+04</td> <td>    2.622</td> <td> 0.009</td> <td> 1.47e+04</td> <td> 1.02e+05</td>\n",
       "</tr>\n",
       "<tr>\n",
       "  <th>dist_seattle</th>                    <td>-8709.7813</td> <td>  953.394</td> <td>   -9.136</td> <td> 0.000</td> <td>-1.06e+04</td> <td>-6841.007</td>\n",
       "</tr>\n",
       "<tr>\n",
       "  <th>neighborhood_ballard</th>            <td>  6.63e+04</td> <td> 2.01e+04</td> <td>    3.297</td> <td> 0.001</td> <td> 2.69e+04</td> <td> 1.06e+05</td>\n",
       "</tr>\n",
       "<tr>\n",
       "  <th>neighborhood_beaconhill</th>         <td>-5.006e+04</td> <td> 2.77e+04</td> <td>   -1.807</td> <td> 0.071</td> <td>-1.04e+05</td> <td> 4240.306</td>\n",
       "</tr>\n",
       "<tr>\n",
       "  <th>neighborhood_capitolhill</th>        <td> 8052.6629</td> <td> 3.64e+04</td> <td>    0.221</td> <td> 0.825</td> <td>-6.33e+04</td> <td> 7.94e+04</td>\n",
       "</tr>\n",
       "<tr>\n",
       "  <th>neighborhood_cascade</th>            <td>-1.408e+04</td> <td> 5.12e+04</td> <td>   -0.275</td> <td> 0.783</td> <td>-1.14e+05</td> <td> 8.63e+04</td>\n",
       "</tr>\n",
       "<tr>\n",
       "  <th>neighborhood_centralarea</th>        <td>-2.304e+04</td> <td> 3.03e+04</td> <td>   -0.760</td> <td> 0.447</td> <td>-8.24e+04</td> <td> 3.64e+04</td>\n",
       "</tr>\n",
       "<tr>\n",
       "  <th>neighborhood_delridge</th>           <td> 1.767e+04</td> <td> 2.43e+04</td> <td>    0.729</td> <td> 0.466</td> <td>-2.99e+04</td> <td> 6.52e+04</td>\n",
       "</tr>\n",
       "<tr>\n",
       "  <th>neighborhood_downtown</th>           <td>-8.672e+04</td> <td> 1.52e+05</td> <td>   -0.570</td> <td> 0.569</td> <td>-3.85e+05</td> <td> 2.12e+05</td>\n",
       "</tr>\n",
       "<tr>\n",
       "  <th>neighborhood_greaterduwamish</th>    <td>-8.479e+04</td> <td> 4.12e+04</td> <td>   -2.056</td> <td> 0.040</td> <td>-1.66e+05</td> <td>-3972.534</td>\n",
       "</tr>\n",
       "<tr>\n",
       "  <th>neighborhood_interbay</th>           <td>  4.13e+04</td> <td>  1.9e+05</td> <td>    0.217</td> <td> 0.828</td> <td>-3.31e+05</td> <td> 4.14e+05</td>\n",
       "</tr>\n",
       "<tr>\n",
       "  <th>neighborhood_lakecity</th>           <td> 3.387e+04</td> <td> 2.36e+04</td> <td>    1.437</td> <td> 0.151</td> <td>-1.23e+04</td> <td> 8.01e+04</td>\n",
       "</tr>\n",
       "<tr>\n",
       "  <th>neighborhood_magnolia</th>           <td> 1.196e+05</td> <td> 1.75e+05</td> <td>    0.683</td> <td> 0.495</td> <td>-2.24e+05</td> <td> 4.63e+05</td>\n",
       "</tr>\n",
       "<tr>\n",
       "  <th>neighborhood_northcentral</th>       <td> 1.201e+05</td> <td> 1.81e+04</td> <td>    6.634</td> <td> 0.000</td> <td> 8.46e+04</td> <td> 1.56e+05</td>\n",
       "</tr>\n",
       "<tr>\n",
       "  <th>neighborhood_northeast</th>          <td> 1.303e+05</td> <td> 2.13e+04</td> <td>    6.119</td> <td> 0.000</td> <td> 8.86e+04</td> <td> 1.72e+05</td>\n",
       "</tr>\n",
       "<tr>\n",
       "  <th>neighborhood_northgate</th>          <td> 1.391e+04</td> <td> 1.62e+04</td> <td>    0.860</td> <td> 0.390</td> <td>-1.78e+04</td> <td> 4.56e+04</td>\n",
       "</tr>\n",
       "<tr>\n",
       "  <th>neighborhood_northwest</th>          <td> 2.289e+04</td> <td> 1.46e+04</td> <td>    1.566</td> <td> 0.117</td> <td>-5761.085</td> <td> 5.15e+04</td>\n",
       "</tr>\n",
       "<tr>\n",
       "  <th>neighborhood_queenanne</th>          <td>  1.58e+05</td> <td>  9.2e+04</td> <td>    1.718</td> <td> 0.086</td> <td>-2.22e+04</td> <td> 3.38e+05</td>\n",
       "</tr>\n",
       "<tr>\n",
       "  <th>neighborhood_rainiervalley</th>      <td>  2.54e+04</td> <td> 2.29e+04</td> <td>    1.109</td> <td> 0.267</td> <td>-1.95e+04</td> <td> 7.03e+04</td>\n",
       "</tr>\n",
       "<tr>\n",
       "  <th>neighborhood_sewardpark</th>         <td> 1.397e+05</td> <td> 2.99e+04</td> <td>    4.677</td> <td> 0.000</td> <td> 8.12e+04</td> <td> 1.98e+05</td>\n",
       "</tr>\n",
       "<tr>\n",
       "  <th>neighborhood_universitydistrict</th> <td> -3.42e+04</td> <td> 3.88e+04</td> <td>   -0.881</td> <td> 0.379</td> <td> -1.1e+05</td> <td> 4.19e+04</td>\n",
       "</tr>\n",
       "<tr>\n",
       "  <th>neighborhood_westseattle</th>        <td> 6.137e+04</td> <td> 2.17e+04</td> <td>    2.823</td> <td> 0.005</td> <td> 1.88e+04</td> <td> 1.04e+05</td>\n",
       "</tr>\n",
       "<tr>\n",
       "  <th>zip_98002</th>                       <td>  2.18e+04</td> <td> 1.61e+04</td> <td>    1.353</td> <td> 0.176</td> <td>-9789.242</td> <td> 5.34e+04</td>\n",
       "</tr>\n",
       "<tr>\n",
       "  <th>zip_98003</th>                       <td>-1.329e+04</td> <td> 1.47e+04</td> <td>   -0.904</td> <td> 0.366</td> <td>-4.21e+04</td> <td> 1.55e+04</td>\n",
       "</tr>\n",
       "<tr>\n",
       "  <th>zip_98004</th>                       <td> 6.334e+05</td> <td>    2e+04</td> <td>   31.648</td> <td> 0.000</td> <td> 5.94e+05</td> <td> 6.73e+05</td>\n",
       "</tr>\n",
       "<tr>\n",
       "  <th>zip_98005</th>                       <td> 2.102e+05</td> <td> 2.09e+04</td> <td>   10.045</td> <td> 0.000</td> <td> 1.69e+05</td> <td> 2.51e+05</td>\n",
       "</tr>\n",
       "<tr>\n",
       "  <th>zip_98006</th>                       <td> 1.718e+05</td> <td> 1.68e+04</td> <td>   10.250</td> <td> 0.000</td> <td> 1.39e+05</td> <td> 2.05e+05</td>\n",
       "</tr>\n",
       "<tr>\n",
       "  <th>zip_98007</th>                       <td>  1.53e+05</td> <td> 2.17e+04</td> <td>    7.066</td> <td> 0.000</td> <td> 1.11e+05</td> <td> 1.95e+05</td>\n",
       "</tr>\n",
       "<tr>\n",
       "  <th>zip_98008</th>                       <td> 1.819e+05</td> <td> 1.81e+04</td> <td>   10.027</td> <td> 0.000</td> <td> 1.46e+05</td> <td> 2.18e+05</td>\n",
       "</tr>\n",
       "<tr>\n",
       "  <th>zip_98010</th>                       <td> 9.599e+04</td> <td> 2.19e+04</td> <td>    4.374</td> <td> 0.000</td> <td>  5.3e+04</td> <td> 1.39e+05</td>\n",
       "</tr>\n",
       "<tr>\n",
       "  <th>zip_98011</th>                       <td> 5.833e+04</td> <td> 1.88e+04</td> <td>    3.108</td> <td> 0.002</td> <td> 2.15e+04</td> <td> 9.51e+04</td>\n",
       "</tr>\n",
       "<tr>\n",
       "  <th>zip_98014</th>                       <td> 1.131e+05</td> <td> 1.91e+04</td> <td>    5.912</td> <td> 0.000</td> <td> 7.56e+04</td> <td> 1.51e+05</td>\n",
       "</tr>\n",
       "<tr>\n",
       "  <th>zip_98019</th>                       <td> 8.508e+04</td> <td> 1.68e+04</td> <td>    5.062</td> <td> 0.000</td> <td> 5.21e+04</td> <td> 1.18e+05</td>\n",
       "</tr>\n",
       "<tr>\n",
       "  <th>zip_98022</th>                       <td> 1.016e+05</td> <td> 1.88e+04</td> <td>    5.396</td> <td> 0.000</td> <td> 6.47e+04</td> <td> 1.38e+05</td>\n",
       "</tr>\n",
       "<tr>\n",
       "  <th>zip_98023</th>                       <td> -2.24e+04</td> <td> 1.29e+04</td> <td>   -1.742</td> <td> 0.081</td> <td>-4.76e+04</td> <td> 2797.852</td>\n",
       "</tr>\n",
       "<tr>\n",
       "  <th>zip_98024</th>                       <td> 1.596e+05</td> <td> 2.17e+04</td> <td>    7.362</td> <td> 0.000</td> <td> 1.17e+05</td> <td> 2.02e+05</td>\n",
       "</tr>\n",
       "<tr>\n",
       "  <th>zip_98027</th>                       <td> 1.229e+05</td> <td> 1.45e+04</td> <td>    8.492</td> <td> 0.000</td> <td> 9.46e+04</td> <td> 1.51e+05</td>\n",
       "</tr>\n",
       "<tr>\n",
       "  <th>zip_98028</th>                       <td> 3.101e+04</td> <td>  1.8e+04</td> <td>    1.724</td> <td> 0.085</td> <td>-4245.644</td> <td> 6.63e+04</td>\n",
       "</tr>\n",
       "<tr>\n",
       "  <th>zip_98029</th>                       <td> 1.838e+05</td> <td>  1.5e+04</td> <td>   12.227</td> <td> 0.000</td> <td> 1.54e+05</td> <td> 2.13e+05</td>\n",
       "</tr>\n",
       "<tr>\n",
       "  <th>zip_98030</th>                       <td>-1.711e+04</td> <td>  1.5e+04</td> <td>   -1.144</td> <td> 0.253</td> <td>-4.64e+04</td> <td> 1.22e+04</td>\n",
       "</tr>\n",
       "<tr>\n",
       "  <th>zip_98031</th>                       <td>-2.136e+04</td> <td> 1.53e+04</td> <td>   -1.399</td> <td> 0.162</td> <td>-5.13e+04</td> <td> 8570.878</td>\n",
       "</tr>\n",
       "<tr>\n",
       "  <th>zip_98032</th>                       <td>-4.551e+04</td> <td>    2e+04</td> <td>   -2.276</td> <td> 0.023</td> <td>-8.47e+04</td> <td>-6317.630</td>\n",
       "</tr>\n",
       "<tr>\n",
       "  <th>zip_98033</th>                       <td> 2.521e+05</td> <td> 1.79e+04</td> <td>   14.099</td> <td> 0.000</td> <td> 2.17e+05</td> <td> 2.87e+05</td>\n",
       "</tr>\n",
       "<tr>\n",
       "  <th>zip_98034</th>                       <td> 1.053e+05</td> <td> 1.69e+04</td> <td>    6.244</td> <td> 0.000</td> <td> 7.22e+04</td> <td> 1.38e+05</td>\n",
       "</tr>\n",
       "<tr>\n",
       "  <th>zip_98038</th>                       <td> 4.745e+04</td> <td> 1.24e+04</td> <td>    3.817</td> <td> 0.000</td> <td> 2.31e+04</td> <td> 7.18e+04</td>\n",
       "</tr>\n",
       "<tr>\n",
       "  <th>zip_98039</th>                       <td> 1.203e+06</td> <td>  3.2e+04</td> <td>   37.598</td> <td> 0.000</td> <td> 1.14e+06</td> <td> 1.27e+06</td>\n",
       "</tr>\n",
       "<tr>\n",
       "  <th>zip_98040</th>                       <td> 4.079e+05</td> <td>    2e+04</td> <td>   20.415</td> <td> 0.000</td> <td> 3.69e+05</td> <td> 4.47e+05</td>\n",
       "</tr>\n",
       "<tr>\n",
       "  <th>zip_98042</th>                       <td> 6342.1540</td> <td> 1.27e+04</td> <td>    0.499</td> <td> 0.618</td> <td>-1.86e+04</td> <td> 3.13e+04</td>\n",
       "</tr>\n",
       "<tr>\n",
       "  <th>zip_98045</th>                       <td> 1.523e+05</td> <td> 1.73e+04</td> <td>    8.793</td> <td> 0.000</td> <td> 1.18e+05</td> <td> 1.86e+05</td>\n",
       "</tr>\n",
       "<tr>\n",
       "  <th>zip_98052</th>                       <td> 1.636e+05</td> <td> 1.54e+04</td> <td>   10.599</td> <td> 0.000</td> <td> 1.33e+05</td> <td> 1.94e+05</td>\n",
       "</tr>\n",
       "<tr>\n",
       "  <th>zip_98053</th>                       <td> 1.607e+05</td> <td> 1.45e+04</td> <td>   11.115</td> <td> 0.000</td> <td> 1.32e+05</td> <td> 1.89e+05</td>\n",
       "</tr>\n",
       "<tr>\n",
       "  <th>zip_98055</th>                       <td>-2.609e+04</td> <td> 1.67e+04</td> <td>   -1.562</td> <td> 0.118</td> <td>-5.88e+04</td> <td> 6654.083</td>\n",
       "</tr>\n",
       "<tr>\n",
       "  <th>zip_98056</th>                       <td> 9858.9585</td> <td> 1.68e+04</td> <td>    0.586</td> <td> 0.558</td> <td>-2.31e+04</td> <td> 4.28e+04</td>\n",
       "</tr>\n",
       "<tr>\n",
       "  <th>zip_98058</th>                       <td>-1.894e+04</td> <td> 1.44e+04</td> <td>   -1.319</td> <td> 0.187</td> <td>-4.71e+04</td> <td> 9201.971</td>\n",
       "</tr>\n",
       "<tr>\n",
       "  <th>zip_98059</th>                       <td> 2.063e+04</td> <td> 1.52e+04</td> <td>    1.360</td> <td> 0.174</td> <td>-9092.329</td> <td> 5.03e+04</td>\n",
       "</tr>\n",
       "<tr>\n",
       "  <th>zip_98065</th>                       <td> 1.119e+05</td> <td> 1.46e+04</td> <td>    7.663</td> <td> 0.000</td> <td> 8.32e+04</td> <td>  1.4e+05</td>\n",
       "</tr>\n",
       "<tr>\n",
       "  <th>zip_98070</th>                       <td>-4.475e+04</td> <td>  2.1e+04</td> <td>   -2.134</td> <td> 0.033</td> <td>-8.58e+04</td> <td>-3642.807</td>\n",
       "</tr>\n",
       "<tr>\n",
       "  <th>zip_98072</th>                       <td> 1.032e+05</td> <td> 1.65e+04</td> <td>    6.239</td> <td> 0.000</td> <td> 7.08e+04</td> <td> 1.36e+05</td>\n",
       "</tr>\n",
       "<tr>\n",
       "  <th>zip_98074</th>                       <td> 1.091e+05</td> <td> 1.49e+04</td> <td>    7.342</td> <td> 0.000</td> <td>    8e+04</td> <td> 1.38e+05</td>\n",
       "</tr>\n",
       "<tr>\n",
       "  <th>zip_98075</th>                       <td> 1.293e+05</td> <td> 1.51e+04</td> <td>    8.554</td> <td> 0.000</td> <td> 9.96e+04</td> <td> 1.59e+05</td>\n",
       "</tr>\n",
       "<tr>\n",
       "  <th>zip_98077</th>                       <td> 7.396e+04</td> <td> 1.71e+04</td> <td>    4.328</td> <td> 0.000</td> <td> 4.05e+04</td> <td> 1.07e+05</td>\n",
       "</tr>\n",
       "<tr>\n",
       "  <th>zip_98092</th>                       <td> -1.12e+04</td> <td> 1.37e+04</td> <td>   -0.817</td> <td> 0.414</td> <td>-3.81e+04</td> <td> 1.57e+04</td>\n",
       "</tr>\n",
       "<tr>\n",
       "  <th>zip_98102</th>                       <td>  2.79e+05</td> <td> 4.57e+04</td> <td>    6.103</td> <td> 0.000</td> <td> 1.89e+05</td> <td> 3.69e+05</td>\n",
       "</tr>\n",
       "<tr>\n",
       "  <th>zip_98103</th>                       <td> 1.062e+05</td> <td> 2.34e+04</td> <td>    4.534</td> <td> 0.000</td> <td> 6.03e+04</td> <td> 1.52e+05</td>\n",
       "</tr>\n",
       "<tr>\n",
       "  <th>zip_98105</th>                       <td> 2.288e+05</td> <td> 2.83e+04</td> <td>    8.098</td> <td> 0.000</td> <td> 1.73e+05</td> <td> 2.84e+05</td>\n",
       "</tr>\n",
       "<tr>\n",
       "  <th>zip_98106</th>                       <td>-2.981e+04</td> <td> 3.04e+04</td> <td>   -0.981</td> <td> 0.326</td> <td>-8.94e+04</td> <td> 2.97e+04</td>\n",
       "</tr>\n",
       "<tr>\n",
       "  <th>zip_98107</th>                       <td> 1.244e+05</td> <td> 2.71e+04</td> <td>    4.588</td> <td> 0.000</td> <td> 7.13e+04</td> <td> 1.78e+05</td>\n",
       "</tr>\n",
       "<tr>\n",
       "  <th>zip_98108</th>                       <td> 2.375e+04</td> <td>  3.5e+04</td> <td>    0.678</td> <td> 0.498</td> <td>-4.49e+04</td> <td> 9.24e+04</td>\n",
       "</tr>\n",
       "<tr>\n",
       "  <th>zip_98109</th>                       <td> 2.001e+05</td> <td> 9.26e+04</td> <td>    2.161</td> <td> 0.031</td> <td> 1.86e+04</td> <td> 3.82e+05</td>\n",
       "</tr>\n",
       "<tr>\n",
       "  <th>zip_98112</th>                       <td> 4.829e+05</td> <td> 4.04e+04</td> <td>   11.962</td> <td> 0.000</td> <td> 4.04e+05</td> <td> 5.62e+05</td>\n",
       "</tr>\n",
       "<tr>\n",
       "  <th>zip_98115</th>                       <td> 1.006e+05</td> <td> 2.56e+04</td> <td>    3.933</td> <td> 0.000</td> <td> 5.05e+04</td> <td> 1.51e+05</td>\n",
       "</tr>\n",
       "<tr>\n",
       "  <th>zip_98116</th>                       <td> 8.162e+04</td> <td> 3.06e+04</td> <td>    2.669</td> <td> 0.008</td> <td> 2.17e+04</td> <td> 1.42e+05</td>\n",
       "</tr>\n",
       "<tr>\n",
       "  <th>zip_98117</th>                       <td> 1.212e+05</td> <td> 2.39e+04</td> <td>    5.066</td> <td> 0.000</td> <td> 7.43e+04</td> <td> 1.68e+05</td>\n",
       "</tr>\n",
       "<tr>\n",
       "  <th>zip_98118</th>                       <td>-1.255e+04</td> <td> 2.98e+04</td> <td>   -0.422</td> <td> 0.673</td> <td>-7.09e+04</td> <td> 4.58e+04</td>\n",
       "</tr>\n",
       "<tr>\n",
       "  <th>zip_98119</th>                       <td>  1.74e+05</td> <td>  9.5e+04</td> <td>    1.831</td> <td> 0.067</td> <td>-1.23e+04</td> <td>  3.6e+05</td>\n",
       "</tr>\n",
       "<tr>\n",
       "  <th>zip_98122</th>                       <td> 2.116e+05</td> <td> 3.76e+04</td> <td>    5.626</td> <td> 0.000</td> <td> 1.38e+05</td> <td> 2.85e+05</td>\n",
       "</tr>\n",
       "<tr>\n",
       "  <th>zip_98125</th>                       <td> 4.551e+04</td> <td> 2.69e+04</td> <td>    1.693</td> <td> 0.090</td> <td>-7180.178</td> <td> 9.82e+04</td>\n",
       "</tr>\n",
       "<tr>\n",
       "  <th>zip_98126</th>                       <td> 1.261e+04</td> <td> 2.91e+04</td> <td>    0.433</td> <td> 0.665</td> <td>-4.45e+04</td> <td> 6.97e+04</td>\n",
       "</tr>\n",
       "<tr>\n",
       "  <th>zip_98133</th>                       <td> 3.823e+04</td> <td> 1.86e+04</td> <td>    2.059</td> <td> 0.039</td> <td> 1838.496</td> <td> 7.46e+04</td>\n",
       "</tr>\n",
       "<tr>\n",
       "  <th>zip_98136</th>                       <td> 5.598e+04</td> <td> 2.98e+04</td> <td>    1.879</td> <td> 0.060</td> <td>-2410.243</td> <td> 1.14e+05</td>\n",
       "</tr>\n",
       "<tr>\n",
       "  <th>zip_98144</th>                       <td> 1.412e+05</td> <td> 3.31e+04</td> <td>    4.270</td> <td> 0.000</td> <td> 7.64e+04</td> <td> 2.06e+05</td>\n",
       "</tr>\n",
       "<tr>\n",
       "  <th>zip_98146</th>                       <td>-4.026e+04</td> <td> 2.02e+04</td> <td>   -1.996</td> <td> 0.046</td> <td>-7.98e+04</td> <td> -714.346</td>\n",
       "</tr>\n",
       "<tr>\n",
       "  <th>zip_98148</th>                       <td>-1894.5047</td> <td> 2.74e+04</td> <td>   -0.069</td> <td> 0.945</td> <td>-5.57e+04</td> <td> 5.19e+04</td>\n",
       "</tr>\n",
       "<tr>\n",
       "  <th>zip_98155</th>                       <td> 4.256e+04</td> <td> 1.73e+04</td> <td>    2.464</td> <td> 0.014</td> <td> 8705.248</td> <td> 7.64e+04</td>\n",
       "</tr>\n",
       "<tr>\n",
       "  <th>zip_98166</th>                       <td> -1.81e+04</td> <td>  1.8e+04</td> <td>   -1.005</td> <td> 0.315</td> <td>-5.34e+04</td> <td> 1.72e+04</td>\n",
       "</tr>\n",
       "<tr>\n",
       "  <th>zip_98168</th>                       <td>-7.021e+04</td> <td> 1.92e+04</td> <td>   -3.665</td> <td> 0.000</td> <td>-1.08e+05</td> <td>-3.27e+04</td>\n",
       "</tr>\n",
       "<tr>\n",
       "  <th>zip_98177</th>                       <td> 9.677e+04</td> <td> 2.02e+04</td> <td>    4.790</td> <td> 0.000</td> <td> 5.72e+04</td> <td> 1.36e+05</td>\n",
       "</tr>\n",
       "<tr>\n",
       "  <th>zip_98178</th>                       <td>-8.354e+04</td> <td> 2.01e+04</td> <td>   -4.161</td> <td> 0.000</td> <td>-1.23e+05</td> <td>-4.42e+04</td>\n",
       "</tr>\n",
       "<tr>\n",
       "  <th>zip_98188</th>                       <td>-4.715e+04</td> <td> 2.12e+04</td> <td>   -2.226</td> <td> 0.026</td> <td>-8.87e+04</td> <td>-5625.514</td>\n",
       "</tr>\n",
       "<tr>\n",
       "  <th>zip_98198</th>                       <td> -4.93e+04</td> <td> 1.58e+04</td> <td>   -3.129</td> <td> 0.002</td> <td>-8.02e+04</td> <td>-1.84e+04</td>\n",
       "</tr>\n",
       "<tr>\n",
       "  <th>zip_98199</th>                       <td> 1.145e+05</td> <td> 1.76e+05</td> <td>    0.651</td> <td> 0.515</td> <td> -2.3e+05</td> <td> 4.59e+05</td>\n",
       "</tr>\n",
       "</table>\n",
       "<table class=\"simpletable\">\n",
       "<tr>\n",
       "  <th>Omnibus:</th>       <td>10724.234</td> <th>  Durbin-Watson:     </th>  <td>   2.007</td>  \n",
       "</tr>\n",
       "<tr>\n",
       "  <th>Prob(Omnibus):</th>  <td> 0.000</td>   <th>  Jarque-Bera (JB):  </th> <td>1212972.393</td>\n",
       "</tr>\n",
       "<tr>\n",
       "  <th>Skew:</th>           <td> 2.788</td>   <th>  Prob(JB):          </th>  <td>    0.00</td>  \n",
       "</tr>\n",
       "<tr>\n",
       "  <th>Kurtosis:</th>       <td>47.507</td>   <th>  Cond. No.          </th>  <td>1.17e+07</td>  \n",
       "</tr>\n",
       "</table><br/><br/>Notes:<br/>[1] Standard Errors assume that the covariance matrix of the errors is correctly specified.<br/>[2] The condition number is large, 1.17e+07. This might indicate that there are<br/>strong multicollinearity or other numerical problems."
      ],
      "text/plain": [
       "<class 'statsmodels.iolib.summary.Summary'>\n",
       "\"\"\"\n",
       "                            OLS Regression Results                            \n",
       "==============================================================================\n",
       "Dep. Variable:                  price   R-squared:                       0.836\n",
       "Model:                            OLS   Adj. R-squared:                  0.834\n",
       "Method:                 Least Squares   F-statistic:                     646.1\n",
       "Date:                Fri, 01 Apr 2022   Prob (F-statistic):               0.00\n",
       "Time:                        14:48:01   Log-Likelihood:            -1.9279e+05\n",
       "No. Observations:               14469   AIC:                         3.858e+05\n",
       "Df Residuals:                   14355   BIC:                         3.867e+05\n",
       "Df Model:                         113                                         \n",
       "Covariance Type:            nonrobust                                         \n",
       "===================================================================================================\n",
       "                                      coef    std err          t      P>|t|      [0.025      0.975]\n",
       "---------------------------------------------------------------------------------------------------\n",
       "Intercept                        1.687e+05   2.42e+04      6.974      0.000    1.21e+05    2.16e+05\n",
       "sqft_living                       170.6962      2.805     60.844      0.000     165.197     176.195\n",
       "bedrooms                        -8643.9812   1727.211     -5.005      0.000    -1.2e+04   -5258.424\n",
       "sqft_lot                            0.2176      0.032      6.806      0.000       0.155       0.280\n",
       "floors                          -1.748e+04   3381.881     -5.167      0.000   -2.41e+04   -1.08e+04\n",
       "has_basement                    -3.239e+04   3202.024    -10.115      0.000   -3.87e+04   -2.61e+04\n",
       "renovated                        6.535e+04   1.41e+04      4.628      0.000    3.77e+04     9.3e+04\n",
       "house_age                         396.9622     65.511      6.059      0.000     268.552     525.372\n",
       "grade_10verygood                 2.335e+05   7676.219     30.419      0.000    2.18e+05    2.49e+05\n",
       "grade_11excellent                4.171e+05   1.18e+04     35.238      0.000    3.94e+05     4.4e+05\n",
       "grade_12luxury                   8.012e+05   2.14e+04     37.474      0.000    7.59e+05    8.43e+05\n",
       "grade_13mansion                  1.768e+06   6.29e+04     28.125      0.000    1.65e+06    1.89e+06\n",
       "grade_3poor                      1.754e+05   1.49e+05      1.175      0.240   -1.17e+05    4.68e+05\n",
       "grade_4low                       2.255e+04   3.37e+04      0.670      0.503   -4.34e+04    8.85e+04\n",
       "grade_5fair                     -1.287e+04   1.26e+04     -1.021      0.307   -3.76e+04    1.18e+04\n",
       "grade_6lowaverage               -1.077e+04   4943.918     -2.178      0.029   -2.05e+04   -1077.946\n",
       "grade_8good                      2.888e+04   3551.225      8.131      0.000    2.19e+04    3.58e+04\n",
       "grade_9better                    1.059e+05   5382.121     19.678      0.000    9.54e+04    1.16e+05\n",
       "waterfront_yes                   6.457e+05   1.85e+04     34.824      0.000    6.09e+05    6.82e+05\n",
       "view_average                      7.06e+04   6232.878     11.327      0.000    5.84e+04    8.28e+04\n",
       "view_excellent                   2.882e+05   1.26e+04     22.872      0.000    2.64e+05    3.13e+05\n",
       "view_fair                         7.56e+04   1.04e+04      7.241      0.000    5.51e+04    9.61e+04\n",
       "view_good                        1.466e+05   8417.558     17.416      0.000     1.3e+05    1.63e+05\n",
       "view_missing                     5.843e+04   2.23e+04      2.622      0.009    1.47e+04    1.02e+05\n",
       "dist_seattle                    -8709.7813    953.394     -9.136      0.000   -1.06e+04   -6841.007\n",
       "neighborhood_ballard              6.63e+04   2.01e+04      3.297      0.001    2.69e+04    1.06e+05\n",
       "neighborhood_beaconhill         -5.006e+04   2.77e+04     -1.807      0.071   -1.04e+05    4240.306\n",
       "neighborhood_capitolhill         8052.6629   3.64e+04      0.221      0.825   -6.33e+04    7.94e+04\n",
       "neighborhood_cascade            -1.408e+04   5.12e+04     -0.275      0.783   -1.14e+05    8.63e+04\n",
       "neighborhood_centralarea        -2.304e+04   3.03e+04     -0.760      0.447   -8.24e+04    3.64e+04\n",
       "neighborhood_delridge            1.767e+04   2.43e+04      0.729      0.466   -2.99e+04    6.52e+04\n",
       "neighborhood_downtown           -8.672e+04   1.52e+05     -0.570      0.569   -3.85e+05    2.12e+05\n",
       "neighborhood_greaterduwamish    -8.479e+04   4.12e+04     -2.056      0.040   -1.66e+05   -3972.534\n",
       "neighborhood_interbay             4.13e+04    1.9e+05      0.217      0.828   -3.31e+05    4.14e+05\n",
       "neighborhood_lakecity            3.387e+04   2.36e+04      1.437      0.151   -1.23e+04    8.01e+04\n",
       "neighborhood_magnolia            1.196e+05   1.75e+05      0.683      0.495   -2.24e+05    4.63e+05\n",
       "neighborhood_northcentral        1.201e+05   1.81e+04      6.634      0.000    8.46e+04    1.56e+05\n",
       "neighborhood_northeast           1.303e+05   2.13e+04      6.119      0.000    8.86e+04    1.72e+05\n",
       "neighborhood_northgate           1.391e+04   1.62e+04      0.860      0.390   -1.78e+04    4.56e+04\n",
       "neighborhood_northwest           2.289e+04   1.46e+04      1.566      0.117   -5761.085    5.15e+04\n",
       "neighborhood_queenanne            1.58e+05    9.2e+04      1.718      0.086   -2.22e+04    3.38e+05\n",
       "neighborhood_rainiervalley        2.54e+04   2.29e+04      1.109      0.267   -1.95e+04    7.03e+04\n",
       "neighborhood_sewardpark          1.397e+05   2.99e+04      4.677      0.000    8.12e+04    1.98e+05\n",
       "neighborhood_universitydistrict  -3.42e+04   3.88e+04     -0.881      0.379    -1.1e+05    4.19e+04\n",
       "neighborhood_westseattle         6.137e+04   2.17e+04      2.823      0.005    1.88e+04    1.04e+05\n",
       "zip_98002                         2.18e+04   1.61e+04      1.353      0.176   -9789.242    5.34e+04\n",
       "zip_98003                       -1.329e+04   1.47e+04     -0.904      0.366   -4.21e+04    1.55e+04\n",
       "zip_98004                        6.334e+05      2e+04     31.648      0.000    5.94e+05    6.73e+05\n",
       "zip_98005                        2.102e+05   2.09e+04     10.045      0.000    1.69e+05    2.51e+05\n",
       "zip_98006                        1.718e+05   1.68e+04     10.250      0.000    1.39e+05    2.05e+05\n",
       "zip_98007                         1.53e+05   2.17e+04      7.066      0.000    1.11e+05    1.95e+05\n",
       "zip_98008                        1.819e+05   1.81e+04     10.027      0.000    1.46e+05    2.18e+05\n",
       "zip_98010                        9.599e+04   2.19e+04      4.374      0.000     5.3e+04    1.39e+05\n",
       "zip_98011                        5.833e+04   1.88e+04      3.108      0.002    2.15e+04    9.51e+04\n",
       "zip_98014                        1.131e+05   1.91e+04      5.912      0.000    7.56e+04    1.51e+05\n",
       "zip_98019                        8.508e+04   1.68e+04      5.062      0.000    5.21e+04    1.18e+05\n",
       "zip_98022                        1.016e+05   1.88e+04      5.396      0.000    6.47e+04    1.38e+05\n",
       "zip_98023                        -2.24e+04   1.29e+04     -1.742      0.081   -4.76e+04    2797.852\n",
       "zip_98024                        1.596e+05   2.17e+04      7.362      0.000    1.17e+05    2.02e+05\n",
       "zip_98027                        1.229e+05   1.45e+04      8.492      0.000    9.46e+04    1.51e+05\n",
       "zip_98028                        3.101e+04    1.8e+04      1.724      0.085   -4245.644    6.63e+04\n",
       "zip_98029                        1.838e+05    1.5e+04     12.227      0.000    1.54e+05    2.13e+05\n",
       "zip_98030                       -1.711e+04    1.5e+04     -1.144      0.253   -4.64e+04    1.22e+04\n",
       "zip_98031                       -2.136e+04   1.53e+04     -1.399      0.162   -5.13e+04    8570.878\n",
       "zip_98032                       -4.551e+04      2e+04     -2.276      0.023   -8.47e+04   -6317.630\n",
       "zip_98033                        2.521e+05   1.79e+04     14.099      0.000    2.17e+05    2.87e+05\n",
       "zip_98034                        1.053e+05   1.69e+04      6.244      0.000    7.22e+04    1.38e+05\n",
       "zip_98038                        4.745e+04   1.24e+04      3.817      0.000    2.31e+04    7.18e+04\n",
       "zip_98039                        1.203e+06    3.2e+04     37.598      0.000    1.14e+06    1.27e+06\n",
       "zip_98040                        4.079e+05      2e+04     20.415      0.000    3.69e+05    4.47e+05\n",
       "zip_98042                        6342.1540   1.27e+04      0.499      0.618   -1.86e+04    3.13e+04\n",
       "zip_98045                        1.523e+05   1.73e+04      8.793      0.000    1.18e+05    1.86e+05\n",
       "zip_98052                        1.636e+05   1.54e+04     10.599      0.000    1.33e+05    1.94e+05\n",
       "zip_98053                        1.607e+05   1.45e+04     11.115      0.000    1.32e+05    1.89e+05\n",
       "zip_98055                       -2.609e+04   1.67e+04     -1.562      0.118   -5.88e+04    6654.083\n",
       "zip_98056                        9858.9585   1.68e+04      0.586      0.558   -2.31e+04    4.28e+04\n",
       "zip_98058                       -1.894e+04   1.44e+04     -1.319      0.187   -4.71e+04    9201.971\n",
       "zip_98059                        2.063e+04   1.52e+04      1.360      0.174   -9092.329    5.03e+04\n",
       "zip_98065                        1.119e+05   1.46e+04      7.663      0.000    8.32e+04     1.4e+05\n",
       "zip_98070                       -4.475e+04    2.1e+04     -2.134      0.033   -8.58e+04   -3642.807\n",
       "zip_98072                        1.032e+05   1.65e+04      6.239      0.000    7.08e+04    1.36e+05\n",
       "zip_98074                        1.091e+05   1.49e+04      7.342      0.000       8e+04    1.38e+05\n",
       "zip_98075                        1.293e+05   1.51e+04      8.554      0.000    9.96e+04    1.59e+05\n",
       "zip_98077                        7.396e+04   1.71e+04      4.328      0.000    4.05e+04    1.07e+05\n",
       "zip_98092                        -1.12e+04   1.37e+04     -0.817      0.414   -3.81e+04    1.57e+04\n",
       "zip_98102                         2.79e+05   4.57e+04      6.103      0.000    1.89e+05    3.69e+05\n",
       "zip_98103                        1.062e+05   2.34e+04      4.534      0.000    6.03e+04    1.52e+05\n",
       "zip_98105                        2.288e+05   2.83e+04      8.098      0.000    1.73e+05    2.84e+05\n",
       "zip_98106                       -2.981e+04   3.04e+04     -0.981      0.326   -8.94e+04    2.97e+04\n",
       "zip_98107                        1.244e+05   2.71e+04      4.588      0.000    7.13e+04    1.78e+05\n",
       "zip_98108                        2.375e+04    3.5e+04      0.678      0.498   -4.49e+04    9.24e+04\n",
       "zip_98109                        2.001e+05   9.26e+04      2.161      0.031    1.86e+04    3.82e+05\n",
       "zip_98112                        4.829e+05   4.04e+04     11.962      0.000    4.04e+05    5.62e+05\n",
       "zip_98115                        1.006e+05   2.56e+04      3.933      0.000    5.05e+04    1.51e+05\n",
       "zip_98116                        8.162e+04   3.06e+04      2.669      0.008    2.17e+04    1.42e+05\n",
       "zip_98117                        1.212e+05   2.39e+04      5.066      0.000    7.43e+04    1.68e+05\n",
       "zip_98118                       -1.255e+04   2.98e+04     -0.422      0.673   -7.09e+04    4.58e+04\n",
       "zip_98119                         1.74e+05    9.5e+04      1.831      0.067   -1.23e+04     3.6e+05\n",
       "zip_98122                        2.116e+05   3.76e+04      5.626      0.000    1.38e+05    2.85e+05\n",
       "zip_98125                        4.551e+04   2.69e+04      1.693      0.090   -7180.178    9.82e+04\n",
       "zip_98126                        1.261e+04   2.91e+04      0.433      0.665   -4.45e+04    6.97e+04\n",
       "zip_98133                        3.823e+04   1.86e+04      2.059      0.039    1838.496    7.46e+04\n",
       "zip_98136                        5.598e+04   2.98e+04      1.879      0.060   -2410.243    1.14e+05\n",
       "zip_98144                        1.412e+05   3.31e+04      4.270      0.000    7.64e+04    2.06e+05\n",
       "zip_98146                       -4.026e+04   2.02e+04     -1.996      0.046   -7.98e+04    -714.346\n",
       "zip_98148                       -1894.5047   2.74e+04     -0.069      0.945   -5.57e+04    5.19e+04\n",
       "zip_98155                        4.256e+04   1.73e+04      2.464      0.014    8705.248    7.64e+04\n",
       "zip_98166                        -1.81e+04    1.8e+04     -1.005      0.315   -5.34e+04    1.72e+04\n",
       "zip_98168                       -7.021e+04   1.92e+04     -3.665      0.000   -1.08e+05   -3.27e+04\n",
       "zip_98177                        9.677e+04   2.02e+04      4.790      0.000    5.72e+04    1.36e+05\n",
       "zip_98178                       -8.354e+04   2.01e+04     -4.161      0.000   -1.23e+05   -4.42e+04\n",
       "zip_98188                       -4.715e+04   2.12e+04     -2.226      0.026   -8.87e+04   -5625.514\n",
       "zip_98198                        -4.93e+04   1.58e+04     -3.129      0.002   -8.02e+04   -1.84e+04\n",
       "zip_98199                        1.145e+05   1.76e+05      0.651      0.515    -2.3e+05    4.59e+05\n",
       "==============================================================================\n",
       "Omnibus:                    10724.234   Durbin-Watson:                   2.007\n",
       "Prob(Omnibus):                  0.000   Jarque-Bera (JB):          1212972.393\n",
       "Skew:                           2.788   Prob(JB):                         0.00\n",
       "Kurtosis:                      47.507   Cond. No.                     1.17e+07\n",
       "==============================================================================\n",
       "\n",
       "Notes:\n",
       "[1] Standard Errors assume that the covariance matrix of the errors is correctly specified.\n",
       "[2] The condition number is large, 1.17e+07. This might indicate that there are\n",
       "strong multicollinearity or other numerical problems.\n",
       "\"\"\""
      ]
     },
     "execution_count": 57,
     "metadata": {},
     "output_type": "execute_result"
    }
   ],
   "source": [
    "model_4_summary, model_4_formula = build_ols_model(model_4_cols, train_df)\n",
    "model_4_summary"
   ]
  },
  {
   "cell_type": "code",
   "execution_count": 58,
   "metadata": {
    "scrolled": true
   },
   "outputs": [
    {
     "data": {
      "text/html": [
       "<div>\n",
       "<style scoped>\n",
       "    .dataframe tbody tr th:only-of-type {\n",
       "        vertical-align: middle;\n",
       "    }\n",
       "\n",
       "    .dataframe tbody tr th {\n",
       "        vertical-align: top;\n",
       "    }\n",
       "\n",
       "    .dataframe thead th {\n",
       "        text-align: right;\n",
       "    }\n",
       "</style>\n",
       "<table border=\"1\" class=\"dataframe\">\n",
       "  <thead>\n",
       "    <tr style=\"text-align: right;\">\n",
       "      <th></th>\n",
       "      <th>feature</th>\n",
       "      <th>VIF</th>\n",
       "    </tr>\n",
       "  </thead>\n",
       "  <tbody>\n",
       "    <tr>\n",
       "      <th>0</th>\n",
       "      <td>Intercept</td>\n",
       "      <td>382.918679</td>\n",
       "    </tr>\n",
       "    <tr>\n",
       "      <th>1</th>\n",
       "      <td>sqft_living</td>\n",
       "      <td>4.333656</td>\n",
       "    </tr>\n",
       "    <tr>\n",
       "      <th>2</th>\n",
       "      <td>bedrooms</td>\n",
       "      <td>1.702675</td>\n",
       "    </tr>\n",
       "    <tr>\n",
       "      <th>3</th>\n",
       "      <td>sqft_lot</td>\n",
       "      <td>1.212872</td>\n",
       "    </tr>\n",
       "    <tr>\n",
       "      <th>4</th>\n",
       "      <td>floors</td>\n",
       "      <td>2.195130</td>\n",
       "    </tr>\n",
       "    <tr>\n",
       "      <th>...</th>\n",
       "      <td>...</td>\n",
       "      <td>...</td>\n",
       "    </tr>\n",
       "    <tr>\n",
       "      <th>109</th>\n",
       "      <td>zip_98177</td>\n",
       "      <td>3.012036</td>\n",
       "    </tr>\n",
       "    <tr>\n",
       "      <th>110</th>\n",
       "      <td>zip_98178</td>\n",
       "      <td>3.169854</td>\n",
       "    </tr>\n",
       "    <tr>\n",
       "      <th>111</th>\n",
       "      <td>zip_98188</td>\n",
       "      <td>1.635342</td>\n",
       "    </tr>\n",
       "    <tr>\n",
       "      <th>112</th>\n",
       "      <td>zip_98198</td>\n",
       "      <td>2.007110</td>\n",
       "    </tr>\n",
       "    <tr>\n",
       "      <th>113</th>\n",
       "      <td>zip_98199</td>\n",
       "      <td>276.098091</td>\n",
       "    </tr>\n",
       "  </tbody>\n",
       "</table>\n",
       "<p>114 rows × 2 columns</p>\n",
       "</div>"
      ],
      "text/plain": [
       "         feature         VIF\n",
       "0      Intercept  382.918679\n",
       "1    sqft_living    4.333656\n",
       "2       bedrooms    1.702675\n",
       "3       sqft_lot    1.212872\n",
       "4         floors    2.195130\n",
       "..           ...         ...\n",
       "109    zip_98177    3.012036\n",
       "110    zip_98178    3.169854\n",
       "111    zip_98188    1.635342\n",
       "112    zip_98198    2.007110\n",
       "113    zip_98199  276.098091\n",
       "\n",
       "[114 rows x 2 columns]"
      ]
     },
     "metadata": {},
     "output_type": "display_data"
    }
   ],
   "source": [
    "display(make_vif(model_4_formula, train_df) )"
   ]
  },
  {
   "cell_type": "markdown",
   "metadata": {},
   "source": [
    "Unfortunately, there is substantial collinearity between many zip codes and the neighborhood and dist_seattle information that was in the previous version of the model.\n",
    "\n",
    "For this reason, we will need to remove those collinear zip codes before the zip code information can be utilized.\n",
    "\n",
    "And ultimately, Model 3 is officially our best model."
   ]
  },
  {
   "cell_type": "markdown",
   "metadata": {},
   "source": [
    "## Data Visualization"
   ]
  },
  {
   "cell_type": "markdown",
   "metadata": {},
   "source": [
    "### Compare predictions from Simple Model to predictions from Best Model (Model 3)"
   ]
  },
  {
   "cell_type": "code",
   "execution_count": 67,
   "metadata": {
    "scrolled": false
   },
   "outputs": [
    {
     "data": {
      "image/png": "[encoded data removed]",
      "text/plain": [
       "<Figure size 720x1080 with 2 Axes>"
      ]
     },
     "metadata": {},
     "output_type": "display_data"
    }
   ],
   "source": [
    "#Plot average prediction error\n",
    "fig, ax = plt.subplots (2,1,figsize = (10,15))\n",
    "\n",
    "sns.set_theme(style = 'white')\n",
    "\n",
    "ax1 = sns.scatterplot(x=np.exp(y_test), y=np.exp(simple_yhat_test), ax = ax[0], color = 'salmon', alpha = 0.3)\n",
    "sns.lineplot(x=np.exp(y_test), y=np.exp(y_test), ax = ax[0])\n",
    "\n",
    "ax2 = sns.scatterplot(x=np.exp(y_test), y=np.exp(m4_yhat_test), ax = ax[1], color = 'salmon', alpha = 0.3)\n",
    "sns.lineplot(x=np.exp(y_test), y=np.exp(y_test), ax = ax[1])\n",
    "\n",
    "x_label = 'Predicted Price (MM)'\n",
    "y_label = 'Actual Price (MM)'\n",
    "tick_labels = ['{:,.1f}'.format(x) + 'MM' for x in ax1.get_xticks()/1000000]\n",
    "ax1.set_xticklabels(tick_labels)\n",
    "ax2.set_xticklabels(tick_labels)\n",
    "ax1.set_yticklabels(tick_labels)\n",
    "ax2.set_yticklabels(tick_labels)\n",
    "\n",
    "ax1.set_xlabel(x_label)\n",
    "ax2.set_xlabel(x_label)\n",
    "ax1.set_ylabel(y_label)\n",
    "ax2.set_ylabel(y_label)\n",
    "\n",
    "ax1.set_xlim([0, 6000000])\n",
    "ax1.set_ylim([0, 4000000])\n",
    "\n",
    "ax2.set_xlim([0, 6000000])\n",
    "ax2.set_ylim([0, 4000000])\n",
    "\n",
    "ax1.set_title('Simple Model \\nR2: 0.511, RMSE: $606,752',fontsize = 14)\n",
    "ax2.set_title('Final Model \\nR2: 0.766, RMSE: $298,454', fontsize = 14, loc = 'center',y=0.98)\n",
    "\n",
    "ax1.annotate('y = x', xy =(2500000,3000000), fontsize = 18)\n",
    "ax2.annotate('y = x', xy =(2500000,3000000), fontsize = 18)\n",
    "\n",
    "\n",
    "sns.despine()\n",
    "\n",
    "plt.savefig('Images/model_performance.jpg',bbox_inches=\"tight\",dpi=300)"
   ]
  },
  {
   "cell_type": "markdown",
   "metadata": {},
   "source": [
    "This demonstrates that our final model has greatly improved our ability to predict house prices in the King County area, given specific information about the house, neighborhoods, and amenities. With this model, millenials will have more information to inform house buying decisions, thereby saving money and getting homes that meet their needs."
   ]
  },
  {
   "cell_type": "markdown",
   "metadata": {},
   "source": [
    "### Plot price of houses in Seattle versus houses outside of the city"
   ]
  },
  {
   "cell_type": "code",
   "execution_count": 70,
   "metadata": {},
   "outputs": [
    {
     "data": {
      "image/png": "[encoded data removed]",
      "text/plain": [
       "<Figure size 564.175x504 with 1 Axes>"
      ]
     },
     "metadata": {},
     "output_type": "display_data"
    }
   ],
   "source": [
    "import matplotlib.ticker as tkr\n",
    "# # fig, ax = plt.subplots(ncols = 2,)\n",
    "# f, ax = plt.subplots(1, 2)\n",
    "\n",
    "g = sns.lmplot(x='sqft_living', y='price', hue = 'in_seattle',data=housing_df[housing_df['price']<2000000], scatter = False,facet_kws={'legend_out': True},height = 7)\n",
    "# ax1.set_xlabel ('Living space (sqft)')\n",
    "# ax1.set_ylabel('Price')\n",
    "\n",
    "\n",
    "# plt.figure(figsize = (15,20))\n",
    "plt.xlabel(\"Living space (sqft)\")\n",
    "plt.ylabel(\"Price ($)\")\n",
    "plt.title('In Seattle vs outside Seattle', y=1, fontsize=10)\n",
    "plt.suptitle('Price by Living Space',y=1.04,fontsize = 18)\n",
    "# title\n",
    "new_title = 'In Seattle'\n",
    "g._legend.set_title(new_title)\n",
    "# replace labels\n",
    "new_labels = ['No', 'Yes']\n",
    "for t, l in zip(g._legend.texts, new_labels):\n",
    "    t.set_text(l)\n",
    "# plt.ticklabel_format(style='plain', axis='y');\n",
    "for ax in g.axes.flat:\n",
    "    ax.yaxis.set_major_formatter(tkr.FuncFormatter(lambda y, p: f'{(y/1000000):.1f} MM'))\n",
    "\n",
    "plt.savefig('Images/price_by_living_space.jpg',bbox_inches=\"tight\",dpi=300)\n",
    "\n",
    "plt.show(g)"
   ]
  },
  {
   "cell_type": "markdown",
   "metadata": {},
   "source": [
    "### Display median home prices by neighborhood within Seattle"
   ]
  },
  {
   "cell_type": "markdown",
   "metadata": {},
   "source": [
    "The figure for median house price by neighborhood in Seattle is plotted in the notebook ***add_city_neighborhood.ipynb*** , available in our repo. For any interest in geospatial processing done in this project, please refer to that notebook."
   ]
  },
  {
   "cell_type": "markdown",
   "metadata": {},
   "source": [
    "<img src='Images/mean_price_by_neighborhood_map.jpg' alt=\"Figure of Median house price by neighborhood in Seattle\" title=\"Median house price by neighborhood in Seattle\" />"
   ]
  },
  {
   "cell_type": "markdown",
   "metadata": {},
   "source": [
    "### House prices displayed on map of King County"
   ]
  },
  {
   "cell_type": "markdown",
   "metadata": {},
   "source": [
    "The map of house prices within King County was created within the notebook ***add_city_neighborhood.ipynb*** , available in our repo. For any interest in geospatial processing done in this project, please refer to that notebook."
   ]
  },
  {
   "cell_type": "markdown",
   "metadata": {},
   "source": [
    "This map show that house prices are higher around waterfront areas, within certain neighborhoods, and within proximity to Seattle city and certain zip codes.\n"
   ]
  },
  {
   "cell_type": "markdown",
   "metadata": {},
   "source": [
    "<img src='Images/property_price_map.jpg' alt=\"Figure of property price across King county, Washington\" title=\"Property price across King county, Washington\" />"
   ]
  },
  {
   "cell_type": "markdown",
   "metadata": {},
   "source": [
    "### Display mean house prices by number of bedrooms and living space"
   ]
  },
  {
   "cell_type": "markdown",
   "metadata": {},
   "source": [
    "House prices increase as square foot of living space increases. However, for houses with similar amounts of living space, those with more bedrooms will cost ***less*** on average. This is likely because each room will be smaller. But this could be useful information for new or growing families to consider."
   ]
  },
  {
   "cell_type": "code",
   "execution_count": 69,
   "metadata": {},
   "outputs": [
    {
     "data": {
      "image/png": "[encoded data removed]",
      "text/plain": [
       "<Figure size 566.05x504 with 1 Axes>"
      ]
     },
     "metadata": {},
     "output_type": "display_data"
    }
   ],
   "source": [
    "filt = (train_df['bedrooms'].isin([2,3,4])) & (train_df['price'] <= 2000000) & (train_df['sqft_living'] <=4000)\n",
    "cleaner_train_df = train_df[filt]\n",
    "cleaner_train_df['price'] = cleaner_train_df['price']\n",
    "\n",
    "g=sns.lmplot(y='price', x='sqft_living', hue='bedrooms', data=cleaner_train_df, scatter=False, facet_kws={'legend_out': True}, height = 7)\n",
    "plt.xlabel(\"Living space (sqft)\")\n",
    "plt.ylabel(\"Price ($)\")\n",
    "plt.title('by number of bedrooms', y=1, fontsize=10)\n",
    "plt.suptitle('Price by Living Space',y=1.03,fontsize = 18)\n",
    "# title\n",
    "new_title = 'No. of bedrooms'\n",
    "g._legend.set_title(new_title)\n",
    "# replace labels\n",
    "new_labels = ['2','3','4']\n",
    "for t, l in zip(g._legend.texts, new_labels):\n",
    "    t.set_text(l)\n",
    "plt.ticklabel_format(style='plain', axis='y');\n",
    "\n",
    "plt.savefig('Images/lmplot_price-vs-sqft_living-by_bedrooms.jpg', transparent = False, bbox_inches=\"tight\");"
   ]
  },
  {
   "cell_type": "markdown",
   "metadata": {},
   "source": [
    "### Display mean housing price by construction grade"
   ]
  },
  {
   "cell_type": "markdown",
   "metadata": {},
   "source": [
    "Housing costs substantially more for higher quality construction. Also, previously renovated properties cost more, even for houses in the same grade.\n",
    "\n",
    "Our recommendation is to consider doing work yourself to avoid overpaying for higher grade properties."
   ]
  },
  {
   "cell_type": "code",
   "execution_count": 71,
   "metadata": {},
   "outputs": [],
   "source": [
    "# Ordering levels of grade for purpose of plotting\n",
    "cleaner_train_df['grade_ordinal'] = (cleaner_train_df['grade_3poor']       * 3) + \\\n",
    "                                    (cleaner_train_df['grade_4low']        * 4) + \\\n",
    "                                    (cleaner_train_df['grade_5fair']       * 5) + \\\n",
    "                                    (cleaner_train_df['grade_6lowaverage'] * 6) + \\\n",
    "                                    (cleaner_train_df['grade_7average']    * 7) + \\\n",
    "                                    (cleaner_train_df['grade_8good']       * 8) + \\\n",
    "                                    (cleaner_train_df['grade_9better']     * 9) + \\\n",
    "                                    (cleaner_train_df['grade_10verygood']  * 10) + \\\n",
    "                                    (cleaner_train_df['grade_11excellent'] * 11) + \\\n",
    "                                    (cleaner_train_df['grade_12luxury']    * 12) + \\\n",
    "                                    (cleaner_train_df['grade_13mansion']   * 13)"
   ]
  },
  {
   "cell_type": "code",
   "execution_count": 72,
   "metadata": {
    "scrolled": true
   },
   "outputs": [
    {
     "data": {
      "image/png": "[encoded data removed]",
      "text/plain": [
       "<Figure size 566.175x504 with 1 Axes>"
      ]
     },
     "metadata": {},
     "output_type": "display_data"
    }
   ],
   "source": [
    "filt = (cleaner_train_df['grade_ordinal'] >= 6) & (cleaner_train_df['grade_ordinal'] <= 10)\n",
    "\n",
    "import matplotlib.ticker as tkr\n",
    "\n",
    "ax1 = sns.catplot(x=\"grade_ordinal\", y=\"price\", hue=\"renovated\", kind=\"bar\", data=cleaner_train_df[filt], ci=None, height = 7, legend_out=True)\n",
    "\n",
    "plt.xlabel(\"House grade\")\n",
    "plt.ylabel(\"Price ($)\")\n",
    "# plt.title('by number of bedrooms', y=1, fontsize=10)\n",
    "plt.suptitle('Price by House Grade',y=1.03,fontsize = 18)\n",
    "\n",
    "new_title = 'Renovated'\n",
    "ax1._legend.set_title(new_title)\n",
    "# replace labels\n",
    "new_labels = ['No', 'Yes']\n",
    "for t, l in zip(ax1._legend.texts, new_labels):\n",
    "    t.set_text(l)\n",
    "\n",
    "for ax in ax1.axes.flat:\n",
    "    ax.yaxis.set_major_formatter(tkr.FuncFormatter(lambda y, p: f'{(y/1000000):.1f} MM'))\n",
    "# plt.ticklabel_format(style='plain', axis='y');\n",
    "values = ['Low Average', 'Average', 'Good', 'Better','Very Good']\n",
    "default_x_ticks = range(len(values))\n",
    "plt.xticks(default_x_ticks, values);\n",
    "\n",
    "plt.savefig('Images/barplot_price-vs-grade-by-renovated.jpg', transparent = False, bbox_inches=\"tight\");"
   ]
  },
  {
   "cell_type": "markdown",
   "metadata": {},
   "source": [
    "## Conclusions"
   ]
  },
  {
   "cell_type": "markdown",
   "metadata": {},
   "source": [
    "Our final model, Model 3, includes features regarding house living space, house condition, waterfront property and scenic views, distance from Seattle city center, and neighborhoods within Seattle.\n",
    "\n",
    "\n",
    "With this model, millenial homebuyers could specify desired features and find what the expected house prices would be. It would also be possible to specify a house range and receive recommendations for neighborhoods and house features that would fit within that budget.\n",
    "\n"
   ]
  }
 ],
 "metadata": {
  "kernelspec": {
   "display_name": "geo_env",
   "language": "python",
   "name": "geo_env"
  },
  "language_info": {
   "codemirror_mode": {
    "name": "ipython",
    "version": 3
   },
   "file_extension": ".py",
   "mimetype": "text/x-python",
   "name": "python",
   "nbconvert_exporter": "python",
   "pygments_lexer": "ipython3",
   "version": "3.10.4"
  },
  "toc": {
   "base_numbering": 1,
   "nav_menu": {},
   "number_sections": true,
   "sideBar": true,
   "skip_h1_title": false,
   "title_cell": "Table of Contents",
   "title_sidebar": "Contents",
   "toc_cell": false,
   "toc_position": {},
   "toc_section_display": true,
   "toc_window_display": false
  }
 },
 "nbformat": 4,
 "nbformat_minor": 4
}
