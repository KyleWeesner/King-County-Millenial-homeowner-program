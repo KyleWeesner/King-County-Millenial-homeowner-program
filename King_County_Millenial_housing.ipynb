{
 "cells": [
  {
   "cell_type": "markdown",
   "metadata": {},
   "source": [
    "# King County Millenial homeowner program\n",
    "\n",
    "**Buying a property in King County recommendations for Millennials**\n",
    "\n",
    "**Authors:** Hanis Zulmuthi, Greg Burgess, Kyle Weesner\n",
    "\n",
    "***March 2022***\n"
   ]
  },
  {
   "cell_type": "markdown",
   "metadata": {},
   "source": [
    "<img src=\"https://www.condosky.com/wp-content/uploads/2019/06/Young-Families-Condos-Toronto-e1561577724820.jpg\" alt=\"A picture of a multiracial family sitting on the floor together surrounded by moving boxes\" title=\"\" />"
   ]
  },
  {
   "cell_type": "markdown",
   "metadata": {},
   "source": [
    "# Overview\n",
    "\n",
    "King County in Washington State is growing in population made up of millenials and generation Z who either grew up or migrated to the area and found life in the region. We, the Data Analysts at the Greek Honey real estate are woking on building a model that predicts house prices in King county with the goal to help folks from the demographic to find their dream house that fits their lifestyle and their pockets! \n",
    "\n",
    "# ADD A SUMMARY OF RESULTS HERE"
   ]
  },
  {
   "cell_type": "markdown",
   "metadata": {},
   "source": [
    "## Business Problem\n",
    "\n",
    "Housing market in King County region, especially in the major cities such as Seattle, are becoming more and more financially inaccessible for many demographics. The demographic of interest for our real-estate is millenials who are building their career, family and trying to break into the housing market to have a stable housing for themselves. With our house price predicition model, we will help them to find the market value of their ideal house that are in proximity to city centers."
   ]
  },
  {
   "cell_type": "markdown",
   "metadata": {},
   "source": [
    "## Data Understanding\n",
    "\n",
    "### 1. King County Housing data ([kc_house_data.csv](https://github.com/hanis-z/Phase-2-project/blob/main/data/kc_house_data.csv))\n",
    "**Source:** This data was provided to us by Flatiron School. This data file is available in the project repo in the folder \"data\". \n",
    "\n",
    "**Contents:**\n",
    "\n",
    "### 2. Incorporated & Unincorporated cities in King county\n",
    "**Source:** We downloaded this data from [King County GIS website]( https://gis-kingcounty.opendata.arcgis.com/datasets/kingcounty::cities-and-unincorporated-king-county-city-kc-area/explore?location=47.430582%2C-121.809200%2C10.02). The data is also easily accessible in our project repo in the folder \"data\".\n",
    "\n",
    "**Contents:**\n",
    "\n",
    "### 3. Neighborhood Map of Seattle\n",
    "**Source:** We attained this data from [Seattle city GIS website](https://data-seattlecitygis.opendata.arcgis.com/datasets/neighborhood-map-atlas-districts/explore?location=47.628714%2C-122.338313%2C11.43]). This data is also easily accessible in our project repo in the folder \"data\".\n",
    "\n",
    "**Contents:**\n"
   ]
  },
  {
   "cell_type": "markdown",
   "metadata": {},
   "source": [
    "### Importing python libraries required for the analysis.\n",
    "\n",
    "**Note:** To ensure that all packages are loaded successfully, please ensure that you are in the right python environment. For more reference, refer the (how-to-set-environment)[link to the file] to ensure you have the correct working environment to run this notebook."
   ]
  },
  {
   "cell_type": "code",
   "execution_count": 1,
   "metadata": {},
   "outputs": [],
   "source": [
    "import pandas as pd\n",
    "import numpy as np\n",
    "import seaborn as sns\n",
    "import matplotlib.pyplot as plt\n",
    "%matplotlib inline\n",
    "import warnings\n",
    "warnings.filterwarnings('ignore')\n",
    "\n",
    "\n",
    "from sklearn.linear_model import LinearRegression\n",
    "from sklearn.metrics import mean_squared_error\n",
    "from sklearn.dummy import DummyRegressor\n",
    "from sklearn.model_selection import train_test_split\n",
    "from sklearn.preprocessing import StandardScaler, OrdinalEncoder, OneHotEncoder, PolynomialFeatures\n",
    "from sklearn.compose import ColumnTransformer\n",
    "from sklearn.feature_selection import RFE\n",
    "from pandas.api.types import is_numeric_dtype\n"
   ]
  },
  {
   "cell_type": "markdown",
   "metadata": {},
   "source": [
    "### Define Helper Functions for analysis"
   ]
  },
  {
   "cell_type": "code",
   "execution_count": 2,
   "metadata": {},
   "outputs": [],
   "source": [
    "def dataframe_info(df):\n",
    "    '''\n",
    "    Takes Pandas dataframe (df). Prints number of rows, number of columns, and three sample rows.\n",
    "    Returns list of numerical columns and list of non-numerical columns.\n",
    "    '''\n",
    "    numeric_cols = df.select_dtypes(include=np.number).columns.tolist()\n",
    "    object_cols  = df.select_dtypes(exclude=np.number).columns.tolist()\n",
    "\n",
    "    nrows, ncol = df.shape\n",
    "    nmid = nrows // 2\n",
    "    \n",
    "    print(f\"Dimensions: {nrows} rows and {ncol} columns\")\n",
    "    print(f\"Numeric columns: {len(numeric_cols)}\")\n",
    "    print(f\"Object columns: {len(object_cols)}\")\n",
    "\n",
    "    display(df.iloc[[0,nmid,nrows-1]]) # show three rows: first, mid, and last\n",
    "\n",
    "    return numeric_cols, object_cols"
   ]
  },
  {
   "cell_type": "markdown",
   "metadata": {},
   "source": [
    "## Data Exploration & Preparation for Linear Regression Modelling\n"
   ]
  },
  {
   "cell_type": "markdown",
   "metadata": {},
   "source": [
    "### Load King County Housing data"
   ]
  },
  {
   "cell_type": "code",
   "execution_count": 3,
   "metadata": {},
   "outputs": [],
   "source": [
    "housing_df = pd.read_csv('data/housing_gdf_complete.csv')"
   ]
  },
  {
   "cell_type": "code",
   "execution_count": 4,
   "metadata": {},
   "outputs": [
    {
     "name": "stdout",
     "output_type": "stream",
     "text": [
      "Dimensions: 21596 rows and 28 columns\n",
      "Numeric columns: 17\n",
      "Object columns: 11\n"
     ]
    },
    {
     "data": {
      "text/html": [
       "<div>\n",
       "<style scoped>\n",
       "    .dataframe tbody tr th:only-of-type {\n",
       "        vertical-align: middle;\n",
       "    }\n",
       "\n",
       "    .dataframe tbody tr th {\n",
       "        vertical-align: top;\n",
       "    }\n",
       "\n",
       "    .dataframe thead th {\n",
       "        text-align: right;\n",
       "    }\n",
       "</style>\n",
       "<table border=\"1\" class=\"dataframe\">\n",
       "  <thead>\n",
       "    <tr style=\"text-align: right;\">\n",
       "      <th></th>\n",
       "      <th>Unnamed: 0</th>\n",
       "      <th>id</th>\n",
       "      <th>date</th>\n",
       "      <th>price</th>\n",
       "      <th>bedrooms</th>\n",
       "      <th>bathrooms</th>\n",
       "      <th>sqft_living</th>\n",
       "      <th>sqft_lot</th>\n",
       "      <th>floors</th>\n",
       "      <th>waterfront</th>\n",
       "      <th>...</th>\n",
       "      <th>lat</th>\n",
       "      <th>long</th>\n",
       "      <th>sqft_living15</th>\n",
       "      <th>sqft_lot15</th>\n",
       "      <th>coord</th>\n",
       "      <th>geometry</th>\n",
       "      <th>city</th>\n",
       "      <th>dist_seattle</th>\n",
       "      <th>neighborhood</th>\n",
       "      <th>in_seattle</th>\n",
       "    </tr>\n",
       "  </thead>\n",
       "  <tbody>\n",
       "    <tr>\n",
       "      <th>0</th>\n",
       "      <td>0</td>\n",
       "      <td>8856004730</td>\n",
       "      <td>9/17/2014</td>\n",
       "      <td>199950.0</td>\n",
       "      <td>2</td>\n",
       "      <td>2.75</td>\n",
       "      <td>1590</td>\n",
       "      <td>20917</td>\n",
       "      <td>1.5</td>\n",
       "      <td>NO</td>\n",
       "      <td>...</td>\n",
       "      <td>47.2786</td>\n",
       "      <td>-122.250</td>\n",
       "      <td>1310</td>\n",
       "      <td>6000</td>\n",
       "      <td>(-122.25, 47.2786)</td>\n",
       "      <td>POINT (392815.9311460542 31962.040946318088)</td>\n",
       "      <td>Algona</td>\n",
       "      <td>38586.298196</td>\n",
       "      <td>NaN</td>\n",
       "      <td>False</td>\n",
       "    </tr>\n",
       "    <tr>\n",
       "      <th>10798</th>\n",
       "      <td>10798</td>\n",
       "      <td>7237500590</td>\n",
       "      <td>11/17/2014</td>\n",
       "      <td>1320000.0</td>\n",
       "      <td>4</td>\n",
       "      <td>5.25</td>\n",
       "      <td>6110</td>\n",
       "      <td>10369</td>\n",
       "      <td>2.0</td>\n",
       "      <td>NO</td>\n",
       "      <td>...</td>\n",
       "      <td>47.5285</td>\n",
       "      <td>-122.135</td>\n",
       "      <td>4190</td>\n",
       "      <td>10762</td>\n",
       "      <td>(-122.135, 47.5285)</td>\n",
       "      <td>POINT (401985.90108066204 59588.48465827319)</td>\n",
       "      <td>Newcastle</td>\n",
       "      <td>19145.331588</td>\n",
       "      <td>NaN</td>\n",
       "      <td>False</td>\n",
       "    </tr>\n",
       "    <tr>\n",
       "      <th>21595</th>\n",
       "      <td>21595</td>\n",
       "      <td>9808100150</td>\n",
       "      <td>4/2/2015</td>\n",
       "      <td>3350000.0</td>\n",
       "      <td>5</td>\n",
       "      <td>3.75</td>\n",
       "      <td>5350</td>\n",
       "      <td>15360</td>\n",
       "      <td>1.0</td>\n",
       "      <td>NO</td>\n",
       "      <td>...</td>\n",
       "      <td>47.6480</td>\n",
       "      <td>-122.218</td>\n",
       "      <td>3740</td>\n",
       "      <td>15940</td>\n",
       "      <td>(-122.218, 47.648)</td>\n",
       "      <td>POINT (395975.83394082234 72981.52286293103)</td>\n",
       "      <td>Yarrow Point</td>\n",
       "      <td>10564.303190</td>\n",
       "      <td>NaN</td>\n",
       "      <td>False</td>\n",
       "    </tr>\n",
       "  </tbody>\n",
       "</table>\n",
       "<p>3 rows × 28 columns</p>\n",
       "</div>"
      ],
      "text/plain": [
       "       Unnamed: 0          id        date      price  bedrooms  bathrooms  \\\n",
       "0               0  8856004730   9/17/2014   199950.0         2       2.75   \n",
       "10798       10798  7237500590  11/17/2014  1320000.0         4       5.25   \n",
       "21595       21595  9808100150    4/2/2015  3350000.0         5       3.75   \n",
       "\n",
       "       sqft_living  sqft_lot  floors waterfront  ...      lat     long  \\\n",
       "0             1590     20917     1.5         NO  ...  47.2786 -122.250   \n",
       "10798         6110     10369     2.0         NO  ...  47.5285 -122.135   \n",
       "21595         5350     15360     1.0         NO  ...  47.6480 -122.218   \n",
       "\n",
       "      sqft_living15  sqft_lot15                coord  \\\n",
       "0              1310        6000   (-122.25, 47.2786)   \n",
       "10798          4190       10762  (-122.135, 47.5285)   \n",
       "21595          3740       15940   (-122.218, 47.648)   \n",
       "\n",
       "                                           geometry          city  \\\n",
       "0      POINT (392815.9311460542 31962.040946318088)        Algona   \n",
       "10798  POINT (401985.90108066204 59588.48465827319)     Newcastle   \n",
       "21595  POINT (395975.83394082234 72981.52286293103)  Yarrow Point   \n",
       "\n",
       "       dist_seattle  neighborhood  in_seattle  \n",
       "0      38586.298196           NaN       False  \n",
       "10798  19145.331588           NaN       False  \n",
       "21595  10564.303190           NaN       False  \n",
       "\n",
       "[3 rows x 28 columns]"
      ]
     },
     "metadata": {},
     "output_type": "display_data"
    },
    {
     "data": {
      "text/plain": [
       "(['Unnamed: 0',\n",
       "  'id',\n",
       "  'price',\n",
       "  'bedrooms',\n",
       "  'bathrooms',\n",
       "  'sqft_living',\n",
       "  'sqft_lot',\n",
       "  'floors',\n",
       "  'sqft_above',\n",
       "  'yr_built',\n",
       "  'yr_renovated',\n",
       "  'zipcode',\n",
       "  'lat',\n",
       "  'long',\n",
       "  'sqft_living15',\n",
       "  'sqft_lot15',\n",
       "  'dist_seattle'],\n",
       " ['date',\n",
       "  'waterfront',\n",
       "  'view',\n",
       "  'condition',\n",
       "  'grade',\n",
       "  'sqft_basement',\n",
       "  'coord',\n",
       "  'geometry',\n",
       "  'city',\n",
       "  'neighborhood',\n",
       "  'in_seattle'])"
      ]
     },
     "execution_count": 4,
     "metadata": {},
     "output_type": "execute_result"
    }
   ],
   "source": [
    "dataframe_info(housing_df)"
   ]
  },
  {
   "cell_type": "code",
   "execution_count": 6,
   "metadata": {},
   "outputs": [],
   "source": [
    "housing_df['dist_seattle'] = housing_df['dist_seattle']/1000 #converting the distance from meters to kilometers"
   ]
  },
  {
   "cell_type": "markdown",
   "metadata": {},
   "source": [
    "## Data Cleaning"
   ]
  },
  {
   "cell_type": "markdown",
   "metadata": {},
   "source": [
    "### Basement"
   ]
  },
  {
   "cell_type": "markdown",
   "metadata": {},
   "source": [
    "Creating a feature if the house has a basement or not."
   ]
  },
  {
   "cell_type": "code",
   "execution_count": 7,
   "metadata": {},
   "outputs": [],
   "source": [
    "# sqft_basement should equal difference between sqft_living and sqft_above\n",
    "sqft_basement_computed = housing_df['sqft_living'] - housing_df['sqft_above']\n",
    "\n",
    "housing_df['has_basement'] = (sqft_basement_computed > 0).astype(int)"
   ]
  },
  {
   "cell_type": "markdown",
   "metadata": {},
   "source": [
    "### Yr renovated"
   ]
  },
  {
   "cell_type": "markdown",
   "metadata": {},
   "source": [
    "Creating a feature of houses that have been renovated in the past 5 years."
   ]
  },
  {
   "cell_type": "code",
   "execution_count": 12,
   "metadata": {},
   "outputs": [],
   "source": [
    "housing_df['sold_dt'] = pd.to_datetime(housing_df['date']) #made a new column with date by using the pd.to_datetime()\n",
    "housing_df['sold_year'] = pd.DatetimeIndex(housing_df['sold_dt']).year #made a new column year sold \n",
    "housing_df['sold_month'] = pd.DatetimeIndex(housing_df['sold_dt']).month #made a new column month sold "
   ]
  },
  {
   "cell_type": "code",
   "execution_count": 13,
   "metadata": {},
   "outputs": [],
   "source": [
    "housing_df['yr_renovated_missing'] = (housing_df['yr_renovated'].isna()).astype(int) #saving nulls for ablilty to work with\n",
    "housing_df['yr_renovated'].fillna(0, inplace=True) #Rewriting dataframe filling null values with zeros\n",
    "\n",
    "housing_df['renovated'] = ((housing_df['sold_year'] - housing_df['yr_renovated']) <= 5).astype(int) \n",
    "#houses renovated within the past 5 years"
   ]
  },
  {
   "cell_type": "markdown",
   "metadata": {},
   "source": [
    "### Age of the house"
   ]
  },
  {
   "cell_type": "markdown",
   "metadata": {},
   "source": [
    "Creating a feature of the age in years of the houses."
   ]
  },
  {
   "cell_type": "code",
   "execution_count": 14,
   "metadata": {},
   "outputs": [
    {
     "data": {
      "text/plain": [
       "count    21596.000000\n",
       "mean        43.323810\n",
       "std         29.377864\n",
       "min         -1.000000\n",
       "25%         18.000000\n",
       "50%         40.000000\n",
       "75%         63.000000\n",
       "max        115.000000\n",
       "Name: house_age, dtype: float64"
      ]
     },
     "execution_count": 14,
     "metadata": {},
     "output_type": "execute_result"
    }
   ],
   "source": [
    "housing_df['house_age'] = housing_df['sold_year'] - housing_df['yr_built'] #year sold minus year built gets the age of the house\n",
    "housing_df['house_age'].describe()"
   ]
  },
  {
   "cell_type": "markdown",
   "metadata": {},
   "source": [
    "### View"
   ]
  },
  {
   "cell_type": "markdown",
   "metadata": {},
   "source": [
    "Cleaning up missing values in the view column before using it as a feature."
   ]
  },
  {
   "cell_type": "code",
   "execution_count": 18,
   "metadata": {},
   "outputs": [],
   "source": [
    "housing_df['view_missing'] = (housing_df['view'].isna()).astype(int) #saving nulls for ablilty to work with\n",
    "housing_df['view'].fillna('NONE', inplace=True) #Rewriting dataframe filling null values with NONE"
   ]
  },
  {
   "cell_type": "markdown",
   "metadata": {},
   "source": [
    "### Waterfront"
   ]
  },
  {
   "cell_type": "markdown",
   "metadata": {},
   "source": [
    "Cleaning up missing values in the waterfront column before using it as a feature."
   ]
  },
  {
   "cell_type": "code",
   "execution_count": 19,
   "metadata": {},
   "outputs": [],
   "source": [
    "housing_df['waterfront_missing'] = (housing_df['waterfront'].isna()).astype(int)#saving nulls for ablilty to work with\n",
    "housing_df['waterfront'].fillna('NO', inplace=True) #Rewriting dataframe filling null values with NO"
   ]
  },
  {
   "cell_type": "markdown",
   "metadata": {},
   "source": [
    "### Duplicate records (house resold)"
   ]
  },
  {
   "cell_type": "markdown",
   "metadata": {},
   "source": [
    "Creating a feature of individual houses that were sold more than once (stated as a boolean value)."
   ]
  },
  {
   "cell_type": "code",
   "execution_count": 20,
   "metadata": {},
   "outputs": [
    {
     "name": "stdout",
     "output_type": "stream",
     "text": [
      "Number of rows:\t\t21596\n",
      "Number unique:\t\t21419\n",
      "Number duplicates:\t177\n"
     ]
    }
   ],
   "source": [
    "print(f\"Number of rows:\\t\\t{len(housing_df['id'])}\") #Total number of houses sold on id including repeats\n",
    "print(f\"Number unique:\\t\\t{len(housing_df['id'].unique())}\") #First time houses being sold in this data set\n",
    "print(f\"Number duplicates:\\t{sum(housing_df['id'].duplicated() == True)}\") #houses being resold"
   ]
  },
  {
   "cell_type": "code",
   "execution_count": 23,
   "metadata": {},
   "outputs": [],
   "source": [
    "housing_df = housing_df.sort_values(by=['sold_year', 'sold_month']) \n",
    "#sorting df by their dates so resold values are second in the dataframe\n",
    "housing_df['resold'] = housing_df.id.duplicated().astype(int) #creates a boolean column when the id of houses are duplicated"
   ]
  },
  {
   "cell_type": "markdown",
   "metadata": {},
   "source": [
    "### Ratio between bedrooms and bathrooms"
   ]
  },
  {
   "cell_type": "markdown",
   "metadata": {},
   "source": [
    "Creating a feature of the ratio between bedrooms and bathrooms."
   ]
  },
  {
   "cell_type": "code",
   "execution_count": 24,
   "metadata": {},
   "outputs": [],
   "source": [
    "housing_df['br_bth'] = housing_df.bedrooms / housing_df.bathrooms"
   ]
  },
  {
   "cell_type": "markdown",
   "metadata": {},
   "source": [
    "### In seattle"
   ]
  },
  {
   "cell_type": "code",
   "execution_count": null,
   "metadata": {},
   "outputs": [],
   "source": []
  },
  {
   "cell_type": "code",
   "execution_count": null,
   "metadata": {},
   "outputs": [],
   "source": [
    "housing_df['in_seattle'] = housing_df['in_seattle'].astype(int)"
   ]
  },
  {
   "cell_type": "markdown",
   "metadata": {},
   "source": [
    "Eliminating condition because grade does a better job (Refer Greg's original notebook)"
   ]
  },
  {
   "cell_type": "code",
   "execution_count": null,
   "metadata": {},
   "outputs": [],
   "source": [
    "relevant_num_cols = ['bedrooms',\n",
    "  'sqft_living',\n",
    "  'sqft_lot',\n",
    "  'floors',\n",
    "  'zipcode',\n",
    "  'dist_seattle',\n",
    "  'has_basement',\n",
    "  'yr_renovated_missing',\n",
    "  'house_age',\n",
    "  'view_missing',\n",
    "  'waterfront_missing','resold', 'br_bth']\n",
    "\n",
    "relevant_cat_col =  ['waterfront',\n",
    "  'view',\n",
    "  'condition',\n",
    "  'grade',\n",
    "  'city',\n",
    "  'neighborhood'\n",
    "  ]"
   ]
  },
  {
   "cell_type": "code",
   "execution_count": null,
   "metadata": {},
   "outputs": [],
   "source": [
    "sns.heatmap(housing_df[relevant_num_cols].corr().abs(), vmin=.7, vmax=0.7)"
   ]
  },
  {
   "cell_type": "markdown",
   "metadata": {},
   "source": [
    "### Train test split"
   ]
  },
  {
   "cell_type": "code",
   "execution_count": null,
   "metadata": {},
   "outputs": [],
   "source": [
    "y = housing_df['price']\n",
    "X = housing_df[relevant_num_cols+relevant_cat_col]"
   ]
  },
  {
   "cell_type": "code",
   "execution_count": null,
   "metadata": {},
   "outputs": [],
   "source": [
    "X.head()"
   ]
  },
  {
   "cell_type": "code",
   "execution_count": null,
   "metadata": {},
   "outputs": [],
   "source": [
    "X_train, X_test, y_train, y_test = train_test_split(X, y, test_size=0.33, random_state=42)\n"
   ]
  },
  {
   "cell_type": "markdown",
   "metadata": {},
   "source": [
    "## One Hot Encoder"
   ]
  },
  {
   "cell_type": "code",
   "execution_count": null,
   "metadata": {},
   "outputs": [],
   "source": [
    "dataframe_info(X_train)"
   ]
  },
  {
   "cell_type": "code",
   "execution_count": null,
   "metadata": {},
   "outputs": [],
   "source": [
    "encoder = OneHotEncoder(handle_unknown='ignore',\n",
    "                        drop='if_binary',\n",
    "                        categories='auto')\n",
    "\n",
    "ct = ColumnTransformer(transformers=[('ohe', encoder, relevant_cat_col)],\n",
    "                       remainder='passthrough')\n",
    "\n",
    "ct.fit(X_train)\n",
    "X_train_enc = ct.transform(X_train)\n",
    "X_test_enc = ct.transform(X_test)"
   ]
  },
  {
   "cell_type": "markdown",
   "metadata": {},
   "source": [
    "drop: ohe__x1_NONE, ohe__x2_Average, 'ohe__x3_3 Poor', 'ohe_x3_4 Low', 'ohe_x3_5 Fair', 'ohe_x4_Unincorporated City', 'ohe__x5_nan'\n"
   ]
  },
  {
   "cell_type": "code",
   "execution_count": null,
   "metadata": {},
   "outputs": [],
   "source": [
    "# can display as a dataframe like so\n",
    "X_train_enc_df = pd.DataFrame(X_train_enc.todense(), columns= ct.get_feature_names(), index =X_train.index)\n",
    "X_train_enc_df"
   ]
  },
  {
   "cell_type": "code",
   "execution_count": null,
   "metadata": {},
   "outputs": [],
   "source": [
    "train_df = pd.concat([X_train,y_train], axis=1)\n",
    "\n",
    "train_df.corr().abs()['price'][train_df.corr().abs()['price'].index == 'sqft_living']"
   ]
  },
  {
   "cell_type": "code",
   "execution_count": null,
   "metadata": {},
   "outputs": [],
   "source": [
    "def build_model(X_train, X_test, y_train, y_test):\n",
    "    \n",
    "    \"\"\"\n",
    "    Build a regression model\n",
    "    \n",
    "    \"\"\"\n",
    "    \n",
    "    lr = LinearRegression()\n",
    "    lr.fit(X_train,y_train)\n",
    "    R2_train = lr.score(X_train,y_train)\n",
    "    R2_test = lr.score(X_test,y_test)\n",
    "\n",
    "\n",
    "    yhat_train = lr.predict(X_train)\n",
    "    train_rmse = mean_squared_error(y_train, yhat_train, squared = False)\n",
    "\n",
    "    yhat_test = lr.predict(X_test)\n",
    "    test_rmse = mean_squared_error(y_test, yhat_test, squared = False)\n",
    "    \n",
    "    print(f'Train R2: {baseline_lr.score(X1_train,y_train)}')\n",
    "    print(f'Test R2: {baseline_lr.score(X1_test,y_test)}')\n",
    "    print(f'Train RMSE: {train_rmse}')\n",
    "    print(f'Test RMSE: {test_rmse}')\n",
    "    \n",
    "    return R2_train, R2_test, train_rmse, test_rmse\n"
   ]
  },
  {
   "cell_type": "code",
   "execution_count": null,
   "metadata": {},
   "outputs": [],
   "source": [
    "#Build baseline model\n",
    "\n",
    "X1_train = X_train[['sqft_living']]\n",
    "X1_test = X_test[['sqft_living']]\n",
    "\n",
    "baseline_lr = LinearRegression()\n",
    "baseline_lr.fit(X1_train,y_train)\n",
    "\n",
    "print(f'Baseline_train R2: {baseline_lr.score(X1_train,y_train)}')\n",
    "print(f'Baseline_test R2: {baseline_lr.score(X1_test,y_test)}')\n",
    "\n",
    "yhat_train = baseline_lr.predict(X1_train)\n",
    "train_rmse = mean_squared_error(y_train, yhat_train, squared = False)\n",
    "print(f'Train RMSE: {train_rmse}')\n",
    "\n",
    "yhat_test = baseline_lr.predict(X1_test)\n",
    "test_rmse = mean_squared_error(y_test, yhat_test, squared = False)\n",
    "print(f'Test RMSE: {test_rmse}')\n",
    "\n"
   ]
  },
  {
   "cell_type": "code",
   "execution_count": null,
   "metadata": {},
   "outputs": [],
   "source": [
    "X2_train = X_train[['sqft_living','bedrooms']]\n",
    "X2_test = X_test[['sqft_living','bedrooms']]\n",
    "\n",
    "model_1_r2_train, model_1_r2_test, train_rmse, test_rmse = build_model(X2_train,X2_test,y_train,y_test)\n"
   ]
  },
  {
   "cell_type": "code",
   "execution_count": null,
   "metadata": {},
   "outputs": [],
   "source": [
    "ct.get_feature_names()"
   ]
  },
  {
   "cell_type": "markdown",
   "metadata": {},
   "source": [
    "drop: ohe__x1_NONE, ohe__x2_Average, 'ohe__x3_3 Poor', 'ohe_x3_4 Low', 'ohe_x3_5 Fair', 'ohe_x4_Unincorporated City', 'ohe__x5_nan'"
   ]
  },
  {
   "cell_type": "code",
   "execution_count": null,
   "metadata": {},
   "outputs": [],
   "source": [
    "ori_cols = ['ohe__x0_YES',\n",
    " 'ohe__x1_AVERAGE',\n",
    " 'ohe__x1_EXCELLENT',\n",
    " 'ohe__x1_FAIR',\n",
    " 'ohe__x1_GOOD',\n",
    " 'ohe__x2_Average',\n",
    " 'ohe__x2_Fair',\n",
    " 'ohe__x2_Good',\n",
    " 'ohe__x2_Poor',\n",
    " 'ohe__x2_Very Good',\n",
    " 'ohe__x3_10 Very Good',\n",
    " 'ohe__x3_11 Excellent',\n",
    " 'ohe__x3_12 Luxury',\n",
    " 'ohe__x3_13 Mansion',\n",
    " 'ohe__x3_5 Fair',\n",
    " 'ohe__x3_6 Low Average',\n",
    " 'ohe__x3_8 Good',\n",
    " 'ohe__x3_9 Better',\n",
    " 'bedrooms',\n",
    " 'sqft_living',\n",
    " 'sqft_lot',\n",
    " 'floors',\n",
    " 'zipcode',\n",
    " 'has_basement',\n",
    " 'yr_renovated_missing',\n",
    " 'house_age',\n",
    " 'view_missing',\n",
    " 'waterfront_missing',\n",
    " 'resold',\n",
    " 'br_bth']"
   ]
  },
  {
   "cell_type": "markdown",
   "metadata": {},
   "source": [
    "## Data Visualization"
   ]
  },
  {
   "cell_type": "code",
   "execution_count": null,
   "metadata": {},
   "outputs": [],
   "source": [
    "\n",
    "# # fig, ax = plt.subplots(ncols = 2,)\n",
    "# f, ax = plt.subplots(1, 2)\n",
    "\n",
    "g = sns.lmplot(x='sqft_living', y='price', hue = 'in_seattle',data=housing_df[housing_df['price']<2000000], scatter = False,facet_kws={'legend_out': True},height = 7)\n",
    "# ax1.set_xlabel ('Living space (sqft)')\n",
    "# ax1.set_ylabel('Price')\n",
    "\n",
    "\n",
    "# plt.figure(figsize = (15,20))\n",
    "plt.xlabel(\"Living space (sqft)\")\n",
    "plt.ylabel(\"Price ($)\")\n",
    "plt.title('In Seattle vs outside Seattle', y=1, fontsize=10)\n",
    "plt.suptitle('Price by Living Space',y=1.04,fontsize = 18)\n",
    "# title\n",
    "new_title = 'In Seattle'\n",
    "g._legend.set_title(new_title)\n",
    "# replace labels\n",
    "new_labels = ['No', 'Yes']\n",
    "for t, l in zip(g._legend.texts, new_labels):\n",
    "    t.set_text(l)\n",
    "plt.ticklabel_format(style='plain', axis='y');\n",
    "\n",
    "\n",
    "plt.savefig('Images/price_by_living_space.jpg',bbox_inches=\"tight\",dpi=300)\n",
    "plt.savefig('Images/price_by_living_space.png',bbox_inches=\"tight\",dpi=300)\n",
    "\n",
    "plt.show(g)"
   ]
  },
  {
   "cell_type": "markdown",
   "metadata": {},
   "source": [
    "The figure for median house price by neighborhood in Seattle is plotted in the notebook ***add_city_neighborhood.ipynb*** , available in our repo. For any interest in geospatial processing done in this project, please refer to the following notebook."
   ]
  },
  {
   "cell_type": "markdown",
   "metadata": {},
   "source": [
    "<img src='Images/mean_price_by_neighborhood_map.png' alt=\"Figure of Median house price by neighborhood in Seattle\" title=\"Median house price by neighborhood in Seattle\" />"
   ]
  },
  {
   "cell_type": "markdown",
   "metadata": {},
   "source": [
    "<img src='Images/property_price_map.jpg' alt=\"Figure of property price across King county, Washington\" title=\"Property price across King county, Washington\" />"
   ]
  },
  {
   "cell_type": "code",
   "execution_count": null,
   "metadata": {},
   "outputs": [],
   "source": []
  }
 ],
 "metadata": {
  "kernelspec": {
   "display_name": "Python (learn-env)",
   "language": "python",
   "name": "learn-env"
  },
  "language_info": {
   "codemirror_mode": {
    "name": "ipython",
    "version": 3
   },
   "file_extension": ".py",
   "mimetype": "text/x-python",
   "name": "python",
   "nbconvert_exporter": "python",
   "pygments_lexer": "ipython3",
   "version": "3.8.5"
  },
  "toc": {
   "base_numbering": 1,
   "nav_menu": {},
   "number_sections": true,
   "sideBar": true,
   "skip_h1_title": false,
   "title_cell": "Table of Contents",
   "title_sidebar": "Contents",
   "toc_cell": false,
   "toc_position": {},
   "toc_section_display": true,
   "toc_window_display": false
  }
 },
 "nbformat": 4,
 "nbformat_minor": 4
}
