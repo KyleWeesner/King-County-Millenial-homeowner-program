{
 "cells": [
  {
   "cell_type": "markdown",
   "metadata": {},
   "source": [
    "## Imports"
   ]
  },
  {
   "cell_type": "code",
   "execution_count": 1,
   "metadata": {},
   "outputs": [],
   "source": [
    "import pandas as pd\n",
    "import matplotlib.pyplot as plt\n",
    "import seaborn as sns\n",
    "import numpy as np\n",
    "\n",
    "import statsmodels\n",
    "from statsmodels.formula.api import ols\n",
    "\n",
    "from sklearn.model_selection import train_test_split"
   ]
  },
  {
   "cell_type": "code",
   "execution_count": 2,
   "metadata": {},
   "outputs": [],
   "source": [
    "# Make pandas display all columns\n",
    "pd.set_option('display.max_columns', None)\n",
    "# Make pandas display all rows\n",
    "pd.set_option('display.max_rows', None)\n",
    "\n",
    "\n",
    "# print big numbers in pd.DataFrame (instead of scientific notation)\n",
    "pd.set_option('display.precision', 12)\n",
    "pd.set_option('display.float_format', lambda x: '%.2f' % x)\n",
    "\n",
    "# Set matplotlib title font size\n",
    "plt.rcParams['axes.titlesize'] = 18"
   ]
  },
  {
   "cell_type": "markdown",
   "metadata": {},
   "source": [
    "## Define helper functions"
   ]
  },
  {
   "cell_type": "code",
   "execution_count": 3,
   "metadata": {},
   "outputs": [],
   "source": [
    "def dataframe_info(df):\n",
    "    '''\n",
    "    Takes Pandas dataframe (df). Prints number of rows, number of columns, and three sample rows.\n",
    "    Returns list of numerical columns and list of non-numerical columns.\n",
    "    '''\n",
    "    numeric_cols = df.select_dtypes(include=np.number).columns.tolist()\n",
    "    object_cols  = df.select_dtypes(exclude=np.number).columns.tolist()\n",
    "\n",
    "    nrows, ncol = df.shape\n",
    "    nmid = nrows // 2\n",
    "    \n",
    "    print(f\"Dimensions: {nrows} rows and {ncol} columns\")\n",
    "    print(f\"Numeric columns: {len(numeric_cols)}\")\n",
    "    print(f\"Object columns: {len(object_cols)}\")\n",
    "\n",
    "    display(df.iloc[[0,nmid,nrows-1]]) # show three rows: first, mid, and last\n",
    "\n",
    "    return numeric_cols, object_cols"
   ]
  },
  {
   "cell_type": "code",
   "execution_count": 4,
   "metadata": {},
   "outputs": [],
   "source": [
    "def cleaned_column_names(column_list):\n",
    "    '''\n",
    "    Takes list of column names (e.g. from df.columns). \n",
    "    Returns list of cleaned column names that can be assigned to DataFrame.\n",
    "    Usage: df.columns = cleaned_column_names(df.columns)\n",
    "    '''\n",
    "    return [name.strip().lower().replace(' ','').replace('-', '_') for name in column_list]"
   ]
  },
  {
   "cell_type": "markdown",
   "metadata": {},
   "source": [
    "## EDA"
   ]
  },
  {
   "cell_type": "code",
   "execution_count": 5,
   "metadata": {},
   "outputs": [],
   "source": [
    "df = pd.read_csv('../data/kc_house_data.csv')\n",
    "df.columns = cleaned_column_names(df.columns)"
   ]
  },
  {
   "cell_type": "code",
   "execution_count": 6,
   "metadata": {},
   "outputs": [
    {
     "name": "stdout",
     "output_type": "stream",
     "text": [
      "Dimensions: 21597 rows and 21 columns\n",
      "Numeric columns: 15\n",
      "Object columns: 6\n"
     ]
    },
    {
     "data": {
      "text/html": [
       "<div>\n",
       "<style scoped>\n",
       "    .dataframe tbody tr th:only-of-type {\n",
       "        vertical-align: middle;\n",
       "    }\n",
       "\n",
       "    .dataframe tbody tr th {\n",
       "        vertical-align: top;\n",
       "    }\n",
       "\n",
       "    .dataframe thead th {\n",
       "        text-align: right;\n",
       "    }\n",
       "</style>\n",
       "<table border=\"1\" class=\"dataframe\">\n",
       "  <thead>\n",
       "    <tr style=\"text-align: right;\">\n",
       "      <th></th>\n",
       "      <th>id</th>\n",
       "      <th>date</th>\n",
       "      <th>price</th>\n",
       "      <th>bedrooms</th>\n",
       "      <th>bathrooms</th>\n",
       "      <th>sqft_living</th>\n",
       "      <th>sqft_lot</th>\n",
       "      <th>floors</th>\n",
       "      <th>waterfront</th>\n",
       "      <th>view</th>\n",
       "      <th>condition</th>\n",
       "      <th>grade</th>\n",
       "      <th>sqft_above</th>\n",
       "      <th>sqft_basement</th>\n",
       "      <th>yr_built</th>\n",
       "      <th>yr_renovated</th>\n",
       "      <th>zipcode</th>\n",
       "      <th>lat</th>\n",
       "      <th>long</th>\n",
       "      <th>sqft_living15</th>\n",
       "      <th>sqft_lot15</th>\n",
       "    </tr>\n",
       "  </thead>\n",
       "  <tbody>\n",
       "    <tr>\n",
       "      <th>0</th>\n",
       "      <td>7129300520</td>\n",
       "      <td>10/13/2014</td>\n",
       "      <td>221900.00</td>\n",
       "      <td>3</td>\n",
       "      <td>1.00</td>\n",
       "      <td>1180</td>\n",
       "      <td>5650</td>\n",
       "      <td>1.00</td>\n",
       "      <td>NaN</td>\n",
       "      <td>NONE</td>\n",
       "      <td>Average</td>\n",
       "      <td>7 Average</td>\n",
       "      <td>1180</td>\n",
       "      <td>0.0</td>\n",
       "      <td>1955</td>\n",
       "      <td>0.00</td>\n",
       "      <td>98178</td>\n",
       "      <td>47.51</td>\n",
       "      <td>-122.26</td>\n",
       "      <td>1340</td>\n",
       "      <td>5650</td>\n",
       "    </tr>\n",
       "    <tr>\n",
       "      <th>10798</th>\n",
       "      <td>2337300370</td>\n",
       "      <td>2/6/2015</td>\n",
       "      <td>175000.00</td>\n",
       "      <td>3</td>\n",
       "      <td>1.00</td>\n",
       "      <td>1030</td>\n",
       "      <td>8395</td>\n",
       "      <td>1.00</td>\n",
       "      <td>NO</td>\n",
       "      <td>NONE</td>\n",
       "      <td>Good</td>\n",
       "      <td>7 Average</td>\n",
       "      <td>1030</td>\n",
       "      <td>0.0</td>\n",
       "      <td>1960</td>\n",
       "      <td>0.00</td>\n",
       "      <td>98023</td>\n",
       "      <td>47.33</td>\n",
       "      <td>-122.34</td>\n",
       "      <td>1370</td>\n",
       "      <td>9380</td>\n",
       "    </tr>\n",
       "    <tr>\n",
       "      <th>21596</th>\n",
       "      <td>1523300157</td>\n",
       "      <td>10/15/2014</td>\n",
       "      <td>325000.00</td>\n",
       "      <td>2</td>\n",
       "      <td>0.75</td>\n",
       "      <td>1020</td>\n",
       "      <td>1076</td>\n",
       "      <td>2.00</td>\n",
       "      <td>NO</td>\n",
       "      <td>NONE</td>\n",
       "      <td>Average</td>\n",
       "      <td>7 Average</td>\n",
       "      <td>1020</td>\n",
       "      <td>0.0</td>\n",
       "      <td>2008</td>\n",
       "      <td>0.00</td>\n",
       "      <td>98144</td>\n",
       "      <td>47.59</td>\n",
       "      <td>-122.30</td>\n",
       "      <td>1020</td>\n",
       "      <td>1357</td>\n",
       "    </tr>\n",
       "  </tbody>\n",
       "</table>\n",
       "</div>"
      ],
      "text/plain": [
       "               id        date     price  bedrooms  bathrooms  sqft_living  \\\n",
       "0      7129300520  10/13/2014 221900.00         3       1.00         1180   \n",
       "10798  2337300370    2/6/2015 175000.00         3       1.00         1030   \n",
       "21596  1523300157  10/15/2014 325000.00         2       0.75         1020   \n",
       "\n",
       "       sqft_lot  floors waterfront  view condition      grade  sqft_above  \\\n",
       "0          5650    1.00        NaN  NONE   Average  7 Average        1180   \n",
       "10798      8395    1.00         NO  NONE      Good  7 Average        1030   \n",
       "21596      1076    2.00         NO  NONE   Average  7 Average        1020   \n",
       "\n",
       "      sqft_basement  yr_built  yr_renovated  zipcode   lat    long  \\\n",
       "0               0.0      1955          0.00    98178 47.51 -122.26   \n",
       "10798           0.0      1960          0.00    98023 47.33 -122.34   \n",
       "21596           0.0      2008          0.00    98144 47.59 -122.30   \n",
       "\n",
       "       sqft_living15  sqft_lot15  \n",
       "0               1340        5650  \n",
       "10798           1370        9380  \n",
       "21596           1020        1357  "
      ]
     },
     "metadata": {},
     "output_type": "display_data"
    }
   ],
   "source": [
    "numeric_cols, object_cols = dataframe_info(df)"
   ]
  },
  {
   "cell_type": "code",
   "execution_count": 7,
   "metadata": {},
   "outputs": [
    {
     "name": "stdout",
     "output_type": "stream",
     "text": [
      "<class 'pandas.core.frame.DataFrame'>\n",
      "RangeIndex: 21597 entries, 0 to 21596\n",
      "Data columns (total 6 columns):\n",
      " #   Column         Non-Null Count  Dtype \n",
      "---  ------         --------------  ----- \n",
      " 0   date           21597 non-null  object\n",
      " 1   waterfront     19221 non-null  object\n",
      " 2   view           21534 non-null  object\n",
      " 3   condition      21597 non-null  object\n",
      " 4   grade          21597 non-null  object\n",
      " 5   sqft_basement  21597 non-null  object\n",
      "dtypes: object(6)\n",
      "memory usage: 1012.5+ KB\n"
     ]
    }
   ],
   "source": [
    "df[object_cols].info()"
   ]
  },
  {
   "cell_type": "code",
   "execution_count": 8,
   "metadata": {},
   "outputs": [
    {
     "name": "stdout",
     "output_type": "stream",
     "text": [
      "<class 'pandas.core.frame.DataFrame'>\n",
      "RangeIndex: 21597 entries, 0 to 21596\n",
      "Data columns (total 15 columns):\n",
      " #   Column         Non-Null Count  Dtype  \n",
      "---  ------         --------------  -----  \n",
      " 0   id             21597 non-null  int64  \n",
      " 1   price          21597 non-null  float64\n",
      " 2   bedrooms       21597 non-null  int64  \n",
      " 3   bathrooms      21597 non-null  float64\n",
      " 4   sqft_living    21597 non-null  int64  \n",
      " 5   sqft_lot       21597 non-null  int64  \n",
      " 6   floors         21597 non-null  float64\n",
      " 7   sqft_above     21597 non-null  int64  \n",
      " 8   yr_built       21597 non-null  int64  \n",
      " 9   yr_renovated   17755 non-null  float64\n",
      " 10  zipcode        21597 non-null  int64  \n",
      " 11  lat            21597 non-null  float64\n",
      " 12  long           21597 non-null  float64\n",
      " 13  sqft_living15  21597 non-null  int64  \n",
      " 14  sqft_lot15     21597 non-null  int64  \n",
      "dtypes: float64(6), int64(9)\n",
      "memory usage: 2.5 MB\n"
     ]
    }
   ],
   "source": [
    "df[numeric_cols].info()"
   ]
  },
  {
   "cell_type": "markdown",
   "metadata": {},
   "source": [
    "### Investigate and address issues\n",
    "- Change dtype\n",
    "    - `sqft_basement`\n",
    "- Missing data\n",
    "    - `yr_renovated`\n",
    "    - `waterfront`\n",
    "    - `view`\n"
   ]
  },
  {
   "cell_type": "markdown",
   "metadata": {},
   "source": [
    "#### Figure out why sqft_basement was an object rather than numeric"
   ]
  },
  {
   "cell_type": "code",
   "execution_count": 9,
   "metadata": {},
   "outputs": [
    {
     "data": {
      "text/plain": [
       "?    454\n",
       "Name: sqft_basement, dtype: int64"
      ]
     },
     "execution_count": 9,
     "metadata": {},
     "output_type": "execute_result"
    }
   ],
   "source": [
    "## Change sqft_basement to float (force non-numeric values to NaN)\n",
    "sqft_basement_float = pd.to_numeric(df['sqft_basement'], errors='coerce')\n",
    "\n",
    "## Find NaNs (rows that contained non-numeric data)\n",
    "nan_filt = sqft_basement_float.isna()\n",
    "\n",
    "## Find out what those rows contained in original df\n",
    "df['sqft_basement'][nan_filt].value_counts()"
   ]
  },
  {
   "cell_type": "markdown",
   "metadata": {},
   "source": [
    "Should all of those \"questionable\" basement values be zeroes?"
   ]
  },
  {
   "cell_type": "code",
   "execution_count": 10,
   "metadata": {},
   "outputs": [],
   "source": [
    "# sqft_basement should equal difference between sqft_living and sqft_above\n",
    "sqft_basement_computed = df['sqft_living'] - df['sqft_above']\n",
    "\n",
    "# Make new df to compare computed vs. recorded basement values\n",
    "basement_df = pd.DataFrame(dict(\n",
    "    sqft_basement_float = sqft_basement_float.fillna(0),\n",
    "    sqft_basement_computed = sqft_basement_computed\n",
    "    ))"
   ]
  },
  {
   "cell_type": "code",
   "execution_count": 11,
   "metadata": {},
   "outputs": [
    {
     "data": {
      "text/html": [
       "<div>\n",
       "<style scoped>\n",
       "    .dataframe tbody tr th:only-of-type {\n",
       "        vertical-align: middle;\n",
       "    }\n",
       "\n",
       "    .dataframe tbody tr th {\n",
       "        vertical-align: top;\n",
       "    }\n",
       "\n",
       "    .dataframe thead th {\n",
       "        text-align: right;\n",
       "    }\n",
       "</style>\n",
       "<table border=\"1\" class=\"dataframe\">\n",
       "  <thead>\n",
       "    <tr style=\"text-align: right;\">\n",
       "      <th></th>\n",
       "      <th>sqft_basement_float</th>\n",
       "      <th>sqft_basement_computed</th>\n",
       "    </tr>\n",
       "  </thead>\n",
       "  <tbody>\n",
       "    <tr>\n",
       "      <th>count</th>\n",
       "      <td>454.00</td>\n",
       "      <td>454.00</td>\n",
       "    </tr>\n",
       "    <tr>\n",
       "      <th>mean</th>\n",
       "      <td>0.00</td>\n",
       "      <td>285.82</td>\n",
       "    </tr>\n",
       "    <tr>\n",
       "      <th>std</th>\n",
       "      <td>0.00</td>\n",
       "      <td>450.95</td>\n",
       "    </tr>\n",
       "    <tr>\n",
       "      <th>min</th>\n",
       "      <td>0.00</td>\n",
       "      <td>0.00</td>\n",
       "    </tr>\n",
       "    <tr>\n",
       "      <th>25%</th>\n",
       "      <td>0.00</td>\n",
       "      <td>0.00</td>\n",
       "    </tr>\n",
       "    <tr>\n",
       "      <th>50%</th>\n",
       "      <td>0.00</td>\n",
       "      <td>0.00</td>\n",
       "    </tr>\n",
       "    <tr>\n",
       "      <th>75%</th>\n",
       "      <td>0.00</td>\n",
       "      <td>560.00</td>\n",
       "    </tr>\n",
       "    <tr>\n",
       "      <th>max</th>\n",
       "      <td>0.00</td>\n",
       "      <td>2620.00</td>\n",
       "    </tr>\n",
       "  </tbody>\n",
       "</table>\n",
       "</div>"
      ],
      "text/plain": [
       "       sqft_basement_float  sqft_basement_computed\n",
       "count               454.00                  454.00\n",
       "mean                  0.00                  285.82\n",
       "std                   0.00                  450.95\n",
       "min                   0.00                    0.00\n",
       "25%                   0.00                    0.00\n",
       "50%                   0.00                    0.00\n",
       "75%                   0.00                  560.00\n",
       "max                   0.00                 2620.00"
      ]
     },
     "execution_count": 11,
     "metadata": {},
     "output_type": "execute_result"
    }
   ],
   "source": [
    "# find out what the computed column contains in the NaN rows... Are they actually zeroes?\n",
    "basement_df.loc[nan_filt].describe()"
   ]
  },
  {
   "cell_type": "code",
   "execution_count": 12,
   "metadata": {},
   "outputs": [
    {
     "data": {
      "text/plain": [
       "0"
      ]
     },
     "execution_count": 12,
     "metadata": {},
     "output_type": "execute_result"
    }
   ],
   "source": [
    "# Maybe we should use the computed values?\n",
    "# In the other rows (without NaNs), does the recorded value always equal the computed value?\n",
    "notnan_filt = (~nan_filt) & (basement_df['sqft_basement_float'] != basement_df['sqft_basement_computed'])\n",
    "basement_df.loc[notnan_filt].shape[0]"
   ]
  },
  {
   "cell_type": "markdown",
   "metadata": {},
   "source": [
    "Let's save the computed values to use later, instead of the original recorded values."
   ]
  },
  {
   "cell_type": "code",
   "execution_count": 13,
   "metadata": {},
   "outputs": [],
   "source": [
    "df['sqft_basement_computed'] = basement_df['sqft_basement_computed']"
   ]
  },
  {
   "cell_type": "code",
   "execution_count": 14,
   "metadata": {},
   "outputs": [],
   "source": [
    "# drop the sqft_basement object column, since we're convinced that it is wrong\n",
    "df.drop(columns=['sqft_basement'], inplace=True)"
   ]
  },
  {
   "cell_type": "markdown",
   "metadata": {},
   "source": [
    "Let's also create a simple `has_basement` feature, if the `sqft_basement_computed` if greater than 0"
   ]
  },
  {
   "cell_type": "code",
   "execution_count": 15,
   "metadata": {},
   "outputs": [],
   "source": [
    "df['has_basement'] = (df['sqft_basement_computed'] > 0).astype(int)"
   ]
  },
  {
   "cell_type": "markdown",
   "metadata": {},
   "source": [
    "#### Determine how to use `yr_renovated`"
   ]
  },
  {
   "cell_type": "code",
   "execution_count": 16,
   "metadata": {},
   "outputs": [
    {
     "data": {
      "text/plain": [
       "count   17755.00\n",
       "mean       83.64\n",
       "std       399.95\n",
       "min         0.00\n",
       "25%         0.00\n",
       "50%         0.00\n",
       "75%         0.00\n",
       "max      2015.00\n",
       "Name: yr_renovated, dtype: float64"
      ]
     },
     "execution_count": 16,
     "metadata": {},
     "output_type": "execute_result"
    }
   ],
   "source": [
    "df['yr_renovated'].describe()"
   ]
  },
  {
   "cell_type": "code",
   "execution_count": 17,
   "metadata": {},
   "outputs": [
    {
     "data": {
      "text/plain": [
       "count    744.00\n",
       "mean    1995.93\n",
       "std       15.60\n",
       "min     1934.00\n",
       "25%     1987.00\n",
       "50%     2000.00\n",
       "75%     2007.25\n",
       "max     2015.00\n",
       "Name: yr_renovated, dtype: float64"
      ]
     },
     "execution_count": 17,
     "metadata": {},
     "output_type": "execute_result"
    }
   ],
   "source": [
    "df['yr_renovated'].loc[ df['yr_renovated'] > 0 ].describe()"
   ]
  },
  {
   "cell_type": "markdown",
   "metadata": {},
   "source": [
    "There are tons of missing rows for `yr_renovated` and most rows have values of 0. We can't be certain that any of those houses have been renovated.\n",
    "\n",
    "Even when there are four-digit year values in `yr_renovated`, lots of them are not even recent!\n",
    "\n",
    "So, let's make a simple feature `renovated` that captures whether the house was renovated recently (in last 5 years)"
   ]
  },
  {
   "cell_type": "code",
   "execution_count": 18,
   "metadata": {},
   "outputs": [],
   "source": [
    "df['yr_renovated_missing'] = (df['yr_renovated'].isna()).astype(int)"
   ]
  },
  {
   "cell_type": "code",
   "execution_count": 19,
   "metadata": {},
   "outputs": [],
   "source": [
    "df['yr_renovated'].fillna(0, inplace=True)"
   ]
  },
  {
   "cell_type": "code",
   "execution_count": 20,
   "metadata": {},
   "outputs": [],
   "source": [
    "df['sold_dt'] = pd.to_datetime(df['date'])\n",
    "df['sold_year'] = pd.DatetimeIndex(df['sold_dt']).year\n",
    "df['sold_month'] = pd.DatetimeIndex(df['sold_dt']).month"
   ]
  },
  {
   "cell_type": "code",
   "execution_count": 21,
   "metadata": {},
   "outputs": [],
   "source": [
    "df['renovated'] = ((df['sold_year'] - df['yr_renovated']) <= 5).astype(int)"
   ]
  },
  {
   "cell_type": "code",
   "execution_count": 22,
   "metadata": {},
   "outputs": [
    {
     "data": {
      "text/plain": [
       "0    21433\n",
       "1      164\n",
       "Name: renovated, dtype: int64"
      ]
     },
     "execution_count": 22,
     "metadata": {},
     "output_type": "execute_result"
    }
   ],
   "source": [
    "df['renovated'].value_counts()"
   ]
  },
  {
   "cell_type": "markdown",
   "metadata": {},
   "source": [
    "#### Also create a house age column"
   ]
  },
  {
   "cell_type": "markdown",
   "metadata": {},
   "source": [
    "There are obvious issues with individual values (e.g., -1) that will need to be removed as outliers later"
   ]
  },
  {
   "cell_type": "code",
   "execution_count": 23,
   "metadata": {},
   "outputs": [],
   "source": [
    "df['house_age'] = df['sold_year'] - df['yr_built']"
   ]
  },
  {
   "cell_type": "code",
   "execution_count": 24,
   "metadata": {},
   "outputs": [
    {
     "data": {
      "text/plain": [
       "count   21597.00\n",
       "mean       43.32\n",
       "std        29.38\n",
       "min        -1.00\n",
       "25%        18.00\n",
       "50%        40.00\n",
       "75%        63.00\n",
       "max       115.00\n",
       "Name: house_age, dtype: float64"
      ]
     },
     "execution_count": 24,
     "metadata": {},
     "output_type": "execute_result"
    }
   ],
   "source": [
    "df['house_age'].describe()"
   ]
  },
  {
   "cell_type": "markdown",
   "metadata": {},
   "source": [
    "#### Fill NaN values in `view` column"
   ]
  },
  {
   "cell_type": "code",
   "execution_count": 25,
   "metadata": {},
   "outputs": [
    {
     "data": {
      "text/plain": [
       "NONE         19422\n",
       "AVERAGE        957\n",
       "GOOD           508\n",
       "FAIR           330\n",
       "EXCELLENT      317\n",
       "NaN             63\n",
       "Name: view, dtype: int64"
      ]
     },
     "execution_count": 25,
     "metadata": {},
     "output_type": "execute_result"
    }
   ],
   "source": [
    "df['view'].value_counts(dropna=False)"
   ]
  },
  {
   "cell_type": "code",
   "execution_count": 26,
   "metadata": {},
   "outputs": [],
   "source": [
    "df['view_missing'] = (df['view'].isna()).astype(int)"
   ]
  },
  {
   "cell_type": "code",
   "execution_count": 27,
   "metadata": {},
   "outputs": [
    {
     "data": {
      "text/plain": [
       "0    21534\n",
       "1       63\n",
       "Name: view_missing, dtype: int64"
      ]
     },
     "execution_count": 27,
     "metadata": {},
     "output_type": "execute_result"
    }
   ],
   "source": [
    "df['view_missing'].value_counts()"
   ]
  },
  {
   "cell_type": "code",
   "execution_count": 28,
   "metadata": {},
   "outputs": [],
   "source": [
    "df['view'].fillna('NONE', inplace=True)"
   ]
  },
  {
   "cell_type": "code",
   "execution_count": 29,
   "metadata": {},
   "outputs": [
    {
     "data": {
      "text/plain": [
       "view       view_missing\n",
       "NONE       0               19422\n",
       "AVERAGE    0                 957\n",
       "GOOD       0                 508\n",
       "FAIR       0                 330\n",
       "EXCELLENT  0                 317\n",
       "NONE       1                  63\n",
       "dtype: int64"
      ]
     },
     "execution_count": 29,
     "metadata": {},
     "output_type": "execute_result"
    }
   ],
   "source": [
    "df[['view', 'view_missing']].value_counts()"
   ]
  },
  {
   "cell_type": "markdown",
   "metadata": {},
   "source": [
    "#### Fill NaN values in `waterfront` column"
   ]
  },
  {
   "cell_type": "code",
   "execution_count": 30,
   "metadata": {},
   "outputs": [
    {
     "data": {
      "text/plain": [
       "NO     19075\n",
       "NaN     2376\n",
       "YES      146\n",
       "Name: waterfront, dtype: int64"
      ]
     },
     "execution_count": 30,
     "metadata": {},
     "output_type": "execute_result"
    }
   ],
   "source": [
    "df['waterfront'].value_counts(dropna=False)"
   ]
  },
  {
   "cell_type": "markdown",
   "metadata": {},
   "source": [
    "There are many NaNs in `waterfront`. It's likely that most or all of them should be 'NO', but we can't be certain. So, let's make a `waterfront_missing` flag to keep track of these, so we can evaluate them later."
   ]
  },
  {
   "cell_type": "code",
   "execution_count": 31,
   "metadata": {},
   "outputs": [],
   "source": [
    "df['waterfront_missing'] = (df['waterfront'].isna()).astype(int)"
   ]
  },
  {
   "cell_type": "code",
   "execution_count": 32,
   "metadata": {},
   "outputs": [
    {
     "data": {
      "text/plain": [
       "0    19221\n",
       "1     2376\n",
       "Name: waterfront_missing, dtype: int64"
      ]
     },
     "execution_count": 32,
     "metadata": {},
     "output_type": "execute_result"
    }
   ],
   "source": [
    "df['waterfront_missing'].value_counts()"
   ]
  },
  {
   "cell_type": "code",
   "execution_count": 33,
   "metadata": {},
   "outputs": [],
   "source": [
    "df['waterfront'].fillna('NO', inplace=True)"
   ]
  },
  {
   "cell_type": "code",
   "execution_count": 34,
   "metadata": {},
   "outputs": [
    {
     "data": {
      "text/plain": [
       "waterfront  waterfront_missing\n",
       "NO          0                     19075\n",
       "            1                      2376\n",
       "YES         0                       146\n",
       "dtype: int64"
      ]
     },
     "execution_count": 34,
     "metadata": {},
     "output_type": "execute_result"
    }
   ],
   "source": [
    "df[['waterfront', 'waterfront_missing']].value_counts()"
   ]
  },
  {
   "cell_type": "markdown",
   "metadata": {},
   "source": [
    "#### Verify that we've addressed NaNs and dtypes"
   ]
  },
  {
   "cell_type": "code",
   "execution_count": 35,
   "metadata": {},
   "outputs": [
    {
     "name": "stdout",
     "output_type": "stream",
     "text": [
      "Dimensions: 21597 rows and 30 columns\n",
      "Numeric columns: 24\n",
      "Object columns: 6\n"
     ]
    },
    {
     "data": {
      "text/html": [
       "<div>\n",
       "<style scoped>\n",
       "    .dataframe tbody tr th:only-of-type {\n",
       "        vertical-align: middle;\n",
       "    }\n",
       "\n",
       "    .dataframe tbody tr th {\n",
       "        vertical-align: top;\n",
       "    }\n",
       "\n",
       "    .dataframe thead th {\n",
       "        text-align: right;\n",
       "    }\n",
       "</style>\n",
       "<table border=\"1\" class=\"dataframe\">\n",
       "  <thead>\n",
       "    <tr style=\"text-align: right;\">\n",
       "      <th></th>\n",
       "      <th>id</th>\n",
       "      <th>date</th>\n",
       "      <th>price</th>\n",
       "      <th>bedrooms</th>\n",
       "      <th>bathrooms</th>\n",
       "      <th>sqft_living</th>\n",
       "      <th>sqft_lot</th>\n",
       "      <th>floors</th>\n",
       "      <th>waterfront</th>\n",
       "      <th>view</th>\n",
       "      <th>condition</th>\n",
       "      <th>grade</th>\n",
       "      <th>sqft_above</th>\n",
       "      <th>yr_built</th>\n",
       "      <th>yr_renovated</th>\n",
       "      <th>zipcode</th>\n",
       "      <th>lat</th>\n",
       "      <th>long</th>\n",
       "      <th>sqft_living15</th>\n",
       "      <th>sqft_lot15</th>\n",
       "      <th>sqft_basement_computed</th>\n",
       "      <th>has_basement</th>\n",
       "      <th>yr_renovated_missing</th>\n",
       "      <th>sold_dt</th>\n",
       "      <th>sold_year</th>\n",
       "      <th>sold_month</th>\n",
       "      <th>renovated</th>\n",
       "      <th>house_age</th>\n",
       "      <th>view_missing</th>\n",
       "      <th>waterfront_missing</th>\n",
       "    </tr>\n",
       "  </thead>\n",
       "  <tbody>\n",
       "    <tr>\n",
       "      <th>0</th>\n",
       "      <td>7129300520</td>\n",
       "      <td>10/13/2014</td>\n",
       "      <td>221900.00</td>\n",
       "      <td>3</td>\n",
       "      <td>1.00</td>\n",
       "      <td>1180</td>\n",
       "      <td>5650</td>\n",
       "      <td>1.00</td>\n",
       "      <td>NO</td>\n",
       "      <td>NONE</td>\n",
       "      <td>Average</td>\n",
       "      <td>7 Average</td>\n",
       "      <td>1180</td>\n",
       "      <td>1955</td>\n",
       "      <td>0.00</td>\n",
       "      <td>98178</td>\n",
       "      <td>47.51</td>\n",
       "      <td>-122.26</td>\n",
       "      <td>1340</td>\n",
       "      <td>5650</td>\n",
       "      <td>0</td>\n",
       "      <td>0</td>\n",
       "      <td>0</td>\n",
       "      <td>2014-10-13</td>\n",
       "      <td>2014</td>\n",
       "      <td>10</td>\n",
       "      <td>0</td>\n",
       "      <td>59</td>\n",
       "      <td>0</td>\n",
       "      <td>1</td>\n",
       "    </tr>\n",
       "    <tr>\n",
       "      <th>10798</th>\n",
       "      <td>2337300370</td>\n",
       "      <td>2/6/2015</td>\n",
       "      <td>175000.00</td>\n",
       "      <td>3</td>\n",
       "      <td>1.00</td>\n",
       "      <td>1030</td>\n",
       "      <td>8395</td>\n",
       "      <td>1.00</td>\n",
       "      <td>NO</td>\n",
       "      <td>NONE</td>\n",
       "      <td>Good</td>\n",
       "      <td>7 Average</td>\n",
       "      <td>1030</td>\n",
       "      <td>1960</td>\n",
       "      <td>0.00</td>\n",
       "      <td>98023</td>\n",
       "      <td>47.33</td>\n",
       "      <td>-122.34</td>\n",
       "      <td>1370</td>\n",
       "      <td>9380</td>\n",
       "      <td>0</td>\n",
       "      <td>0</td>\n",
       "      <td>0</td>\n",
       "      <td>2015-02-06</td>\n",
       "      <td>2015</td>\n",
       "      <td>2</td>\n",
       "      <td>0</td>\n",
       "      <td>55</td>\n",
       "      <td>0</td>\n",
       "      <td>0</td>\n",
       "    </tr>\n",
       "    <tr>\n",
       "      <th>21596</th>\n",
       "      <td>1523300157</td>\n",
       "      <td>10/15/2014</td>\n",
       "      <td>325000.00</td>\n",
       "      <td>2</td>\n",
       "      <td>0.75</td>\n",
       "      <td>1020</td>\n",
       "      <td>1076</td>\n",
       "      <td>2.00</td>\n",
       "      <td>NO</td>\n",
       "      <td>NONE</td>\n",
       "      <td>Average</td>\n",
       "      <td>7 Average</td>\n",
       "      <td>1020</td>\n",
       "      <td>2008</td>\n",
       "      <td>0.00</td>\n",
       "      <td>98144</td>\n",
       "      <td>47.59</td>\n",
       "      <td>-122.30</td>\n",
       "      <td>1020</td>\n",
       "      <td>1357</td>\n",
       "      <td>0</td>\n",
       "      <td>0</td>\n",
       "      <td>0</td>\n",
       "      <td>2014-10-15</td>\n",
       "      <td>2014</td>\n",
       "      <td>10</td>\n",
       "      <td>0</td>\n",
       "      <td>6</td>\n",
       "      <td>0</td>\n",
       "      <td>0</td>\n",
       "    </tr>\n",
       "  </tbody>\n",
       "</table>\n",
       "</div>"
      ],
      "text/plain": [
       "               id        date     price  bedrooms  bathrooms  sqft_living  \\\n",
       "0      7129300520  10/13/2014 221900.00         3       1.00         1180   \n",
       "10798  2337300370    2/6/2015 175000.00         3       1.00         1030   \n",
       "21596  1523300157  10/15/2014 325000.00         2       0.75         1020   \n",
       "\n",
       "       sqft_lot  floors waterfront  view condition      grade  sqft_above  \\\n",
       "0          5650    1.00         NO  NONE   Average  7 Average        1180   \n",
       "10798      8395    1.00         NO  NONE      Good  7 Average        1030   \n",
       "21596      1076    2.00         NO  NONE   Average  7 Average        1020   \n",
       "\n",
       "       yr_built  yr_renovated  zipcode   lat    long  sqft_living15  \\\n",
       "0          1955          0.00    98178 47.51 -122.26           1340   \n",
       "10798      1960          0.00    98023 47.33 -122.34           1370   \n",
       "21596      2008          0.00    98144 47.59 -122.30           1020   \n",
       "\n",
       "       sqft_lot15  sqft_basement_computed  has_basement  yr_renovated_missing  \\\n",
       "0            5650                       0             0                     0   \n",
       "10798        9380                       0             0                     0   \n",
       "21596        1357                       0             0                     0   \n",
       "\n",
       "         sold_dt  sold_year  sold_month  renovated  house_age  view_missing  \\\n",
       "0     2014-10-13       2014          10          0         59             0   \n",
       "10798 2015-02-06       2015           2          0         55             0   \n",
       "21596 2014-10-15       2014          10          0          6             0   \n",
       "\n",
       "       waterfront_missing  \n",
       "0                       1  \n",
       "10798                   0  \n",
       "21596                   0  "
      ]
     },
     "metadata": {},
     "output_type": "display_data"
    }
   ],
   "source": [
    "numeric_cols, object_cols = dataframe_info(df)"
   ]
  },
  {
   "cell_type": "code",
   "execution_count": 36,
   "metadata": {},
   "outputs": [
    {
     "name": "stdout",
     "output_type": "stream",
     "text": [
      "<class 'pandas.core.frame.DataFrame'>\n",
      "RangeIndex: 21597 entries, 0 to 21596\n",
      "Data columns (total 24 columns):\n",
      " #   Column                  Non-Null Count  Dtype  \n",
      "---  ------                  --------------  -----  \n",
      " 0   id                      21597 non-null  int64  \n",
      " 1   price                   21597 non-null  float64\n",
      " 2   bedrooms                21597 non-null  int64  \n",
      " 3   bathrooms               21597 non-null  float64\n",
      " 4   sqft_living             21597 non-null  int64  \n",
      " 5   sqft_lot                21597 non-null  int64  \n",
      " 6   floors                  21597 non-null  float64\n",
      " 7   sqft_above              21597 non-null  int64  \n",
      " 8   yr_built                21597 non-null  int64  \n",
      " 9   yr_renovated            21597 non-null  float64\n",
      " 10  zipcode                 21597 non-null  int64  \n",
      " 11  lat                     21597 non-null  float64\n",
      " 12  long                    21597 non-null  float64\n",
      " 13  sqft_living15           21597 non-null  int64  \n",
      " 14  sqft_lot15              21597 non-null  int64  \n",
      " 15  sqft_basement_computed  21597 non-null  int64  \n",
      " 16  has_basement            21597 non-null  int64  \n",
      " 17  yr_renovated_missing    21597 non-null  int64  \n",
      " 18  sold_year               21597 non-null  int64  \n",
      " 19  sold_month              21597 non-null  int64  \n",
      " 20  renovated               21597 non-null  int64  \n",
      " 21  house_age               21597 non-null  int64  \n",
      " 22  view_missing            21597 non-null  int64  \n",
      " 23  waterfront_missing      21597 non-null  int64  \n",
      "dtypes: float64(6), int64(18)\n",
      "memory usage: 4.0 MB\n"
     ]
    }
   ],
   "source": [
    "df[numeric_cols].info()"
   ]
  },
  {
   "cell_type": "code",
   "execution_count": 37,
   "metadata": {},
   "outputs": [
    {
     "name": "stdout",
     "output_type": "stream",
     "text": [
      "<class 'pandas.core.frame.DataFrame'>\n",
      "RangeIndex: 21597 entries, 0 to 21596\n",
      "Data columns (total 6 columns):\n",
      " #   Column      Non-Null Count  Dtype         \n",
      "---  ------      --------------  -----         \n",
      " 0   date        21597 non-null  object        \n",
      " 1   waterfront  21597 non-null  object        \n",
      " 2   view        21597 non-null  object        \n",
      " 3   condition   21597 non-null  object        \n",
      " 4   grade       21597 non-null  object        \n",
      " 5   sold_dt     21597 non-null  datetime64[ns]\n",
      "dtypes: datetime64[ns](1), object(5)\n",
      "memory usage: 1012.5+ KB\n"
     ]
    }
   ],
   "source": [
    "df[object_cols].info()"
   ]
  },
  {
   "cell_type": "markdown",
   "metadata": {},
   "source": [
    "#### Check for duplicate `id` records and decide how to handle"
   ]
  },
  {
   "cell_type": "code",
   "execution_count": 38,
   "metadata": {},
   "outputs": [
    {
     "name": "stdout",
     "output_type": "stream",
     "text": [
      "Number of rows:\t\t21597\n",
      "Number unique:\t\t21420\n",
      "Number duplicates:\t177\n"
     ]
    }
   ],
   "source": [
    "print(f\"Number of rows:\\t\\t{len(df['id'])}\")\n",
    "print(f\"Number unique:\\t\\t{len(df['id'].unique())}\")\n",
    "print(f\"Number duplicates:\\t{sum(df['id'].duplicated() == True)}\")"
   ]
  },
  {
   "cell_type": "code",
   "execution_count": 41,
   "metadata": {
    "scrolled": false
   },
   "outputs": [],
   "source": [
    "dup_filt = df.sort_values(by=['sold_year', 'sold_month']).duplicated() == True"
   ]
  },
  {
   "cell_type": "code",
   "execution_count": null,
   "metadata": {},
   "outputs": [],
   "source": []
  }
 ],
 "metadata": {
  "kernelspec": {
   "display_name": "Python (learn-env)",
   "language": "python",
   "name": "learn-env"
  },
  "language_info": {
   "codemirror_mode": {
    "name": "ipython",
    "version": 3
   },
   "file_extension": ".py",
   "mimetype": "text/x-python",
   "name": "python",
   "nbconvert_exporter": "python",
   "pygments_lexer": "ipython3",
   "version": "3.8.5"
  },
  "toc": {
   "base_numbering": 1,
   "nav_menu": {},
   "number_sections": true,
   "sideBar": true,
   "skip_h1_title": false,
   "title_cell": "Table of Contents",
   "title_sidebar": "Contents",
   "toc_cell": false,
   "toc_position": {},
   "toc_section_display": true,
   "toc_window_display": false
  }
 },
 "nbformat": 4,
 "nbformat_minor": 4
}
